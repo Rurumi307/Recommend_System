{
 "cells": [
  {
   "cell_type": "markdown",
   "metadata": {},
   "source": [
    "### https://medium.com/@patelneha1495/recommendation-system-in-python-using-als-algorithm-and-apache-spark-27aca08eaab3"
   ]
  },
  {
   "cell_type": "code",
   "execution_count": 1,
   "metadata": {
    "scrolled": false
   },
   "outputs": [
    {
     "data": {
      "text/html": [
       "\n",
       "            <div>\n",
       "                <p><b>SparkSession - hive</b></p>\n",
       "                \n",
       "        <div>\n",
       "            <p><b>SparkContext</b></p>\n",
       "\n",
       "            <p><a href=\"http://192.168.73.128:4040\">Spark UI</a></p>\n",
       "\n",
       "            <dl>\n",
       "              <dt>Version</dt>\n",
       "                <dd><code>v2.4.5</code></dd>\n",
       "              <dt>Master</dt>\n",
       "                <dd><code>spark://devenv:7077</code></dd>\n",
       "              <dt>AppName</dt>\n",
       "                <dd><code>PySparkShell</code></dd>\n",
       "            </dl>\n",
       "        </div>\n",
       "        \n",
       "            </div>\n",
       "        "
      ],
      "text/plain": [
       "<pyspark.sql.session.SparkSession at 0x7f1968621d10>"
      ]
     },
     "execution_count": 1,
     "metadata": {},
     "output_type": "execute_result"
    }
   ],
   "source": [
    "spark"
   ]
  },
  {
   "cell_type": "code",
   "execution_count": 2,
   "metadata": {},
   "outputs": [
    {
     "data": {
      "text/html": [
       "\n",
       "        <div>\n",
       "            <p><b>SparkContext</b></p>\n",
       "\n",
       "            <p><a href=\"http://192.168.73.128:4040\">Spark UI</a></p>\n",
       "\n",
       "            <dl>\n",
       "              <dt>Version</dt>\n",
       "                <dd><code>v2.4.5</code></dd>\n",
       "              <dt>Master</dt>\n",
       "                <dd><code>spark://devenv:7077</code></dd>\n",
       "              <dt>AppName</dt>\n",
       "                <dd><code>PySparkShell</code></dd>\n",
       "            </dl>\n",
       "        </div>\n",
       "        "
      ],
      "text/plain": [
       "<SparkContext master=spark://devenv:7077 appName=PySparkShell>"
      ]
     },
     "execution_count": 2,
     "metadata": {},
     "output_type": "execute_result"
    }
   ],
   "source": [
    "sc"
   ]
  },
  {
   "cell_type": "code",
   "execution_count": 3,
   "metadata": {},
   "outputs": [],
   "source": [
    "df = spark.read.csv(\"hdfs://devenv/user/spark/recommendation_system/data/ratings.csv\",header=True,\n",
    "                   schema=\"COMMODITY_DESC string, household_key string, QUANTITY Integer,\\\n",
    "                   BASKET_ID string, rating float, rating_label Integer\") "
   ]
  },
  {
   "cell_type": "code",
   "execution_count": 4,
   "metadata": {},
   "outputs": [],
   "source": [
    "df_new = df.select(df['COMMODITY_DESC'],df['household_key'],df['rating_label'])"
   ]
  },
  {
   "cell_type": "code",
   "execution_count": 5,
   "metadata": {
    "scrolled": true
   },
   "outputs": [
    {
     "name": "stdout",
     "output_type": "stream",
     "text": [
      "+--------------------+-------------+------------+\n",
      "|      COMMODITY_DESC|household_key|rating_label|\n",
      "+--------------------+-------------+------------+\n",
      "|              YOGURT|         2500|           5|\n",
      "|WATER - CARBONATE...|         2500|           5|\n",
      "|    WAREHOUSE SNACKS|         2500|           5|\n",
      "|            VITAMINS|         2500|           5|\n",
      "|    VEGETABLES SALAD|         2500|           3|\n",
      "|VEGETABLES - SHEL...|         2500|           5|\n",
      "|VEGETABLES - ALL ...|         2500|           5|\n",
      "|   VALUE ADDED FRUIT|         2500|           4|\n",
      "|           VALENTINE|         2500|           5|\n",
      "|      TROPICAL FRUIT|         2500|           5|\n",
      "|            TOMATOES|         2500|           4|\n",
      "|             TICKETS|         2500|           4|\n",
      "|                TEAS|         2500|           5|\n",
      "|     SYRUPS/TOPPINGS|         2500|           3|\n",
      "|    SUGARS/SWEETNERS|         2500|           5|\n",
      "|         STONE FRUIT|         2500|           5|\n",
      "|STATIONERY & SCHO...|         2500|           5|\n",
      "|              SQUASH|         2500|           4|\n",
      "|SPRING/SUMMER SEA...|         2500|           3|\n",
      "| SPORTS MEMORABLILIA|         2500|           3|\n",
      "+--------------------+-------------+------------+\n",
      "only showing top 20 rows\n",
      "\n"
     ]
    }
   ],
   "source": [
    "df_new.show()"
   ]
  },
  {
   "cell_type": "code",
   "execution_count": 6,
   "metadata": {},
   "outputs": [],
   "source": [
    "import pandas as pd\n",
    "import numpy as np"
   ]
  },
  {
   "cell_type": "code",
   "execution_count": 7,
   "metadata": {},
   "outputs": [],
   "source": [
    "data = pd.DataFrame(df_new.collect()).rename(columns={0:'COMMODITY_DESC',1:'household_key',2:'rating_label'})"
   ]
  },
  {
   "cell_type": "code",
   "execution_count": 8,
   "metadata": {},
   "outputs": [],
   "source": [
    "df_matrix = pd.pivot_table(data, values='rating_label', index='household_key', columns='COMMODITY_DESC')\n",
    "\n",
    "df_matrix_norm = (df_matrix-df_matrix.min())/(df_matrix.max()-df_matrix.min())"
   ]
  },
  {
   "cell_type": "code",
   "execution_count": 9,
   "metadata": {},
   "outputs": [
    {
     "name": "stdout",
     "output_type": "stream",
     "text": [
      "(284168, 3)\n"
     ]
    },
    {
     "data": {
      "text/html": [
       "<div>\n",
       "<style scoped>\n",
       "    .dataframe tbody tr th:only-of-type {\n",
       "        vertical-align: middle;\n",
       "    }\n",
       "\n",
       "    .dataframe tbody tr th {\n",
       "        vertical-align: top;\n",
       "    }\n",
       "\n",
       "    .dataframe thead th {\n",
       "        text-align: right;\n",
       "    }\n",
       "</style>\n",
       "<table border=\"1\" class=\"dataframe\">\n",
       "  <thead>\n",
       "    <tr style=\"text-align: right;\">\n",
       "      <th></th>\n",
       "      <th>household_key</th>\n",
       "      <th>COMMODITY_DESC</th>\n",
       "      <th>scaled_rating_label</th>\n",
       "    </tr>\n",
       "  </thead>\n",
       "  <tbody>\n",
       "    <tr>\n",
       "      <th>3</th>\n",
       "      <td>1000</td>\n",
       "      <td>ADULT INCONTINENCE</td>\n",
       "      <td>0.75</td>\n",
       "    </tr>\n",
       "    <tr>\n",
       "      <th>37</th>\n",
       "      <td>1031</td>\n",
       "      <td>ADULT INCONTINENCE</td>\n",
       "      <td>1.00</td>\n",
       "    </tr>\n",
       "    <tr>\n",
       "      <th>59</th>\n",
       "      <td>1051</td>\n",
       "      <td>ADULT INCONTINENCE</td>\n",
       "      <td>0.75</td>\n",
       "    </tr>\n",
       "    <tr>\n",
       "      <th>75</th>\n",
       "      <td>1066</td>\n",
       "      <td>ADULT INCONTINENCE</td>\n",
       "      <td>0.00</td>\n",
       "    </tr>\n",
       "    <tr>\n",
       "      <th>110</th>\n",
       "      <td>1098</td>\n",
       "      <td>ADULT INCONTINENCE</td>\n",
       "      <td>1.00</td>\n",
       "    </tr>\n",
       "  </tbody>\n",
       "</table>\n",
       "</div>"
      ],
      "text/plain": [
       "    household_key      COMMODITY_DESC  scaled_rating_label\n",
       "3            1000  ADULT INCONTINENCE                 0.75\n",
       "37           1031  ADULT INCONTINENCE                 1.00\n",
       "59           1051  ADULT INCONTINENCE                 0.75\n",
       "75           1066  ADULT INCONTINENCE                 0.00\n",
       "110          1098  ADULT INCONTINENCE                 1.00"
      ]
     },
     "execution_count": 9,
     "metadata": {},
     "output_type": "execute_result"
    }
   ],
   "source": [
    "# create a table for input to the modeling  \n",
    "\n",
    "d = df_matrix_norm.reset_index() \n",
    "\n",
    "d.index.names = ['scaled_rating_label'] \n",
    "\n",
    "data_norm = pd.melt(d, id_vars=['household_key'], value_name='scaled_rating_label').dropna()\n",
    "\n",
    "print(data_norm.shape)\n",
    "\n",
    "data_norm.head()\n",
    "\n"
   ]
  },
  {
   "cell_type": "code",
   "execution_count": 10,
   "metadata": {},
   "outputs": [],
   "source": [
    "data_norm = spark.createDataFrame(data_norm)"
   ]
  },
  {
   "cell_type": "code",
   "execution_count": 11,
   "metadata": {},
   "outputs": [
    {
     "name": "stdout",
     "output_type": "stream",
     "text": [
      "+-------------+------------------+-------------------+\n",
      "|household_key|    COMMODITY_DESC|scaled_rating_label|\n",
      "+-------------+------------------+-------------------+\n",
      "|         1000|ADULT INCONTINENCE|               0.75|\n",
      "|         1031|ADULT INCONTINENCE|                1.0|\n",
      "|         1051|ADULT INCONTINENCE|               0.75|\n",
      "|         1066|ADULT INCONTINENCE|                0.0|\n",
      "|         1098|ADULT INCONTINENCE|                1.0|\n",
      "|         1130|ADULT INCONTINENCE|               0.25|\n",
      "|         1137|ADULT INCONTINENCE|                1.0|\n",
      "|         1179|ADULT INCONTINENCE|               0.75|\n",
      "|         1185|ADULT INCONTINENCE|                1.0|\n",
      "|          120|ADULT INCONTINENCE|                1.0|\n",
      "|         1236|ADULT INCONTINENCE|               0.25|\n",
      "|          125|ADULT INCONTINENCE|               0.25|\n",
      "|         1274|ADULT INCONTINENCE|                1.0|\n",
      "|         1299|ADULT INCONTINENCE|                1.0|\n",
      "|         1318|ADULT INCONTINENCE|                1.0|\n",
      "|         1326|ADULT INCONTINENCE|                1.0|\n",
      "|         1354|ADULT INCONTINENCE|                1.0|\n",
      "|         1357|ADULT INCONTINENCE|                1.0|\n",
      "|         1364|ADULT INCONTINENCE|               0.25|\n",
      "|         1383|ADULT INCONTINENCE|               0.75|\n",
      "+-------------+------------------+-------------------+\n",
      "only showing top 20 rows\n",
      "\n"
     ]
    }
   ],
   "source": [
    "data_norm.show()"
   ]
  },
  {
   "cell_type": "markdown",
   "metadata": {},
   "source": [
    "### Importing important modules"
   ]
  },
  {
   "cell_type": "code",
   "execution_count": 12,
   "metadata": {},
   "outputs": [],
   "source": [
    "from pyspark.ml.evaluation import RegressionEvaluator\n",
    "from pyspark.ml.recommendation import ALS"
   ]
  },
  {
   "cell_type": "markdown",
   "metadata": {},
   "source": [
    "### Converting String to index \n",
    "- Before making an ALS model it needs to be clear that ALS only accepts integer value as parameters. Hence we need to convert asin and reviewerID column in index form.\n",
    "- StringIndexer \n",
    " - MLlib method\n",
    " - A label indexer that maps a string column of labels to an ML column of label indices. If the input column is numeric, we cast it to string and index the string values."
   ]
  },
  {
   "cell_type": "code",
   "execution_count": 13,
   "metadata": {},
   "outputs": [
    {
     "name": "stdout",
     "output_type": "stream",
     "text": [
      "+-------------+------------------+-------------------+--------------------+-------------------+-------------------------+\n",
      "|household_key|    COMMODITY_DESC|scaled_rating_label|COMMODITY_DESC_index|household_key_index|scaled_rating_label_index|\n",
      "+-------------+------------------+-------------------+--------------------+-------------------+-------------------------+\n",
      "|         1000|ADULT INCONTINENCE|               0.75|               251.0|              987.0|                      1.0|\n",
      "|         1031|ADULT INCONTINENCE|                1.0|               251.0|              641.0|                      0.0|\n",
      "|         1051|ADULT INCONTINENCE|               0.75|               251.0|              983.0|                      1.0|\n",
      "|         1066|ADULT INCONTINENCE|                0.0|               251.0|             1141.0|                      4.0|\n",
      "|         1098|ADULT INCONTINENCE|                1.0|               251.0|              429.0|                      0.0|\n",
      "|         1130|ADULT INCONTINENCE|               0.25|               251.0|              123.0|                      2.0|\n",
      "|         1137|ADULT INCONTINENCE|                1.0|               251.0|             2103.0|                      0.0|\n",
      "|         1179|ADULT INCONTINENCE|               0.75|               251.0|              104.0|                      1.0|\n",
      "|         1185|ADULT INCONTINENCE|                1.0|               251.0|             1523.0|                      0.0|\n",
      "|          120|ADULT INCONTINENCE|                1.0|               251.0|             2473.0|                      0.0|\n",
      "|         1236|ADULT INCONTINENCE|               0.25|               251.0|             1075.0|                      2.0|\n",
      "|          125|ADULT INCONTINENCE|               0.25|               251.0|              121.0|                      2.0|\n",
      "|         1274|ADULT INCONTINENCE|                1.0|               251.0|              539.0|                      0.0|\n",
      "|         1299|ADULT INCONTINENCE|                1.0|               251.0|              177.0|                      0.0|\n",
      "|         1318|ADULT INCONTINENCE|                1.0|               251.0|              442.0|                      0.0|\n",
      "|         1326|ADULT INCONTINENCE|                1.0|               251.0|              173.0|                      0.0|\n",
      "|         1354|ADULT INCONTINENCE|                1.0|               251.0|             1085.0|                      0.0|\n",
      "|         1357|ADULT INCONTINENCE|                1.0|               251.0|             2018.0|                      0.0|\n",
      "|         1364|ADULT INCONTINENCE|               0.25|               251.0|              607.0|                      2.0|\n",
      "|         1383|ADULT INCONTINENCE|               0.75|               251.0|             1445.0|                      1.0|\n",
      "+-------------+------------------+-------------------+--------------------+-------------------+-------------------------+\n",
      "only showing top 20 rows\n",
      "\n"
     ]
    }
   ],
   "source": [
    "from pyspark.ml.feature import StringIndexer\n",
    "from pyspark.ml import Pipeline\n",
    "from pyspark.sql.functions import col\n",
    "\n",
    "# encoding\n",
    "indexer = [StringIndexer(inputCol=column, outputCol=column+\"_index\") for column in list(set(data_norm.columns)-set(['rating_label']))]\n",
    "\n",
    "# encoding 簡單一點的寫法\n",
    "#indexer = [StringIndexer(inputCol=column, outputCol=column+\"_index\") for column in ['COMMODITY_DESC','household_key']]\n",
    "\n",
    "\n",
    "# make pipeline\n",
    "pipeline = Pipeline(stages=indexer)\n",
    "\n",
    "# fit and transform\n",
    "transformed_norm= pipeline.fit(data_norm).transform(data_norm)\n",
    "\n",
    "transformed_norm.show()"
   ]
  },
  {
   "cell_type": "markdown",
   "metadata": {},
   "source": [
    "### Creating training and test data"
   ]
  },
  {
   "cell_type": "code",
   "execution_count": 14,
   "metadata": {},
   "outputs": [],
   "source": [
    "(training_norm,test_norm)=transformed_norm.randomSplit([0.8, 0.2])"
   ]
  },
  {
   "cell_type": "markdown",
   "metadata": {},
   "source": [
    "### Creating ALS model and fitting data\n",
    "- rating_label type must be numeric"
   ]
  },
  {
   "cell_type": "markdown",
   "metadata": {},
   "source": [
    "### https://www.twblogs.net/a/5c2917d6bd9eee01606d2f58\n",
    "### https://codertw.com/%E7%A8%8B%E5%BC%8F%E8%AA%9E%E8%A8%80/563826/\n",
    "### https://medium.com/@patelneha1495/recommendation-system-in-python-using-als-algorithm-and-apache-spark-27aca08eaab3"
   ]
  },
  {
   "cell_type": "code",
   "execution_count": 15,
   "metadata": {},
   "outputs": [],
   "source": [
    "als=ALS(maxIter=5, # 算法迭代次數 maximum number of iterations\n",
    "        regParam=0.09, #正則項權重\n",
    "        rank=25, #模型中隱藏因子數目\n",
    "        userCol=\"household_key_index\", #column name for user ids. Ids must be (or can be coerced into) integers.\n",
    "        itemCol=\"COMMODITY_DESC_index\", #column name for item ids. Ids must be (or can be coerced into) integers.\n",
    "        ratingCol=\"scaled_rating_label\", #column name for ratings\n",
    "        coldStartStrategy=\"drop\", #drop any rows in the DataFrame of predictions that contain NaN values.\n",
    "        # the model for new_user/new_prod,you can't predictions recommendation,\n",
    "        # so you set drop you will drop the new_user/new_prod\n",
    "        nonnegative=True) #商品推薦分數是否是非負的\n",
    "\n",
    "\n",
    "model=als.fit(training_norm)"
   ]
  },
  {
   "cell_type": "markdown",
   "metadata": {},
   "source": [
    "### Generate predictions and evaluate rmse"
   ]
  },
  {
   "cell_type": "code",
   "execution_count": 16,
   "metadata": {},
   "outputs": [
    {
     "name": "stdout",
     "output_type": "stream",
     "text": [
      "RMSE=0.21930986654355386\n"
     ]
    }
   ],
   "source": [
    "evaluator=RegressionEvaluator(metricName=\"rmse\",labelCol=\"scaled_rating_label\",predictionCol=\"prediction\")\n",
    "\n",
    "predictions=model.transform(test_norm)\n",
    "\n",
    "rmse=evaluator.evaluate(predictions) # Evaluates the output with optional parameters.\n",
    "print(\"RMSE=\"+str(rmse))"
   ]
  },
  {
   "cell_type": "code",
   "execution_count": 17,
   "metadata": {
    "scrolled": true
   },
   "outputs": [
    {
     "data": {
      "text/html": [
       "<div>\n",
       "<style scoped>\n",
       "    .dataframe tbody tr th:only-of-type {\n",
       "        vertical-align: middle;\n",
       "    }\n",
       "\n",
       "    .dataframe tbody tr th {\n",
       "        vertical-align: top;\n",
       "    }\n",
       "\n",
       "    .dataframe thead th {\n",
       "        text-align: right;\n",
       "    }\n",
       "</style>\n",
       "<table border=\"1\" class=\"dataframe\">\n",
       "  <thead>\n",
       "    <tr style=\"text-align: right;\">\n",
       "      <th></th>\n",
       "      <th>household_key</th>\n",
       "      <th>COMMODITY_DESC</th>\n",
       "      <th>scaled_rating_label</th>\n",
       "      <th>COMMODITY_DESC_index</th>\n",
       "      <th>household_key_index</th>\n",
       "      <th>scaled_rating_label_index</th>\n",
       "      <th>prediction</th>\n",
       "    </tr>\n",
       "  </thead>\n",
       "  <tbody>\n",
       "    <tr>\n",
       "      <th>0</th>\n",
       "      <td>108</td>\n",
       "      <td>PIES</td>\n",
       "      <td>1.00</td>\n",
       "      <td>148.0</td>\n",
       "      <td>496.0</td>\n",
       "      <td>0.0</td>\n",
       "      <td>0.772954</td>\n",
       "    </tr>\n",
       "    <tr>\n",
       "      <th>1</th>\n",
       "      <td>2297</td>\n",
       "      <td>PIES</td>\n",
       "      <td>1.00</td>\n",
       "      <td>148.0</td>\n",
       "      <td>2122.0</td>\n",
       "      <td>0.0</td>\n",
       "      <td>0.811888</td>\n",
       "    </tr>\n",
       "    <tr>\n",
       "      <th>2</th>\n",
       "      <td>1950</td>\n",
       "      <td>PIES</td>\n",
       "      <td>1.00</td>\n",
       "      <td>148.0</td>\n",
       "      <td>1721.0</td>\n",
       "      <td>0.0</td>\n",
       "      <td>0.794557</td>\n",
       "    </tr>\n",
       "    <tr>\n",
       "      <th>3</th>\n",
       "      <td>2453</td>\n",
       "      <td>PIES</td>\n",
       "      <td>0.50</td>\n",
       "      <td>148.0</td>\n",
       "      <td>85.0</td>\n",
       "      <td>3.0</td>\n",
       "      <td>0.743665</td>\n",
       "    </tr>\n",
       "    <tr>\n",
       "      <th>4</th>\n",
       "      <td>1845</td>\n",
       "      <td>PIES</td>\n",
       "      <td>0.25</td>\n",
       "      <td>148.0</td>\n",
       "      <td>65.0</td>\n",
       "      <td>2.0</td>\n",
       "      <td>0.746659</td>\n",
       "    </tr>\n",
       "    <tr>\n",
       "      <th>...</th>\n",
       "      <td>...</td>\n",
       "      <td>...</td>\n",
       "      <td>...</td>\n",
       "      <td>...</td>\n",
       "      <td>...</td>\n",
       "      <td>...</td>\n",
       "      <td>...</td>\n",
       "    </tr>\n",
       "    <tr>\n",
       "      <th>56819</th>\n",
       "      <td>2</td>\n",
       "      <td>SOAP - LIQUID &amp; BAR</td>\n",
       "      <td>1.00</td>\n",
       "      <td>89.0</td>\n",
       "      <td>788.0</td>\n",
       "      <td>0.0</td>\n",
       "      <td>0.901642</td>\n",
       "    </tr>\n",
       "    <tr>\n",
       "      <th>56820</th>\n",
       "      <td>2198</td>\n",
       "      <td>SOAP - LIQUID &amp; BAR</td>\n",
       "      <td>1.00</td>\n",
       "      <td>89.0</td>\n",
       "      <td>187.0</td>\n",
       "      <td>0.0</td>\n",
       "      <td>0.633591</td>\n",
       "    </tr>\n",
       "    <tr>\n",
       "      <th>56821</th>\n",
       "      <td>2475</td>\n",
       "      <td>SOAP - LIQUID &amp; BAR</td>\n",
       "      <td>1.00</td>\n",
       "      <td>89.0</td>\n",
       "      <td>393.0</td>\n",
       "      <td>0.0</td>\n",
       "      <td>0.807157</td>\n",
       "    </tr>\n",
       "    <tr>\n",
       "      <th>56822</th>\n",
       "      <td>228</td>\n",
       "      <td>SOAP - LIQUID &amp; BAR</td>\n",
       "      <td>1.00</td>\n",
       "      <td>89.0</td>\n",
       "      <td>954.0</td>\n",
       "      <td>0.0</td>\n",
       "      <td>0.845485</td>\n",
       "    </tr>\n",
       "    <tr>\n",
       "      <th>56823</th>\n",
       "      <td>219</td>\n",
       "      <td>SOAP - LIQUID &amp; BAR</td>\n",
       "      <td>1.00</td>\n",
       "      <td>89.0</td>\n",
       "      <td>89.0</td>\n",
       "      <td>0.0</td>\n",
       "      <td>0.787574</td>\n",
       "    </tr>\n",
       "  </tbody>\n",
       "</table>\n",
       "<p>56824 rows × 7 columns</p>\n",
       "</div>"
      ],
      "text/plain": [
       "      household_key       COMMODITY_DESC  scaled_rating_label  \\\n",
       "0               108                 PIES                 1.00   \n",
       "1              2297                 PIES                 1.00   \n",
       "2              1950                 PIES                 1.00   \n",
       "3              2453                 PIES                 0.50   \n",
       "4              1845                 PIES                 0.25   \n",
       "...             ...                  ...                  ...   \n",
       "56819             2  SOAP - LIQUID & BAR                 1.00   \n",
       "56820          2198  SOAP - LIQUID & BAR                 1.00   \n",
       "56821          2475  SOAP - LIQUID & BAR                 1.00   \n",
       "56822           228  SOAP - LIQUID & BAR                 1.00   \n",
       "56823           219  SOAP - LIQUID & BAR                 1.00   \n",
       "\n",
       "       COMMODITY_DESC_index  household_key_index  scaled_rating_label_index  \\\n",
       "0                     148.0                496.0                        0.0   \n",
       "1                     148.0               2122.0                        0.0   \n",
       "2                     148.0               1721.0                        0.0   \n",
       "3                     148.0                 85.0                        3.0   \n",
       "4                     148.0                 65.0                        2.0   \n",
       "...                     ...                  ...                        ...   \n",
       "56819                  89.0                788.0                        0.0   \n",
       "56820                  89.0                187.0                        0.0   \n",
       "56821                  89.0                393.0                        0.0   \n",
       "56822                  89.0                954.0                        0.0   \n",
       "56823                  89.0                 89.0                        0.0   \n",
       "\n",
       "       prediction  \n",
       "0        0.772954  \n",
       "1        0.811888  \n",
       "2        0.794557  \n",
       "3        0.743665  \n",
       "4        0.746659  \n",
       "...           ...  \n",
       "56819    0.901642  \n",
       "56820    0.633591  \n",
       "56821    0.807157  \n",
       "56822    0.845485  \n",
       "56823    0.787574  \n",
       "\n",
       "[56824 rows x 7 columns]"
      ]
     },
     "execution_count": 17,
     "metadata": {},
     "output_type": "execute_result"
    }
   ],
   "source": [
    "predictions.toPandas()"
   ]
  },
  {
   "cell_type": "markdown",
   "metadata": {},
   "source": [
    "### Providing Recommendations"
   ]
  },
  {
   "cell_type": "code",
   "execution_count": 18,
   "metadata": {},
   "outputs": [
    {
     "name": "stdout",
     "output_type": "stream",
     "text": [
      "+-------------------+--------------------+\n",
      "|household_key_index|     recommendations|\n",
      "+-------------------+--------------------+\n",
      "|               1580|[[3, 0.982944], [...|\n",
      "|                471|[[3, 0.9273664], ...|\n",
      "|               1591|[[3, 0.8198904], ...|\n",
      "|               1342|[[3, 0.91405684],...|\n",
      "|               2122|[[3, 0.99083936],...|\n",
      "|               2142|[[3, 0.9785055], ...|\n",
      "|                463|[[3, 0.9814789], ...|\n",
      "|                833|[[3, 0.8232862], ...|\n",
      "|               1645|[[3, 0.9160063], ...|\n",
      "|                496|[[3, 0.94332737],...|\n",
      "+-------------------+--------------------+\n",
      "only showing top 10 rows\n",
      "\n"
     ]
    }
   ],
   "source": [
    "# Generate top 20 recommendations for each user\n",
    "\n",
    "user_recs=model.recommendForAllUsers(20).show(10)"
   ]
  },
  {
   "cell_type": "markdown",
   "metadata": {},
   "source": [
    "### Converting back to string form"
   ]
  },
  {
   "cell_type": "code",
   "execution_count": 19,
   "metadata": {},
   "outputs": [
    {
     "name": "stdout",
     "output_type": "stream",
     "text": [
      "     household_key                                    recommendations\n",
      "0                1  [VEGETABLES - SHELF STABLE, SOUP, BAKED BREAD/...\n",
      "1               10  [CHEESE, FLUID MILK PRODUCTS, SOUP, VEGETABLES...\n",
      "2              100  [SOUP, VEGETABLES - SHELF STABLE, CHEESE, FLUI...\n",
      "3             1000  [CHEESE, VEGETABLES - SHELF STABLE, BAKED BREA...\n",
      "4             1001  [CHEESE, SOUP, BAKED BREAD/BUNS/ROLLS, VEGETAB...\n",
      "...            ...                                                ...\n",
      "2495           995  [BAKED BREAD/BUNS/ROLLS, FLUID MILK PRODUCTS, ...\n",
      "2496           996  [FLUID MILK PRODUCTS, BAKED BREAD/BUNS/ROLLS, ...\n",
      "2497           997  [CHEESE, SOUP, BAKED BREAD/BUNS/ROLLS, FLUID M...\n",
      "2498           998  [FLUID MILK PRODUCTS, BAKED BREAD/BUNS/ROLLS, ...\n",
      "2499           999  [SOUP, VEGETABLES - SHELF STABLE, CHEESE, FLUI...\n",
      "\n",
      "[2500 rows x 2 columns]\n"
     ]
    },
    {
     "name": "stderr",
     "output_type": "stream",
     "text": [
      "/home/spark/anaconda3/lib/python3.7/site-packages/ipykernel_launcher.py:39: SettingWithCopyWarning: \n",
      "A value is trying to be set on a copy of a slice from a DataFrame.\n",
      "Try using .loc[row_indexer,col_indexer] = value instead\n",
      "\n",
      "See the caveats in the documentation: https://pandas.pydata.org/pandas-docs/stable/user_guide/indexing.html#returning-a-view-versus-a-copy\n"
     ]
    }
   ],
   "source": [
    "import pandas as pd\n",
    "\n",
    "# Generate top 10 recommendations for each user\n",
    "recs=model.recommendForAllUsers(5).toPandas()\n",
    "\n",
    "\n",
    "nrecs=recs.recommendations.apply(pd.Series) \\\n",
    "            .merge(recs, right_index = True, left_index = True) \\\n",
    "            .drop([\"recommendations\"], axis = 1) \\\n",
    "            .melt(id_vars = ['household_key_index'], value_name = \"recommendation\") \\\n",
    "            .drop(\"variable\", axis = 1) \\\n",
    "            .dropna()\n",
    "nrecs=nrecs.sort_values('household_key_index')\n",
    "\n",
    "nrecs=pd.concat([nrecs['recommendation'].apply(pd.Series), nrecs['household_key_index']], axis = 1)\n",
    "nrecs.columns = [\n",
    "        \n",
    "        'ProductID_index',\n",
    "        'Rating',\n",
    "        'UserID_index']\n",
    "\n",
    "# raw data\n",
    "md=transformed_norm.select(transformed_norm['household_key'],transformed_norm['household_key_index'],transformed_norm['COMMODITY_DESC'],transformed_norm['COMMODITY_DESC_index'])\n",
    "md=md.toPandas()\n",
    "\n",
    "\n",
    "dict1 =dict(zip(md['household_key_index'],md['household_key']))\n",
    "dict2=dict(zip(md['COMMODITY_DESC_index'],md['COMMODITY_DESC']))\n",
    "\n",
    "\n",
    "nrecs['household_key']=nrecs['UserID_index'].map(dict1)\n",
    "nrecs['ProductID']=nrecs['ProductID_index'].map(dict2)\n",
    "nrecs=nrecs.sort_values('household_key')\n",
    "nrecs.reset_index(drop=True, inplace=True)\n",
    "\n",
    "\n",
    "new=nrecs[['household_key','ProductID','Rating']]\n",
    "#new['recommendations'] = list(zip(new.ProductID, new.Rating))\n",
    "new['recommendations'] = list(new.ProductID)\n",
    "\n",
    "\n",
    "res=new[['household_key','recommendations']]  \n",
    "res_new=res['recommendations'].groupby([res.household_key]).apply(list).reset_index()\n",
    "print(res_new)"
   ]
  },
  {
   "cell_type": "code",
   "execution_count": 25,
   "metadata": {},
   "outputs": [],
   "source": [
    "res_new.to_csv('./output_data/res_new_norm.csv',index=False)"
   ]
  },
  {
   "cell_type": "code",
   "execution_count": 26,
   "metadata": {},
   "outputs": [],
   "source": [
    "def show_recommendation(household_key):\n",
    "    if household_key not in res_new['household_key']:\n",
    "        return('Customer not found.')\n",
    "    else:\n",
    "        recommendation_list = res_new[res_new['household_key'] == str(household_key)]['recommendations'].tolist()\n",
    "        return [recommendation_list[0][i] for i in range(0,5)]\n",
    "    "
   ]
  },
  {
   "cell_type": "code",
   "execution_count": 27,
   "metadata": {},
   "outputs": [
    {
     "data": {
      "text/plain": [
       "['CHEESE',\n",
       " 'VEGETABLES - SHELF STABLE',\n",
       " 'BAKED BREAD/BUNS/ROLLS',\n",
       " 'FLUID MILK PRODUCTS',\n",
       " 'SOUP']"
      ]
     },
     "execution_count": 27,
     "metadata": {},
     "output_type": "execute_result"
    }
   ],
   "source": [
    "show_recommendation(1000)"
   ]
  },
  {
   "cell_type": "code",
   "execution_count": 43,
   "metadata": {},
   "outputs": [],
   "source": [
    "import pymysql\n",
    "import csv\n",
    "import sys\n",
    "\n",
    "host = '3.113.29.214'  # '3.113.29.214'\n",
    "user = 'eric'  # 'eric'\n",
    "passwd = '123456'  # '123456'\n",
    "port = 3306\n",
    "conninfo = {'host' : host ,'port' : port,'user' : user , 'passwd' : passwd, 'db' : 'recommendation_system','charset' : 'utf8mb4'}\n",
    "\n",
    "\n",
    "def add_csv(path):\n",
    "    try:\n",
    "        conn = pymysql.connect(**conninfo)\n",
    "        cursor = conn.cursor()\n",
    "        csv_data = csv.reader(open(path))\n",
    "        cursor.execute(\"\"\"DROP TABLE IF EXISTS als_1\"\"\")\n",
    "        cursor.execute(\"\"\"CREATE TABLE als_1 (household_key varchar(20), recommendations longtext)\"\"\")\n",
    "        \n",
    "        for row in csv_data:\n",
    "            if csv_data.line_num == 1:\n",
    "                continue\n",
    "            cursor.execute('INSERT INTO als_1 (household_key, recommendations)'\\\n",
    "                           'VALUES(\"%s\", \"%s\")',row)\n",
    "        # close the connection to the database.\n",
    "        conn.commit()\n",
    "        print(\"Done\")\n",
    "    except:\n",
    "        print('異常')\n",
    "        print(sys.exc_info()[0])\n",
    "        print(sys.exc_info()[1])\n",
    "    finally:\n",
    "        cursor.close()\n",
    "        conn.close()\n",
    "        print(\"db close\")"
   ]
  },
  {
   "cell_type": "code",
   "execution_count": 44,
   "metadata": {},
   "outputs": [
    {
     "name": "stdout",
     "output_type": "stream",
     "text": [
      "Done\n",
      "db close\n"
     ]
    }
   ],
   "source": [
    "add_csv('./output_data/res_new_norm.csv')"
   ]
  },
  {
   "cell_type": "code",
   "execution_count": 45,
   "metadata": {},
   "outputs": [],
   "source": [
    "import pymysql\n",
    "import csv\n",
    "import sys\n",
    "\n",
    "host = '3.113.29.214'  # '3.113.29.214'\n",
    "user = 'eric'  # 'eric'\n",
    "passwd = '123456'  # '123456'\n",
    "port = 3306\n",
    "conninfo = {'host' : host ,'port' : port,'user' : user , 'passwd' : passwd, 'db' : 'recommendation_system','charset' : 'utf8mb4'}\n"
   ]
  },
  {
   "cell_type": "code",
   "execution_count": 51,
   "metadata": {},
   "outputs": [
    {
     "name": "stdout",
     "output_type": "stream",
     "text": [
      "db close\n"
     ]
    }
   ],
   "source": [
    "customer_id = 1000\n",
    "try:\n",
    "    conn = pymysql.connect(**conninfo)\n",
    "    cursor = conn.cursor()\n",
    "    try:\n",
    "        recommendation = f\"\"\"select recommendations from als_2 where household_key = '{customer_id}'\"\"\"\n",
    "        cursor.execute(recommendation)\n",
    "        recommendation_item = cursor.fetchall()\n",
    "        rec_list = []\n",
    "        for i in recommendation_item[0][0].split(','):\n",
    "            rec_list.append(i)\n",
    "    except:\n",
    "        print('error')\n",
    "except:\n",
    "    print('異常')\n",
    "    print(sys.exc_info()[0])\n",
    "    print(sys.exc_info()[1])\n",
    "finally:\n",
    "    cursor.close()\n",
    "    conn.close()\n",
    "    print(\"db close\")\n"
   ]
  },
  {
   "cell_type": "code",
   "execution_count": 52,
   "metadata": {},
   "outputs": [],
   "source": [
    "item_list=rec_list"
   ]
  },
  {
   "cell_type": "code",
   "execution_count": 53,
   "metadata": {},
   "outputs": [
    {
     "data": {
      "text/plain": [
       "['CHEESE',\n",
       " ' VEGETABLES - SHELF STABLE',\n",
       " ' BAKED BREAD/BUNS/ROLLS',\n",
       " ' FLUID MILK PRODUCTS',\n",
       " ' SOUP']"
      ]
     },
     "execution_count": 53,
     "metadata": {},
     "output_type": "execute_result"
    }
   ],
   "source": [
    "item_list"
   ]
  },
  {
   "cell_type": "code",
   "execution_count": 55,
   "metadata": {},
   "outputs": [
    {
     "name": "stdout",
     "output_type": "stream",
     "text": [
      "db close\n"
     ]
    }
   ],
   "source": [
    "rec_list = []\n",
    "for i in item_list:\n",
    "    rec_list.append(i)\n",
    "try:\n",
    "    conn = pymysql.connect(host='3.113.29.214', user='eric', password='123456', port=3306, \\\n",
    "                         database=\"store_db\", charset='utf8mb4')\n",
    "    cursor = conn.cursor()\n",
    "    item_dict = {}\n",
    "    for i in rec_list:\n",
    "        i = i.strip()\n",
    "        try:\n",
    "            item = f\"\"\"select * from product where commodity = '{i}' ORDER BY RAND() LIMIT 1\"\"\"\n",
    "            cursor.execute(item)\n",
    "            recommendation_item = cursor.fetchall()\n",
    "            item_dict[i] = recommendation_item\n",
    "        except:\n",
    "             item_dict[i] = 'no item record'\n",
    "except:\n",
    "    print('異常')\n",
    "    print(sys.exc_info()[0])\n",
    "    print(sys.exc_info()[1])\n",
    "finally:\n",
    "    cursor.close()\n",
    "    conn.close()\n",
    "    print(\"db close\")"
   ]
  },
  {
   "cell_type": "code",
   "execution_count": 56,
   "metadata": {},
   "outputs": [
    {
     "data": {
      "text/plain": [
       "{'CHEESE': ((9420140,\n",
       "   'Juvale Cheese Board Set - Charcuterie Board and Cheese Tools, Cheese and Meat Board, Includes 1 Bamboo Cutting Board and 4 Piece Knife Tools, 10.2\" x 10.2\" x 1.5\"',\n",
       "   20.99,\n",
       "   'CHEESE',\n",
       "   'https://m.media-amazon.com/images/I/918s5s6U3SL._AC_UL320_.jpg',\n",
       "   None,\n",
       "   184,\n",
       "   4.6),),\n",
       " 'VEGETABLES - SHELF STABLE': ((1005583,\n",
       "   '72\" Carson 5 Shelf Bookcase - Threshold&#153;',\n",
       "   170.0,\n",
       "   'VEGETABLES - SHELF STABLE',\n",
       "   'https://target.scene7.com/is/image/Target/GUEST_3a9f6d41-d34e-42bf-8020-580e097985ce',\n",
       "   'The Carson 5 Shelf Bookcase from Threshold is the perfect size and fit for any room in the home Made from durable wood this bookshelf features five spacious shelves for displaying your favorite books art and collectibles Clean modern lines make this piece easy to mix in with any style of decor whether in your bedroom living room or home office br br Depth at top of frame 13 6 br Overall width 30 6 br Overall height 72 br Overall depth at floor 12 2 br Distance between shelves 11 2 br Distance between side frames 26 7 br Depth of top shelf 12 2 ',\n",
       "   3043,\n",
       "   4.09),),\n",
       " 'BAKED BREAD/BUNS/ROLLS': ((1967501,\n",
       "   'Organic Chives ',\n",
       "   5.89,\n",
       "   'BAKED BREAD/BUNS/ROLLS',\n",
       "   'https://target.scene7.com/is/image/Target/GUEST_d12f3f09-5984-4e76-97df-390afedc6514',\n",
       "   ' Enhance the flavor of your favorite savory dishes by topping them off with Organic Chives from Good Gather Chives have a mild oniony taste that complements an array of other savory flavors and they pair well a wide range of seasonings for easy incorporation into your cooking Adding the perfect finishing touch to everything from your homemade baked potato soup to omelets to chili to a cream cheese topped bagel chives are a seasoning youre sure to use again and again Every product that carries the Good Gather name starts with quality ingredients that deliver great taste making it easier for you and your family to eat well every day We promise you xa1 xa6ll love each bite or your money back ',\n",
       "   2,\n",
       "   5.0),),\n",
       " 'FLUID MILK PRODUCTS': ((2177115,\n",
       "   'Mommy Knows Best Lactation Supplement - 120ct',\n",
       "   16.99,\n",
       "   'FLUID MILK PRODUCTS',\n",
       "   'https://target.scene7.com/is/image/Target/GUEST_0db0b8e4-e1f2-4021-ae00-ea4a949abf7a',\n",
       "   ' COMPLETE SOLUTION FOR INCREASED BREASTMILK SUPPLY WITH ONLY 1 PILLS You are probably tired of taking multiple capsules at multiple times throughout the day we get that we have been there For this reason you dont have to remember to take the lactation supplement three times take one capsule a day and you are done MADE IN USA WITHOUT ANYTHING HARMFUL AND LOADED WITH HEALTHY NUTRIENTS YOUR PRECIOUS BABY DESERVES HEALTHY SUPPLEMENTS SO DO YOU While breastfeeding it is important that you the foods you eat are not only healthy for you but for baby as well With that in mind this lactation supplement doesn xa1 xa6t contain anything that could potentially be bad for you It is free of soy diary artifical flavor or color and preservatives WITH THE APPROVAL OF TENS OF THOUSANDS AMAZING MAMAS Don xa1 xa6t just take our word for it but how about believing tens of thousands of other mothers that have seen a milk supply increase with your new goats rue in the past We stand by our product however if you don xa1 xa6t like it or don xa1 xa6t see the results you were hoping for reach out to our team it was on us ',\n",
       "   0,\n",
       "   0.0),),\n",
       " 'SOUP': ((1438000,\n",
       "   'Progresso Traditional Chicken &#38; Wild Rice Soup ',\n",
       "   1.59,\n",
       "   'SOUP',\n",
       "   'https://target.scene7.com/is/image/Target/GUEST_7fc79dcc-b975-4e55-bad6-cd3f5d8b0337',\n",
       "   'A classic never goes out of style xa1X like Progresso Traditional Chicken Wild Rice Soup a tasty Midwestern favorite full of flavor Made with all white meat chicken with no antibiotics ever hearty vegetables and wholesome wild rice this classic canned soup will warm the heart with only 80 calories per serving Go from can to bowl in less than five minutes and serve this chicken and rice soup on its own or with freshly baked bread for a quick and comforting meal Have a can of chicken and wild rice soup handy for days when you crave a trusted and easy meal option ',\n",
       "   39,\n",
       "   4.54),)}"
      ]
     },
     "execution_count": 56,
     "metadata": {},
     "output_type": "execute_result"
    }
   ],
   "source": [
    "item_dict"
   ]
  }
 ],
 "metadata": {
  "kernelspec": {
   "display_name": "Python 3",
   "language": "python",
   "name": "python3"
  },
  "language_info": {
   "codemirror_mode": {
    "name": "ipython",
    "version": 3
   },
   "file_extension": ".py",
   "mimetype": "text/x-python",
   "name": "python",
   "nbconvert_exporter": "python",
   "pygments_lexer": "ipython3",
   "version": "3.7.6"
  }
 },
 "nbformat": 4,
 "nbformat_minor": 4
}
