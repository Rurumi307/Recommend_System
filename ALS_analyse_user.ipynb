{
 "cells": [
  {
   "cell_type": "markdown",
   "metadata": {},
   "source": [
    "### https://medium.com/@patelneha1495/recommendation-system-in-python-using-als-algorithm-and-apache-spark-27aca08eaab3"
   ]
  },
  {
   "cell_type": "code",
   "execution_count": 1,
   "metadata": {
    "scrolled": false
   },
   "outputs": [
    {
     "data": {
      "text/html": [
       "\n",
       "            <div>\n",
       "                <p><b>SparkSession - hive</b></p>\n",
       "                \n",
       "        <div>\n",
       "            <p><b>SparkContext</b></p>\n",
       "\n",
       "            <p><a href=\"http://192.168.73.128:4041\">Spark UI</a></p>\n",
       "\n",
       "            <dl>\n",
       "              <dt>Version</dt>\n",
       "                <dd><code>v2.4.5</code></dd>\n",
       "              <dt>Master</dt>\n",
       "                <dd><code>spark://devenv:7077</code></dd>\n",
       "              <dt>AppName</dt>\n",
       "                <dd><code>PySparkShell</code></dd>\n",
       "            </dl>\n",
       "        </div>\n",
       "        \n",
       "            </div>\n",
       "        "
      ],
      "text/plain": [
       "<pyspark.sql.session.SparkSession at 0x7f642856cd10>"
      ]
     },
     "execution_count": 1,
     "metadata": {},
     "output_type": "execute_result"
    }
   ],
   "source": [
    "spark"
   ]
  },
  {
   "cell_type": "code",
   "execution_count": 2,
   "metadata": {},
   "outputs": [
    {
     "data": {
      "text/html": [
       "\n",
       "        <div>\n",
       "            <p><b>SparkContext</b></p>\n",
       "\n",
       "            <p><a href=\"http://192.168.73.128:4041\">Spark UI</a></p>\n",
       "\n",
       "            <dl>\n",
       "              <dt>Version</dt>\n",
       "                <dd><code>v2.4.5</code></dd>\n",
       "              <dt>Master</dt>\n",
       "                <dd><code>spark://devenv:7077</code></dd>\n",
       "              <dt>AppName</dt>\n",
       "                <dd><code>PySparkShell</code></dd>\n",
       "            </dl>\n",
       "        </div>\n",
       "        "
      ],
      "text/plain": [
       "<SparkContext master=spark://devenv:7077 appName=PySparkShell>"
      ]
     },
     "execution_count": 2,
     "metadata": {},
     "output_type": "execute_result"
    }
   ],
   "source": [
    "sc"
   ]
  },
  {
   "cell_type": "code",
   "execution_count": 3,
   "metadata": {},
   "outputs": [],
   "source": [
    "df = spark.read.csv(\"hdfs://devenv/user/spark/recommendation_system/data/ratings.csv\",header=True,\n",
    "                   schema=\"COMMODITY_DESC string, household_key string, QUANTITY Integer,\\\n",
    "                   BASKET_ID string, rating float, rating_label Integer\") "
   ]
  },
  {
   "cell_type": "code",
   "execution_count": 4,
   "metadata": {},
   "outputs": [],
   "source": [
    "df_new = df.select(df['COMMODITY_DESC'],df['household_key'],df['rating_label'])"
   ]
  },
  {
   "cell_type": "code",
   "execution_count": 5,
   "metadata": {
    "scrolled": true
   },
   "outputs": [
    {
     "name": "stdout",
     "output_type": "stream",
     "text": [
      "+--------------------+-------------+------------+\n",
      "|      COMMODITY_DESC|household_key|rating_label|\n",
      "+--------------------+-------------+------------+\n",
      "|              YOGURT|         2500|           5|\n",
      "|WATER - CARBONATE...|         2500|           5|\n",
      "|    WAREHOUSE SNACKS|         2500|           5|\n",
      "|            VITAMINS|         2500|           5|\n",
      "|    VEGETABLES SALAD|         2500|           3|\n",
      "|VEGETABLES - SHEL...|         2500|           5|\n",
      "|VEGETABLES - ALL ...|         2500|           5|\n",
      "|   VALUE ADDED FRUIT|         2500|           4|\n",
      "|           VALENTINE|         2500|           5|\n",
      "|      TROPICAL FRUIT|         2500|           5|\n",
      "|            TOMATOES|         2500|           4|\n",
      "|             TICKETS|         2500|           4|\n",
      "|                TEAS|         2500|           5|\n",
      "|     SYRUPS/TOPPINGS|         2500|           3|\n",
      "|    SUGARS/SWEETNERS|         2500|           5|\n",
      "|         STONE FRUIT|         2500|           5|\n",
      "|STATIONERY & SCHO...|         2500|           5|\n",
      "|              SQUASH|         2500|           4|\n",
      "|SPRING/SUMMER SEA...|         2500|           3|\n",
      "| SPORTS MEMORABLILIA|         2500|           3|\n",
      "+--------------------+-------------+------------+\n",
      "only showing top 20 rows\n",
      "\n"
     ]
    }
   ],
   "source": [
    "df_new.show()"
   ]
  },
  {
   "cell_type": "markdown",
   "metadata": {},
   "source": [
    "### Importing important modules"
   ]
  },
  {
   "cell_type": "code",
   "execution_count": 8,
   "metadata": {},
   "outputs": [],
   "source": [
    "from pyspark.ml.evaluation import RegressionEvaluator\n",
    "from pyspark.ml.recommendation import ALS"
   ]
  },
  {
   "cell_type": "markdown",
   "metadata": {},
   "source": [
    "### Converting String to index \n",
    "- Before making an ALS model it needs to be clear that ALS only accepts integer value as parameters. Hence we need to convert asin and reviewerID column in index form.\n",
    "- StringIndexer \n",
    " - MLlib method\n",
    " - A label indexer that maps a string column of labels to an ML column of label indices. If the input column is numeric, we cast it to string and index the string values."
   ]
  },
  {
   "cell_type": "code",
   "execution_count": 9,
   "metadata": {},
   "outputs": [
    {
     "name": "stdout",
     "output_type": "stream",
     "text": [
      "+--------------------+-------------+------------+--------------------+-------------------+\n",
      "|      COMMODITY_DESC|household_key|rating_label|COMMODITY_DESC_index|household_key_index|\n",
      "+--------------------+-------------+------------+--------------------+-------------------+\n",
      "|              YOGURT|         2500|           5|                51.0|              234.0|\n",
      "|WATER - CARBONATE...|         2500|           5|                35.0|              234.0|\n",
      "|    WAREHOUSE SNACKS|         2500|           5|                81.0|              234.0|\n",
      "|            VITAMINS|         2500|           5|               162.0|              234.0|\n",
      "|    VEGETABLES SALAD|         2500|           3|                65.0|              234.0|\n",
      "|VEGETABLES - SHEL...|         2500|           5|                16.0|              234.0|\n",
      "|VEGETABLES - ALL ...|         2500|           5|                36.0|              234.0|\n",
      "|   VALUE ADDED FRUIT|         2500|           4|               104.0|              234.0|\n",
      "|           VALENTINE|         2500|           5|               218.0|              234.0|\n",
      "|      TROPICAL FRUIT|         2500|           5|                11.0|              234.0|\n",
      "|            TOMATOES|         2500|           4|                37.0|              234.0|\n",
      "|             TICKETS|         2500|           4|               217.0|              234.0|\n",
      "|                TEAS|         2500|           5|               125.0|              234.0|\n",
      "|     SYRUPS/TOPPINGS|         2500|           3|               181.0|              234.0|\n",
      "|    SUGARS/SWEETNERS|         2500|           5|                38.0|              234.0|\n",
      "|         STONE FRUIT|         2500|           5|               101.0|              234.0|\n",
      "|STATIONERY & SCHO...|         2500|           5|               100.0|              234.0|\n",
      "|              SQUASH|         2500|           4|               189.0|              234.0|\n",
      "|SPRING/SUMMER SEA...|         2500|           3|               140.0|              234.0|\n",
      "| SPORTS MEMORABLILIA|         2500|           3|               244.0|              234.0|\n",
      "+--------------------+-------------+------------+--------------------+-------------------+\n",
      "only showing top 20 rows\n",
      "\n"
     ]
    }
   ],
   "source": [
    "from pyspark.ml.feature import StringIndexer\n",
    "from pyspark.ml import Pipeline\n",
    "from pyspark.sql.functions import col\n",
    "\n",
    "# encoding\n",
    "indexer = [StringIndexer(inputCol=column, outputCol=column+\"_index\") for column in list(set(df_new.columns)-set(['rating_label']))]\n",
    "\n",
    "# encoding 簡單一點的寫法\n",
    "#indexer = [StringIndexer(inputCol=column, outputCol=column+\"_index\") for column in ['COMMODITY_DESC','household_key']]\n",
    "\n",
    "\n",
    "# make pipeline\n",
    "pipeline = Pipeline(stages=indexer)\n",
    "\n",
    "# fit and transform\n",
    "transformed = pipeline.fit(df_new).transform(df_new)\n",
    "\n",
    "transformed.show()"
   ]
  },
  {
   "cell_type": "markdown",
   "metadata": {},
   "source": [
    "### Creating training and test data"
   ]
  },
  {
   "cell_type": "code",
   "execution_count": 10,
   "metadata": {},
   "outputs": [],
   "source": [
    "(training,test)=transformed.randomSplit([0.8, 0.2])"
   ]
  },
  {
   "cell_type": "markdown",
   "metadata": {},
   "source": [
    "### Creating ALS model and fitting data\n",
    "- rating_label type must be numeric"
   ]
  },
  {
   "cell_type": "markdown",
   "metadata": {},
   "source": [
    "### https://www.twblogs.net/a/5c2917d6bd9eee01606d2f58\n",
    "### https://codertw.com/%E7%A8%8B%E5%BC%8F%E8%AA%9E%E8%A8%80/563826/\n",
    "### https://medium.com/@patelneha1495/recommendation-system-in-python-using-als-algorithm-and-apache-spark-27aca08eaab3"
   ]
  },
  {
   "cell_type": "code",
   "execution_count": 11,
   "metadata": {},
   "outputs": [],
   "source": [
    "als=ALS(maxIter=5, # 算法迭代次數 maximum number of iterations\n",
    "        regParam=0.09, #正則項權重\n",
    "        rank=25, #模型中隱藏因子數目\n",
    "        userCol=\"household_key_index\", #column name for user ids. Ids must be (or can be coerced into) integers.\n",
    "        itemCol=\"COMMODITY_DESC_index\", #column name for item ids. Ids must be (or can be coerced into) integers.\n",
    "        ratingCol=\"rating_label\", #column name for ratings\n",
    "        coldStartStrategy=\"drop\", #drop any rows in the DataFrame of predictions that contain NaN values.\n",
    "        # the model for new_user/new_prod,you can't predictions recommendation,\n",
    "        # so you set drop you will drop the new_user/new_prod\n",
    "        nonnegative=True) #商品推薦分數是否是非負的\n",
    "\n",
    "\n",
    "model=als.fit(training)"
   ]
  },
  {
   "cell_type": "markdown",
   "metadata": {},
   "source": [
    "### Generate predictions and evaluate rmse"
   ]
  },
  {
   "cell_type": "code",
   "execution_count": 12,
   "metadata": {},
   "outputs": [
    {
     "name": "stdout",
     "output_type": "stream",
     "text": [
      "RMSE=0.8321281598490806\n"
     ]
    }
   ],
   "source": [
    "evaluator=RegressionEvaluator(metricName=\"rmse\",labelCol=\"rating_label\",predictionCol=\"prediction\")\n",
    "\n",
    "predictions=model.transform(test)\n",
    "\n",
    "rmse=evaluator.evaluate(predictions) # Evaluates the output with optional parameters.\n",
    "print(\"RMSE=\"+str(rmse))"
   ]
  },
  {
   "cell_type": "code",
   "execution_count": 13,
   "metadata": {
    "scrolled": true
   },
   "outputs": [
    {
     "data": {
      "text/html": [
       "<div>\n",
       "<style scoped>\n",
       "    .dataframe tbody tr th:only-of-type {\n",
       "        vertical-align: middle;\n",
       "    }\n",
       "\n",
       "    .dataframe tbody tr th {\n",
       "        vertical-align: top;\n",
       "    }\n",
       "\n",
       "    .dataframe thead th {\n",
       "        text-align: right;\n",
       "    }\n",
       "</style>\n",
       "<table border=\"1\" class=\"dataframe\">\n",
       "  <thead>\n",
       "    <tr style=\"text-align: right;\">\n",
       "      <th></th>\n",
       "      <th>COMMODITY_DESC</th>\n",
       "      <th>household_key</th>\n",
       "      <th>rating_label</th>\n",
       "      <th>COMMODITY_DESC_index</th>\n",
       "      <th>household_key_index</th>\n",
       "      <th>prediction</th>\n",
       "    </tr>\n",
       "  </thead>\n",
       "  <tbody>\n",
       "    <tr>\n",
       "      <th>0</th>\n",
       "      <td>PIES</td>\n",
       "      <td>2297</td>\n",
       "      <td>5</td>\n",
       "      <td>148.0</td>\n",
       "      <td>2122.0</td>\n",
       "      <td>4.367234</td>\n",
       "    </tr>\n",
       "    <tr>\n",
       "      <th>1</th>\n",
       "      <td>PIES</td>\n",
       "      <td>2075</td>\n",
       "      <td>2</td>\n",
       "      <td>148.0</td>\n",
       "      <td>540.0</td>\n",
       "      <td>3.215449</td>\n",
       "    </tr>\n",
       "    <tr>\n",
       "      <th>2</th>\n",
       "      <td>PIES</td>\n",
       "      <td>2247</td>\n",
       "      <td>4</td>\n",
       "      <td>148.0</td>\n",
       "      <td>897.0</td>\n",
       "      <td>4.308607</td>\n",
       "    </tr>\n",
       "    <tr>\n",
       "      <th>3</th>\n",
       "      <td>PIES</td>\n",
       "      <td>180</td>\n",
       "      <td>5</td>\n",
       "      <td>148.0</td>\n",
       "      <td>1025.0</td>\n",
       "      <td>4.209348</td>\n",
       "    </tr>\n",
       "    <tr>\n",
       "      <th>4</th>\n",
       "      <td>PIES</td>\n",
       "      <td>625</td>\n",
       "      <td>5</td>\n",
       "      <td>148.0</td>\n",
       "      <td>1339.0</td>\n",
       "      <td>4.414486</td>\n",
       "    </tr>\n",
       "    <tr>\n",
       "      <th>...</th>\n",
       "      <td>...</td>\n",
       "      <td>...</td>\n",
       "      <td>...</td>\n",
       "      <td>...</td>\n",
       "      <td>...</td>\n",
       "      <td>...</td>\n",
       "    </tr>\n",
       "    <tr>\n",
       "      <th>56770</th>\n",
       "      <td>SOAP - LIQUID &amp; BAR</td>\n",
       "      <td>2044</td>\n",
       "      <td>5</td>\n",
       "      <td>89.0</td>\n",
       "      <td>1713.0</td>\n",
       "      <td>4.613431</td>\n",
       "    </tr>\n",
       "    <tr>\n",
       "      <th>56771</th>\n",
       "      <td>SOAP - LIQUID &amp; BAR</td>\n",
       "      <td>859</td>\n",
       "      <td>5</td>\n",
       "      <td>89.0</td>\n",
       "      <td>180.0</td>\n",
       "      <td>4.251889</td>\n",
       "    </tr>\n",
       "    <tr>\n",
       "      <th>56772</th>\n",
       "      <td>SOAP - LIQUID &amp; BAR</td>\n",
       "      <td>593</td>\n",
       "      <td>4</td>\n",
       "      <td>89.0</td>\n",
       "      <td>1656.0</td>\n",
       "      <td>4.116149</td>\n",
       "    </tr>\n",
       "    <tr>\n",
       "      <th>56773</th>\n",
       "      <td>SOAP - LIQUID &amp; BAR</td>\n",
       "      <td>219</td>\n",
       "      <td>5</td>\n",
       "      <td>89.0</td>\n",
       "      <td>89.0</td>\n",
       "      <td>4.203546</td>\n",
       "    </tr>\n",
       "    <tr>\n",
       "      <th>56774</th>\n",
       "      <td>SOAP - LIQUID &amp; BAR</td>\n",
       "      <td>938</td>\n",
       "      <td>5</td>\n",
       "      <td>89.0</td>\n",
       "      <td>1413.0</td>\n",
       "      <td>4.603070</td>\n",
       "    </tr>\n",
       "  </tbody>\n",
       "</table>\n",
       "<p>56775 rows × 6 columns</p>\n",
       "</div>"
      ],
      "text/plain": [
       "            COMMODITY_DESC household_key  rating_label  COMMODITY_DESC_index  \\\n",
       "0                     PIES          2297             5                 148.0   \n",
       "1                     PIES          2075             2                 148.0   \n",
       "2                     PIES          2247             4                 148.0   \n",
       "3                     PIES           180             5                 148.0   \n",
       "4                     PIES           625             5                 148.0   \n",
       "...                    ...           ...           ...                   ...   \n",
       "56770  SOAP - LIQUID & BAR          2044             5                  89.0   \n",
       "56771  SOAP - LIQUID & BAR           859             5                  89.0   \n",
       "56772  SOAP - LIQUID & BAR           593             4                  89.0   \n",
       "56773  SOAP - LIQUID & BAR           219             5                  89.0   \n",
       "56774  SOAP - LIQUID & BAR           938             5                  89.0   \n",
       "\n",
       "       household_key_index  prediction  \n",
       "0                   2122.0    4.367234  \n",
       "1                    540.0    3.215449  \n",
       "2                    897.0    4.308607  \n",
       "3                   1025.0    4.209348  \n",
       "4                   1339.0    4.414486  \n",
       "...                    ...         ...  \n",
       "56770               1713.0    4.613431  \n",
       "56771                180.0    4.251889  \n",
       "56772               1656.0    4.116149  \n",
       "56773                 89.0    4.203546  \n",
       "56774               1413.0    4.603070  \n",
       "\n",
       "[56775 rows x 6 columns]"
      ]
     },
     "execution_count": 13,
     "metadata": {},
     "output_type": "execute_result"
    }
   ],
   "source": [
    "predictions.toPandas()"
   ]
  },
  {
   "cell_type": "markdown",
   "metadata": {},
   "source": [
    "### Providing Recommendations"
   ]
  },
  {
   "cell_type": "code",
   "execution_count": 14,
   "metadata": {},
   "outputs": [
    {
     "name": "stdout",
     "output_type": "stream",
     "text": [
      "+-------------------+--------------------+\n",
      "|household_key_index|     recommendations|\n",
      "+-------------------+--------------------+\n",
      "|               1580|[[11, 4.768237], ...|\n",
      "|                471|[[7, 4.688528], [...|\n",
      "|               1591|[[1, 4.636035], [...|\n",
      "|               1342|[[7, 4.7700953], ...|\n",
      "|               2122|[[292, 4.8108144]...|\n",
      "|               2142|[[7, 4.797579], [...|\n",
      "|                463|[[292, 4.7037783]...|\n",
      "|                833|[[7, 4.6923037], ...|\n",
      "|               1645|[[7, 4.6384296], ...|\n",
      "|                496|[[292, 4.6875854]...|\n",
      "+-------------------+--------------------+\n",
      "only showing top 10 rows\n",
      "\n"
     ]
    }
   ],
   "source": [
    "# Generate top 20 recommendations for each user\n",
    "\n",
    "user_recs=model.recommendForAllUsers(20).show(10)"
   ]
  },
  {
   "cell_type": "markdown",
   "metadata": {},
   "source": [
    "### Converting back to string form"
   ]
  },
  {
   "cell_type": "code",
   "execution_count": 15,
   "metadata": {},
   "outputs": [
    {
     "name": "stderr",
     "output_type": "stream",
     "text": [
      "/home/spark/anaconda3/lib/python3.7/site-packages/ipykernel_launcher.py:39: SettingWithCopyWarning: \n",
      "A value is trying to be set on a copy of a slice from a DataFrame.\n",
      "Try using .loc[row_indexer,col_indexer] = value instead\n",
      "\n",
      "See the caveats in the documentation: https://pandas.pydata.org/pandas-docs/stable/user_guide/indexing.html#returning-a-view-versus-a-copy\n"
     ]
    },
    {
     "name": "stdout",
     "output_type": "stream",
     "text": [
      "     household_key                                    recommendations\n",
      "0                1            [CHEESE, SOUP, SOFT DRINKS, BAG SNACKS]\n",
      "1               10  [FLUID MILK PRODUCTS, SOFT DRINKS, SOUP, BAG S...\n",
      "2              100  [SOUP, CHEESE, FLUID MILK PRODUCTS, RW FRESH P...\n",
      "3             1000            [SOFT DRINKS, CHEESE, BAG SNACKS, SOUP]\n",
      "4             1001  [HAIR CARE PRODUCTS, BAG SNACKS, SOUP, RW FRES...\n",
      "...            ...                                                ...\n",
      "2495           995  [RW FRESH PROCESSED MEAT, SOUP, CHEESE, SOFT D...\n",
      "2496           996  [BAKED BREAD/BUNS/ROLLS, CHEESE, SOFT DRINKS, ...\n",
      "2497           997  [HOUSEHOLD CLEANG NEEDS, FLUID MILK PRODUCTS, ...\n",
      "2498           998  [CHEESE, SOFT DRINKS, BAKED BREAD/BUNS/ROLLS, ...\n",
      "2499           999            [SOUP, SOFT DRINKS, BAG SNACKS, CHEESE]\n",
      "\n",
      "[2500 rows x 2 columns]\n"
     ]
    }
   ],
   "source": [
    "import pandas as pd\n",
    "\n",
    "# Generate top 10 recommendations for each user\n",
    "recs=model.recommendForAllUsers(4).toPandas()\n",
    "\n",
    "\n",
    "nrecs=recs.recommendations.apply(pd.Series) \\\n",
    "            .merge(recs, right_index = True, left_index = True) \\\n",
    "            .drop([\"recommendations\"], axis = 1) \\\n",
    "            .melt(id_vars = ['household_key_index'], value_name = \"recommendation\") \\\n",
    "            .drop(\"variable\", axis = 1) \\\n",
    "            .dropna()\n",
    "nrecs=nrecs.sort_values('household_key_index')\n",
    "\n",
    "nrecs=pd.concat([nrecs['recommendation'].apply(pd.Series), nrecs['household_key_index']], axis = 1)\n",
    "nrecs.columns = [\n",
    "        \n",
    "        'ProductID_index',\n",
    "        'Rating',\n",
    "        'UserID_index']\n",
    "\n",
    "# raw data\n",
    "md=transformed.select(transformed['household_key'],transformed['household_key_index'],transformed['COMMODITY_DESC'],transformed['COMMODITY_DESC_index'])\n",
    "md=md.toPandas()\n",
    "\n",
    "\n",
    "dict1 =dict(zip(md['household_key_index'],md['household_key']))\n",
    "dict2=dict(zip(md['COMMODITY_DESC_index'],md['COMMODITY_DESC']))\n",
    "\n",
    "\n",
    "nrecs['household_key']=nrecs['UserID_index'].map(dict1)\n",
    "nrecs['ProductID']=nrecs['ProductID_index'].map(dict2)\n",
    "nrecs=nrecs.sort_values('household_key')\n",
    "nrecs.reset_index(drop=True, inplace=True)\n",
    "\n",
    "\n",
    "new=nrecs[['household_key','ProductID','Rating']]\n",
    "#new['recommendations'] = list(zip(new.ProductID, new.Rating))\n",
    "new['recommendations'] = list(new.ProductID)\n",
    "\n",
    "\n",
    "res=new[['household_key','recommendations']]  \n",
    "res_new=res['recommendations'].groupby([res.household_key]).apply(list).reset_index()\n",
    "print(res_new)"
   ]
  },
  {
   "cell_type": "code",
   "execution_count": 27,
   "metadata": {},
   "outputs": [],
   "source": [
    "res_new.to_csv('./output_data/res_new.csv',index=False)"
   ]
  },
  {
   "cell_type": "code",
   "execution_count": 28,
   "metadata": {},
   "outputs": [],
   "source": [
    "def show_recommendation(household_key):\n",
    "    if household_key not in res_new['household_key']:\n",
    "        return('Customer not found.')\n",
    "    else:\n",
    "        recommendation_list = res_new[res_new['household_key'] == str(household_key)]['recommendations'].tolist()\n",
    "        return [recommendation_list[0][i] for i in range(0,4)]\n",
    "    "
   ]
  },
  {
   "cell_type": "code",
   "execution_count": 31,
   "metadata": {
    "scrolled": true
   },
   "outputs": [
    {
     "data": {
      "text/plain": [
       "['SOFT DRINKS', 'CHEESE', 'BAG SNACKS', 'SOUP']"
      ]
     },
     "execution_count": 31,
     "metadata": {},
     "output_type": "execute_result"
    }
   ],
   "source": [
    "show_recommendation(1000)"
   ]
  },
  {
   "cell_type": "code",
   "execution_count": 32,
   "metadata": {},
   "outputs": [],
   "source": [
    "import pymysql\n",
    "import csv\n",
    "import sys\n",
    "\n",
    "host = '3.113.29.214'  # '3.113.29.214'\n",
    "user = 'eric'  # 'eric'\n",
    "passwd = '123456'  # '123456'\n",
    "port = 3306\n",
    "conninfo = {'host' : host ,'port' : port,'user' : user , 'passwd' : passwd, 'db' : 'recommendation_system','charset' : 'utf8mb4'}\n",
    "\n",
    "\n",
    "def add_csv(path):\n",
    "    try:\n",
    "        conn = pymysql.connect(**conninfo)\n",
    "        cursor = conn.cursor()\n",
    "        csv_data = csv.reader(open(path))\n",
    "        cursor.execute(\"\"\"DROP TABLE IF EXISTS als_1\"\"\")\n",
    "        cursor.execute(\"\"\"CREATE TABLE als_1 (household_key longtext, recommendations longtext)\"\"\")\n",
    "        \n",
    "        for row in csv_data:\n",
    "            if csv_data.line_num == 1:\n",
    "                continue\n",
    "            cursor.execute('INSERT INTO als_1 (household_key, recommendations)'\\\n",
    "                           'VALUES(\"%s\", \"%s\")',row)\n",
    "        # close the connection to the database.\n",
    "        conn.commit()\n",
    "        print(\"Done\")\n",
    "    except:\n",
    "        print('異常')\n",
    "        print(sys.exc_info()[0])\n",
    "        print(sys.exc_info()[1])\n",
    "    finally:\n",
    "        cursor.close()\n",
    "        conn.close()\n",
    "        print(\"db close\")"
   ]
  },
  {
   "cell_type": "code",
   "execution_count": 33,
   "metadata": {},
   "outputs": [
    {
     "name": "stdout",
     "output_type": "stream",
     "text": [
      "Done\n",
      "db close\n"
     ]
    }
   ],
   "source": [
    "add_csv('./output_data/res_new.csv')"
   ]
  }
 ],
 "metadata": {
  "kernelspec": {
   "display_name": "Python 3",
   "language": "python",
   "name": "python3"
  },
  "language_info": {
   "codemirror_mode": {
    "name": "ipython",
    "version": 3
   },
   "file_extension": ".py",
   "mimetype": "text/x-python",
   "name": "python",
   "nbconvert_exporter": "python",
   "pygments_lexer": "ipython3",
   "version": "3.7.6"
  }
 },
 "nbformat": 4,
 "nbformat_minor": 4
}
