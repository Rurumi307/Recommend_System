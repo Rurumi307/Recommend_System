{
 "cells": [
  {
   "cell_type": "markdown",
   "metadata": {},
   "source": [
    "### USER-USER 協同過濾：轉換為最相似的顧客族群(USER-USER Similarity Matrix)，查看他們經常購買的商品，推薦給目前鎖定的顧客。 \n",
    "- https://medium.datadriveninvestor.com/how-to-build-a-recommendation-system-for-purchase-data-step-by-step-d6d7a78800b6"
   ]
  },
  {
   "cell_type": "code",
   "execution_count": 1,
   "metadata": {},
   "outputs": [],
   "source": [
    "import pandas as pd\n",
    "import numpy as np\n",
    "import time\n",
    "import turicreate as tc\n",
    "from sklearn.model_selection import train_test_split"
   ]
  },
  {
   "cell_type": "code",
   "execution_count": 2,
   "metadata": {},
   "outputs": [],
   "source": [
    "df = pd.read_csv('./data/transaction_data_v2.csv')\n",
    "product_df = pd.read_csv('./data/product_v2.csv')\n",
    "product_df1 = product_df[['PRODUCT_ID','COMMODITY_DESC']]\n",
    "df_merge = df.merge(product_df1,on='PRODUCT_ID')\n",
    "df = df_merge.copy()"
   ]
  },
  {
   "cell_type": "code",
   "execution_count": 3,
   "metadata": {},
   "outputs": [
    {
     "data": {
      "text/html": [
       "<div>\n",
       "<style scoped>\n",
       "    .dataframe tbody tr th:only-of-type {\n",
       "        vertical-align: middle;\n",
       "    }\n",
       "\n",
       "    .dataframe tbody tr th {\n",
       "        vertical-align: top;\n",
       "    }\n",
       "\n",
       "    .dataframe thead th {\n",
       "        text-align: right;\n",
       "    }\n",
       "</style>\n",
       "<table border=\"1\" class=\"dataframe\">\n",
       "  <thead>\n",
       "    <tr style=\"text-align: right;\">\n",
       "      <th></th>\n",
       "      <th>COMMODITY_DESC</th>\n",
       "      <th>household_key</th>\n",
       "      <th>QUANTITY</th>\n",
       "      <th>BASKET_ID</th>\n",
       "      <th>rating</th>\n",
       "      <th>rating_label</th>\n",
       "    </tr>\n",
       "  </thead>\n",
       "  <tbody>\n",
       "    <tr>\n",
       "      <th>0</th>\n",
       "      <td>YOGURT</td>\n",
       "      <td>2500</td>\n",
       "      <td>118</td>\n",
       "      <td>100</td>\n",
       "      <td>1.18</td>\n",
       "      <td>5</td>\n",
       "    </tr>\n",
       "    <tr>\n",
       "      <th>1</th>\n",
       "      <td>WATER - CARBONATED/FLVRD DRINK</td>\n",
       "      <td>2500</td>\n",
       "      <td>8</td>\n",
       "      <td>100</td>\n",
       "      <td>0.08</td>\n",
       "      <td>5</td>\n",
       "    </tr>\n",
       "    <tr>\n",
       "      <th>2</th>\n",
       "      <td>WAREHOUSE SNACKS</td>\n",
       "      <td>2500</td>\n",
       "      <td>31</td>\n",
       "      <td>100</td>\n",
       "      <td>0.31</td>\n",
       "      <td>5</td>\n",
       "    </tr>\n",
       "    <tr>\n",
       "      <th>3</th>\n",
       "      <td>VITAMINS</td>\n",
       "      <td>2500</td>\n",
       "      <td>6</td>\n",
       "      <td>100</td>\n",
       "      <td>0.06</td>\n",
       "      <td>5</td>\n",
       "    </tr>\n",
       "    <tr>\n",
       "      <th>4</th>\n",
       "      <td>VEGETABLES SALAD</td>\n",
       "      <td>2500</td>\n",
       "      <td>1</td>\n",
       "      <td>100</td>\n",
       "      <td>0.01</td>\n",
       "      <td>3</td>\n",
       "    </tr>\n",
       "    <tr>\n",
       "      <th>...</th>\n",
       "      <td>...</td>\n",
       "      <td>...</td>\n",
       "      <td>...</td>\n",
       "      <td>...</td>\n",
       "      <td>...</td>\n",
       "      <td>...</td>\n",
       "    </tr>\n",
       "    <tr>\n",
       "      <th>284167</th>\n",
       "      <td>COOKIES/CONES</td>\n",
       "      <td>1897</td>\n",
       "      <td>1</td>\n",
       "      <td>1</td>\n",
       "      <td>1.00</td>\n",
       "      <td>5</td>\n",
       "    </tr>\n",
       "    <tr>\n",
       "      <th>284168</th>\n",
       "      <td>CITRUS</td>\n",
       "      <td>1897</td>\n",
       "      <td>1</td>\n",
       "      <td>1</td>\n",
       "      <td>1.00</td>\n",
       "      <td>5</td>\n",
       "    </tr>\n",
       "    <tr>\n",
       "      <th>284169</th>\n",
       "      <td>BEERS/ALES</td>\n",
       "      <td>1897</td>\n",
       "      <td>1</td>\n",
       "      <td>1</td>\n",
       "      <td>1.00</td>\n",
       "      <td>5</td>\n",
       "    </tr>\n",
       "    <tr>\n",
       "      <th>284170</th>\n",
       "      <td>BAKING NEEDS</td>\n",
       "      <td>1897</td>\n",
       "      <td>1</td>\n",
       "      <td>1</td>\n",
       "      <td>1.00</td>\n",
       "      <td>5</td>\n",
       "    </tr>\n",
       "    <tr>\n",
       "      <th>284171</th>\n",
       "      <td>BAKED SWEET GOODS</td>\n",
       "      <td>1897</td>\n",
       "      <td>1</td>\n",
       "      <td>1</td>\n",
       "      <td>1.00</td>\n",
       "      <td>5</td>\n",
       "    </tr>\n",
       "  </tbody>\n",
       "</table>\n",
       "<p>284172 rows × 6 columns</p>\n",
       "</div>"
      ],
      "text/plain": [
       "                        COMMODITY_DESC  household_key  QUANTITY  BASKET_ID  \\\n",
       "0                               YOGURT           2500       118        100   \n",
       "1       WATER - CARBONATED/FLVRD DRINK           2500         8        100   \n",
       "2                     WAREHOUSE SNACKS           2500        31        100   \n",
       "3                             VITAMINS           2500         6        100   \n",
       "4                     VEGETABLES SALAD           2500         1        100   \n",
       "...                                ...            ...       ...        ...   \n",
       "284167                   COOKIES/CONES           1897         1          1   \n",
       "284168                          CITRUS           1897         1          1   \n",
       "284169                      BEERS/ALES           1897         1          1   \n",
       "284170                    BAKING NEEDS           1897         1          1   \n",
       "284171               BAKED SWEET GOODS           1897         1          1   \n",
       "\n",
       "        rating  rating_label  \n",
       "0         1.18             5  \n",
       "1         0.08             5  \n",
       "2         0.31             5  \n",
       "3         0.06             5  \n",
       "4         0.01             3  \n",
       "...        ...           ...  \n",
       "284167    1.00             5  \n",
       "284168    1.00             5  \n",
       "284169    1.00             5  \n",
       "284170    1.00             5  \n",
       "284171    1.00             5  \n",
       "\n",
       "[284172 rows x 6 columns]"
      ]
     },
     "execution_count": 3,
     "metadata": {},
     "output_type": "execute_result"
    }
   ],
   "source": [
    "household_product_count  = df.groupby(['COMMODITY_DESC','household_key']).QUANTITY.sum().reset_index().sort_values('COMMODITY_DESC',ascending=False) # Group together\n",
    "household_count = df.groupby('household_key').BASKET_ID.nunique()\n",
    "household_count = pd.DataFrame(household_count)\n",
    "ratings = household_product_count.merge(household_count,on='household_key')\n",
    "ratings['rating'] = (ratings['QUANTITY']/ratings['BASKET_ID'])\n",
    "\n",
    "bins = [0,0.005,0.008,0.01,0.02,999]\n",
    "def rating(value, bins):\n",
    "    for i in range(len(bins) - 1):\n",
    "        if value >= bins[i] and value <= bins[i+1]:\n",
    "            return i+1\n",
    "    return 1\n",
    "\n",
    "ratings['rating_label'] = ratings.rating.apply(lambda i: rating(i, bins))\n",
    "ratings"
   ]
  },
  {
   "cell_type": "code",
   "execution_count": 4,
   "metadata": {},
   "outputs": [],
   "source": [
    "data = ratings[['household_key', 'COMMODITY_DESC', 'rating_label']]\n",
    "data.columns = ['customerId', 'productId', 'rating_label']"
   ]
  },
  {
   "cell_type": "code",
   "execution_count": 5,
   "metadata": {},
   "outputs": [
    {
     "data": {
      "text/html": [
       "<div>\n",
       "<style scoped>\n",
       "    .dataframe tbody tr th:only-of-type {\n",
       "        vertical-align: middle;\n",
       "    }\n",
       "\n",
       "    .dataframe tbody tr th {\n",
       "        vertical-align: top;\n",
       "    }\n",
       "\n",
       "    .dataframe thead th {\n",
       "        text-align: right;\n",
       "    }\n",
       "</style>\n",
       "<table border=\"1\" class=\"dataframe\">\n",
       "  <thead>\n",
       "    <tr style=\"text-align: right;\">\n",
       "      <th></th>\n",
       "      <th>customerId</th>\n",
       "      <th>productId</th>\n",
       "      <th>rating_label</th>\n",
       "    </tr>\n",
       "  </thead>\n",
       "  <tbody>\n",
       "    <tr>\n",
       "      <th>0</th>\n",
       "      <td>2500</td>\n",
       "      <td>YOGURT</td>\n",
       "      <td>5</td>\n",
       "    </tr>\n",
       "    <tr>\n",
       "      <th>1</th>\n",
       "      <td>2500</td>\n",
       "      <td>WATER - CARBONATED/FLVRD DRINK</td>\n",
       "      <td>5</td>\n",
       "    </tr>\n",
       "    <tr>\n",
       "      <th>2</th>\n",
       "      <td>2500</td>\n",
       "      <td>WAREHOUSE SNACKS</td>\n",
       "      <td>5</td>\n",
       "    </tr>\n",
       "    <tr>\n",
       "      <th>3</th>\n",
       "      <td>2500</td>\n",
       "      <td>VITAMINS</td>\n",
       "      <td>5</td>\n",
       "    </tr>\n",
       "    <tr>\n",
       "      <th>4</th>\n",
       "      <td>2500</td>\n",
       "      <td>VEGETABLES SALAD</td>\n",
       "      <td>3</td>\n",
       "    </tr>\n",
       "  </tbody>\n",
       "</table>\n",
       "</div>"
      ],
      "text/plain": [
       "   customerId                       productId  rating_label\n",
       "0        2500                          YOGURT             5\n",
       "1        2500  WATER - CARBONATED/FLVRD DRINK             5\n",
       "2        2500                WAREHOUSE SNACKS             5\n",
       "3        2500                        VITAMINS             5\n",
       "4        2500                VEGETABLES SALAD             3"
      ]
     },
     "execution_count": 5,
     "metadata": {},
     "output_type": "execute_result"
    }
   ],
   "source": [
    "data.head()"
   ]
  },
  {
   "cell_type": "code",
   "execution_count": 6,
   "metadata": {},
   "outputs": [],
   "source": [
    "df_matrix = pd.pivot_table(data, values='rating_label', index='customerId', columns='productId')"
   ]
  },
  {
   "cell_type": "code",
   "execution_count": 7,
   "metadata": {},
   "outputs": [],
   "source": [
    "df_matrix_norm = (df_matrix-df_matrix.min())/(df_matrix.max()-df_matrix.min())"
   ]
  },
  {
   "cell_type": "code",
   "execution_count": null,
   "metadata": {},
   "outputs": [],
   "source": []
  },
  {
   "cell_type": "code",
   "execution_count": 8,
   "metadata": {},
   "outputs": [
    {
     "name": "stdout",
     "output_type": "stream",
     "text": [
      "(284168, 3)\n"
     ]
    },
    {
     "data": {
      "text/html": [
       "<div>\n",
       "<style scoped>\n",
       "    .dataframe tbody tr th:only-of-type {\n",
       "        vertical-align: middle;\n",
       "    }\n",
       "\n",
       "    .dataframe tbody tr th {\n",
       "        vertical-align: top;\n",
       "    }\n",
       "\n",
       "    .dataframe thead th {\n",
       "        text-align: right;\n",
       "    }\n",
       "</style>\n",
       "<table border=\"1\" class=\"dataframe\">\n",
       "  <thead>\n",
       "    <tr style=\"text-align: right;\">\n",
       "      <th></th>\n",
       "      <th>customerId</th>\n",
       "      <th>productId</th>\n",
       "      <th>scaled_purchase_freq</th>\n",
       "    </tr>\n",
       "  </thead>\n",
       "  <tbody>\n",
       "    <tr>\n",
       "      <th>1</th>\n",
       "      <td>2</td>\n",
       "      <td>ADULT INCONTINENCE</td>\n",
       "      <td>1.00</td>\n",
       "    </tr>\n",
       "    <tr>\n",
       "      <th>18</th>\n",
       "      <td>19</td>\n",
       "      <td>ADULT INCONTINENCE</td>\n",
       "      <td>0.00</td>\n",
       "    </tr>\n",
       "    <tr>\n",
       "      <th>25</th>\n",
       "      <td>26</td>\n",
       "      <td>ADULT INCONTINENCE</td>\n",
       "      <td>0.50</td>\n",
       "    </tr>\n",
       "    <tr>\n",
       "      <th>48</th>\n",
       "      <td>49</td>\n",
       "      <td>ADULT INCONTINENCE</td>\n",
       "      <td>1.00</td>\n",
       "    </tr>\n",
       "    <tr>\n",
       "      <th>51</th>\n",
       "      <td>52</td>\n",
       "      <td>ADULT INCONTINENCE</td>\n",
       "      <td>0.75</td>\n",
       "    </tr>\n",
       "  </tbody>\n",
       "</table>\n",
       "</div>"
      ],
      "text/plain": [
       "    customerId           productId  scaled_purchase_freq\n",
       "1            2  ADULT INCONTINENCE                  1.00\n",
       "18          19  ADULT INCONTINENCE                  0.00\n",
       "25          26  ADULT INCONTINENCE                  0.50\n",
       "48          49  ADULT INCONTINENCE                  1.00\n",
       "51          52  ADULT INCONTINENCE                  0.75"
      ]
     },
     "execution_count": 8,
     "metadata": {},
     "output_type": "execute_result"
    }
   ],
   "source": [
    "# create a table for input to the modeling  \n",
    "d = df_matrix_norm.reset_index() \n",
    "d.index.names = ['scaled_purchase_freq'] \n",
    "data_norm = pd.melt(d, id_vars=['customerId'], value_name='scaled_purchase_freq').dropna()\n",
    "print(data_norm.shape)\n",
    "data_norm.head()"
   ]
  },
  {
   "cell_type": "code",
   "execution_count": 9,
   "metadata": {},
   "outputs": [
    {
     "data": {
      "text/html": [
       "<div>\n",
       "<style scoped>\n",
       "    .dataframe tbody tr th:only-of-type {\n",
       "        vertical-align: middle;\n",
       "    }\n",
       "\n",
       "    .dataframe tbody tr th {\n",
       "        vertical-align: top;\n",
       "    }\n",
       "\n",
       "    .dataframe thead th {\n",
       "        text-align: right;\n",
       "    }\n",
       "</style>\n",
       "<table border=\"1\" class=\"dataframe\">\n",
       "  <thead>\n",
       "    <tr style=\"text-align: right;\">\n",
       "      <th>productId</th>\n",
       "      <th>customerId</th>\n",
       "      <th>ADULT INCONTINENCE</th>\n",
       "      <th>AIR CARE</th>\n",
       "      <th>ANALGESICS</th>\n",
       "      <th>ANTACIDS</th>\n",
       "      <th>APPAREL</th>\n",
       "      <th>APPLES</th>\n",
       "      <th>AUDIO/VIDEO PRODUCTS</th>\n",
       "      <th>AUTOMOTIVE PRODUCTS</th>\n",
       "      <th>BABY FOODS</th>\n",
       "      <th>...</th>\n",
       "      <th>VEAL</th>\n",
       "      <th>VEGETABLES - ALL OTHERS</th>\n",
       "      <th>VEGETABLES - SHELF STABLE</th>\n",
       "      <th>VEGETABLES SALAD</th>\n",
       "      <th>VITAMINS</th>\n",
       "      <th>WAREHOUSE SNACKS</th>\n",
       "      <th>WATCHES/CALCULATORS/LOBBY</th>\n",
       "      <th>WATER</th>\n",
       "      <th>WATER - CARBONATED/FLVRD DRINK</th>\n",
       "      <th>YOGURT</th>\n",
       "    </tr>\n",
       "    <tr>\n",
       "      <th>scaled_purchase_freq</th>\n",
       "      <th></th>\n",
       "      <th></th>\n",
       "      <th></th>\n",
       "      <th></th>\n",
       "      <th></th>\n",
       "      <th></th>\n",
       "      <th></th>\n",
       "      <th></th>\n",
       "      <th></th>\n",
       "      <th></th>\n",
       "      <th></th>\n",
       "      <th></th>\n",
       "      <th></th>\n",
       "      <th></th>\n",
       "      <th></th>\n",
       "      <th></th>\n",
       "      <th></th>\n",
       "      <th></th>\n",
       "      <th></th>\n",
       "      <th></th>\n",
       "      <th></th>\n",
       "    </tr>\n",
       "  </thead>\n",
       "  <tbody>\n",
       "    <tr>\n",
       "      <th>0</th>\n",
       "      <td>1</td>\n",
       "      <td>NaN</td>\n",
       "      <td>1.00</td>\n",
       "      <td>1.0</td>\n",
       "      <td>NaN</td>\n",
       "      <td>NaN</td>\n",
       "      <td>1.00</td>\n",
       "      <td>NaN</td>\n",
       "      <td>NaN</td>\n",
       "      <td>NaN</td>\n",
       "      <td>...</td>\n",
       "      <td>NaN</td>\n",
       "      <td>1.00</td>\n",
       "      <td>1.0</td>\n",
       "      <td>1.00</td>\n",
       "      <td>1.0</td>\n",
       "      <td>1.00</td>\n",
       "      <td>NaN</td>\n",
       "      <td>NaN</td>\n",
       "      <td>NaN</td>\n",
       "      <td>NaN</td>\n",
       "    </tr>\n",
       "    <tr>\n",
       "      <th>1</th>\n",
       "      <td>2</td>\n",
       "      <td>1.0</td>\n",
       "      <td>1.00</td>\n",
       "      <td>1.0</td>\n",
       "      <td>NaN</td>\n",
       "      <td>NaN</td>\n",
       "      <td>1.00</td>\n",
       "      <td>NaN</td>\n",
       "      <td>NaN</td>\n",
       "      <td>1.0</td>\n",
       "      <td>...</td>\n",
       "      <td>NaN</td>\n",
       "      <td>1.00</td>\n",
       "      <td>1.0</td>\n",
       "      <td>NaN</td>\n",
       "      <td>NaN</td>\n",
       "      <td>1.00</td>\n",
       "      <td>NaN</td>\n",
       "      <td>NaN</td>\n",
       "      <td>1.0</td>\n",
       "      <td>1.0</td>\n",
       "    </tr>\n",
       "    <tr>\n",
       "      <th>2</th>\n",
       "      <td>3</td>\n",
       "      <td>NaN</td>\n",
       "      <td>1.00</td>\n",
       "      <td>NaN</td>\n",
       "      <td>NaN</td>\n",
       "      <td>NaN</td>\n",
       "      <td>NaN</td>\n",
       "      <td>NaN</td>\n",
       "      <td>NaN</td>\n",
       "      <td>1.0</td>\n",
       "      <td>...</td>\n",
       "      <td>NaN</td>\n",
       "      <td>NaN</td>\n",
       "      <td>1.0</td>\n",
       "      <td>1.00</td>\n",
       "      <td>NaN</td>\n",
       "      <td>1.00</td>\n",
       "      <td>NaN</td>\n",
       "      <td>NaN</td>\n",
       "      <td>1.0</td>\n",
       "      <td>1.0</td>\n",
       "    </tr>\n",
       "    <tr>\n",
       "      <th>3</th>\n",
       "      <td>4</td>\n",
       "      <td>NaN</td>\n",
       "      <td>1.00</td>\n",
       "      <td>1.0</td>\n",
       "      <td>NaN</td>\n",
       "      <td>NaN</td>\n",
       "      <td>NaN</td>\n",
       "      <td>NaN</td>\n",
       "      <td>NaN</td>\n",
       "      <td>NaN</td>\n",
       "      <td>...</td>\n",
       "      <td>NaN</td>\n",
       "      <td>NaN</td>\n",
       "      <td>1.0</td>\n",
       "      <td>NaN</td>\n",
       "      <td>NaN</td>\n",
       "      <td>1.00</td>\n",
       "      <td>NaN</td>\n",
       "      <td>NaN</td>\n",
       "      <td>NaN</td>\n",
       "      <td>NaN</td>\n",
       "    </tr>\n",
       "    <tr>\n",
       "      <th>4</th>\n",
       "      <td>5</td>\n",
       "      <td>NaN</td>\n",
       "      <td>1.00</td>\n",
       "      <td>NaN</td>\n",
       "      <td>1.00</td>\n",
       "      <td>NaN</td>\n",
       "      <td>NaN</td>\n",
       "      <td>NaN</td>\n",
       "      <td>NaN</td>\n",
       "      <td>NaN</td>\n",
       "      <td>...</td>\n",
       "      <td>NaN</td>\n",
       "      <td>NaN</td>\n",
       "      <td>1.0</td>\n",
       "      <td>NaN</td>\n",
       "      <td>NaN</td>\n",
       "      <td>NaN</td>\n",
       "      <td>NaN</td>\n",
       "      <td>1.0</td>\n",
       "      <td>NaN</td>\n",
       "      <td>NaN</td>\n",
       "    </tr>\n",
       "    <tr>\n",
       "      <th>...</th>\n",
       "      <td>...</td>\n",
       "      <td>...</td>\n",
       "      <td>...</td>\n",
       "      <td>...</td>\n",
       "      <td>...</td>\n",
       "      <td>...</td>\n",
       "      <td>...</td>\n",
       "      <td>...</td>\n",
       "      <td>...</td>\n",
       "      <td>...</td>\n",
       "      <td>...</td>\n",
       "      <td>...</td>\n",
       "      <td>...</td>\n",
       "      <td>...</td>\n",
       "      <td>...</td>\n",
       "      <td>...</td>\n",
       "      <td>...</td>\n",
       "      <td>...</td>\n",
       "      <td>...</td>\n",
       "      <td>...</td>\n",
       "      <td>...</td>\n",
       "    </tr>\n",
       "    <tr>\n",
       "      <th>2495</th>\n",
       "      <td>2496</td>\n",
       "      <td>NaN</td>\n",
       "      <td>1.00</td>\n",
       "      <td>1.0</td>\n",
       "      <td>NaN</td>\n",
       "      <td>NaN</td>\n",
       "      <td>1.00</td>\n",
       "      <td>NaN</td>\n",
       "      <td>NaN</td>\n",
       "      <td>1.0</td>\n",
       "      <td>...</td>\n",
       "      <td>NaN</td>\n",
       "      <td>1.00</td>\n",
       "      <td>1.0</td>\n",
       "      <td>1.00</td>\n",
       "      <td>NaN</td>\n",
       "      <td>1.00</td>\n",
       "      <td>NaN</td>\n",
       "      <td>NaN</td>\n",
       "      <td>1.0</td>\n",
       "      <td>1.0</td>\n",
       "    </tr>\n",
       "    <tr>\n",
       "      <th>2496</th>\n",
       "      <td>2497</td>\n",
       "      <td>NaN</td>\n",
       "      <td>1.00</td>\n",
       "      <td>1.0</td>\n",
       "      <td>0.00</td>\n",
       "      <td>NaN</td>\n",
       "      <td>1.00</td>\n",
       "      <td>NaN</td>\n",
       "      <td>0.75</td>\n",
       "      <td>1.0</td>\n",
       "      <td>...</td>\n",
       "      <td>NaN</td>\n",
       "      <td>1.00</td>\n",
       "      <td>1.0</td>\n",
       "      <td>1.00</td>\n",
       "      <td>NaN</td>\n",
       "      <td>0.00</td>\n",
       "      <td>NaN</td>\n",
       "      <td>NaN</td>\n",
       "      <td>1.0</td>\n",
       "      <td>1.0</td>\n",
       "    </tr>\n",
       "    <tr>\n",
       "      <th>2497</th>\n",
       "      <td>2498</td>\n",
       "      <td>NaN</td>\n",
       "      <td>1.00</td>\n",
       "      <td>1.0</td>\n",
       "      <td>1.00</td>\n",
       "      <td>0.25</td>\n",
       "      <td>0.75</td>\n",
       "      <td>NaN</td>\n",
       "      <td>NaN</td>\n",
       "      <td>NaN</td>\n",
       "      <td>...</td>\n",
       "      <td>NaN</td>\n",
       "      <td>1.00</td>\n",
       "      <td>1.0</td>\n",
       "      <td>NaN</td>\n",
       "      <td>NaN</td>\n",
       "      <td>0.25</td>\n",
       "      <td>NaN</td>\n",
       "      <td>NaN</td>\n",
       "      <td>1.0</td>\n",
       "      <td>1.0</td>\n",
       "    </tr>\n",
       "    <tr>\n",
       "      <th>2498</th>\n",
       "      <td>2499</td>\n",
       "      <td>1.0</td>\n",
       "      <td>0.75</td>\n",
       "      <td>NaN</td>\n",
       "      <td>0.75</td>\n",
       "      <td>NaN</td>\n",
       "      <td>1.00</td>\n",
       "      <td>0.75</td>\n",
       "      <td>0.75</td>\n",
       "      <td>NaN</td>\n",
       "      <td>...</td>\n",
       "      <td>NaN</td>\n",
       "      <td>0.75</td>\n",
       "      <td>1.0</td>\n",
       "      <td>0.75</td>\n",
       "      <td>NaN</td>\n",
       "      <td>1.00</td>\n",
       "      <td>NaN</td>\n",
       "      <td>NaN</td>\n",
       "      <td>1.0</td>\n",
       "      <td>1.0</td>\n",
       "    </tr>\n",
       "    <tr>\n",
       "      <th>2499</th>\n",
       "      <td>2500</td>\n",
       "      <td>0.5</td>\n",
       "      <td>NaN</td>\n",
       "      <td>1.0</td>\n",
       "      <td>1.00</td>\n",
       "      <td>NaN</td>\n",
       "      <td>0.75</td>\n",
       "      <td>NaN</td>\n",
       "      <td>NaN</td>\n",
       "      <td>1.0</td>\n",
       "      <td>...</td>\n",
       "      <td>NaN</td>\n",
       "      <td>1.00</td>\n",
       "      <td>1.0</td>\n",
       "      <td>0.50</td>\n",
       "      <td>1.0</td>\n",
       "      <td>1.00</td>\n",
       "      <td>NaN</td>\n",
       "      <td>NaN</td>\n",
       "      <td>1.0</td>\n",
       "      <td>1.0</td>\n",
       "    </tr>\n",
       "  </tbody>\n",
       "</table>\n",
       "<p>2500 rows × 305 columns</p>\n",
       "</div>"
      ],
      "text/plain": [
       "productId             customerId  ADULT INCONTINENCE  AIR CARE  ANALGESICS  \\\n",
       "scaled_purchase_freq                                                         \n",
       "0                              1                 NaN      1.00         1.0   \n",
       "1                              2                 1.0      1.00         1.0   \n",
       "2                              3                 NaN      1.00         NaN   \n",
       "3                              4                 NaN      1.00         1.0   \n",
       "4                              5                 NaN      1.00         NaN   \n",
       "...                          ...                 ...       ...         ...   \n",
       "2495                        2496                 NaN      1.00         1.0   \n",
       "2496                        2497                 NaN      1.00         1.0   \n",
       "2497                        2498                 NaN      1.00         1.0   \n",
       "2498                        2499                 1.0      0.75         NaN   \n",
       "2499                        2500                 0.5       NaN         1.0   \n",
       "\n",
       "productId             ANTACIDS  APPAREL  APPLES  AUDIO/VIDEO PRODUCTS  \\\n",
       "scaled_purchase_freq                                                    \n",
       "0                          NaN      NaN    1.00                   NaN   \n",
       "1                          NaN      NaN    1.00                   NaN   \n",
       "2                          NaN      NaN     NaN                   NaN   \n",
       "3                          NaN      NaN     NaN                   NaN   \n",
       "4                         1.00      NaN     NaN                   NaN   \n",
       "...                        ...      ...     ...                   ...   \n",
       "2495                       NaN      NaN    1.00                   NaN   \n",
       "2496                      0.00      NaN    1.00                   NaN   \n",
       "2497                      1.00     0.25    0.75                   NaN   \n",
       "2498                      0.75      NaN    1.00                  0.75   \n",
       "2499                      1.00      NaN    0.75                   NaN   \n",
       "\n",
       "productId             AUTOMOTIVE PRODUCTS  BABY FOODS  ...  VEAL  \\\n",
       "scaled_purchase_freq                                   ...         \n",
       "0                                     NaN         NaN  ...   NaN   \n",
       "1                                     NaN         1.0  ...   NaN   \n",
       "2                                     NaN         1.0  ...   NaN   \n",
       "3                                     NaN         NaN  ...   NaN   \n",
       "4                                     NaN         NaN  ...   NaN   \n",
       "...                                   ...         ...  ...   ...   \n",
       "2495                                  NaN         1.0  ...   NaN   \n",
       "2496                                 0.75         1.0  ...   NaN   \n",
       "2497                                  NaN         NaN  ...   NaN   \n",
       "2498                                 0.75         NaN  ...   NaN   \n",
       "2499                                  NaN         1.0  ...   NaN   \n",
       "\n",
       "productId             VEGETABLES - ALL OTHERS  VEGETABLES - SHELF STABLE  \\\n",
       "scaled_purchase_freq                                                       \n",
       "0                                        1.00                        1.0   \n",
       "1                                        1.00                        1.0   \n",
       "2                                         NaN                        1.0   \n",
       "3                                         NaN                        1.0   \n",
       "4                                         NaN                        1.0   \n",
       "...                                       ...                        ...   \n",
       "2495                                     1.00                        1.0   \n",
       "2496                                     1.00                        1.0   \n",
       "2497                                     1.00                        1.0   \n",
       "2498                                     0.75                        1.0   \n",
       "2499                                     1.00                        1.0   \n",
       "\n",
       "productId             VEGETABLES SALAD  VITAMINS  WAREHOUSE SNACKS  \\\n",
       "scaled_purchase_freq                                                 \n",
       "0                                 1.00       1.0              1.00   \n",
       "1                                  NaN       NaN              1.00   \n",
       "2                                 1.00       NaN              1.00   \n",
       "3                                  NaN       NaN              1.00   \n",
       "4                                  NaN       NaN               NaN   \n",
       "...                                ...       ...               ...   \n",
       "2495                              1.00       NaN              1.00   \n",
       "2496                              1.00       NaN              0.00   \n",
       "2497                               NaN       NaN              0.25   \n",
       "2498                              0.75       NaN              1.00   \n",
       "2499                              0.50       1.0              1.00   \n",
       "\n",
       "productId             WATCHES/CALCULATORS/LOBBY  WATER  \\\n",
       "scaled_purchase_freq                                     \n",
       "0                                           NaN    NaN   \n",
       "1                                           NaN    NaN   \n",
       "2                                           NaN    NaN   \n",
       "3                                           NaN    NaN   \n",
       "4                                           NaN    1.0   \n",
       "...                                         ...    ...   \n",
       "2495                                        NaN    NaN   \n",
       "2496                                        NaN    NaN   \n",
       "2497                                        NaN    NaN   \n",
       "2498                                        NaN    NaN   \n",
       "2499                                        NaN    NaN   \n",
       "\n",
       "productId             WATER - CARBONATED/FLVRD DRINK  YOGURT  \n",
       "scaled_purchase_freq                                          \n",
       "0                                                NaN     NaN  \n",
       "1                                                1.0     1.0  \n",
       "2                                                1.0     1.0  \n",
       "3                                                NaN     NaN  \n",
       "4                                                NaN     NaN  \n",
       "...                                              ...     ...  \n",
       "2495                                             1.0     1.0  \n",
       "2496                                             1.0     1.0  \n",
       "2497                                             1.0     1.0  \n",
       "2498                                             1.0     1.0  \n",
       "2499                                             1.0     1.0  \n",
       "\n",
       "[2500 rows x 305 columns]"
      ]
     },
     "execution_count": 9,
     "metadata": {},
     "output_type": "execute_result"
    }
   ],
   "source": [
    "d"
   ]
  },
  {
   "cell_type": "code",
   "execution_count": 10,
   "metadata": {},
   "outputs": [],
   "source": [
    "def split_data(data):\n",
    "    '''\n",
    "    Splits dataset into training and test set.\n",
    "    \n",
    "    Args:\n",
    "        data (pandas.DataFrame)\n",
    "        \n",
    "    Returns\n",
    "        train_data (tc.SFrame)\n",
    "        test_data (tc.SFrame)\n",
    "    '''\n",
    "    train, test = train_test_split(data, test_size = .2)\n",
    "    train_data = tc.SFrame(train)\n",
    "    test_data = tc.SFrame(test)\n",
    "    return train_data, test_data"
   ]
  },
  {
   "cell_type": "code",
   "execution_count": 11,
   "metadata": {},
   "outputs": [],
   "source": [
    "train_data, test_data = split_data(data)\n",
    "# train_data_dummy, test_data_dummy = split_data(data_dummy)\n",
    "train_data_norm, test_data_norm = split_data(data_norm)"
   ]
  },
  {
   "cell_type": "code",
   "execution_count": 12,
   "metadata": {},
   "outputs": [
    {
     "data": {
      "text/html": [
       "<div>\n",
       "<style scoped>\n",
       "    .dataframe tbody tr th:only-of-type {\n",
       "        vertical-align: middle;\n",
       "    }\n",
       "\n",
       "    .dataframe tbody tr th {\n",
       "        vertical-align: top;\n",
       "    }\n",
       "\n",
       "    .dataframe thead th {\n",
       "        text-align: right;\n",
       "    }\n",
       "</style>\n",
       "<table border=\"1\" class=\"dataframe\">\n",
       "  <thead>\n",
       "    <tr style=\"text-align: right;\">\n",
       "      <th></th>\n",
       "      <th>household_key</th>\n",
       "    </tr>\n",
       "  </thead>\n",
       "  <tbody>\n",
       "    <tr>\n",
       "      <th>0</th>\n",
       "      <td>1</td>\n",
       "    </tr>\n",
       "    <tr>\n",
       "      <th>1</th>\n",
       "      <td>2</td>\n",
       "    </tr>\n",
       "    <tr>\n",
       "      <th>2</th>\n",
       "      <td>3</td>\n",
       "    </tr>\n",
       "    <tr>\n",
       "      <th>3</th>\n",
       "      <td>4</td>\n",
       "    </tr>\n",
       "    <tr>\n",
       "      <th>4</th>\n",
       "      <td>5</td>\n",
       "    </tr>\n",
       "    <tr>\n",
       "      <th>...</th>\n",
       "      <td>...</td>\n",
       "    </tr>\n",
       "    <tr>\n",
       "      <th>2495</th>\n",
       "      <td>2496</td>\n",
       "    </tr>\n",
       "    <tr>\n",
       "      <th>2496</th>\n",
       "      <td>2497</td>\n",
       "    </tr>\n",
       "    <tr>\n",
       "      <th>2497</th>\n",
       "      <td>2498</td>\n",
       "    </tr>\n",
       "    <tr>\n",
       "      <th>2498</th>\n",
       "      <td>2499</td>\n",
       "    </tr>\n",
       "    <tr>\n",
       "      <th>2499</th>\n",
       "      <td>2500</td>\n",
       "    </tr>\n",
       "  </tbody>\n",
       "</table>\n",
       "<p>2500 rows × 1 columns</p>\n",
       "</div>"
      ],
      "text/plain": [
       "      household_key\n",
       "0                 1\n",
       "1                 2\n",
       "2                 3\n",
       "3                 4\n",
       "4                 5\n",
       "...             ...\n",
       "2495           2496\n",
       "2496           2497\n",
       "2497           2498\n",
       "2498           2499\n",
       "2499           2500\n",
       "\n",
       "[2500 rows x 1 columns]"
      ]
     },
     "execution_count": 12,
     "metadata": {},
     "output_type": "execute_result"
    }
   ],
   "source": [
    "customers = df['household_key'].reset_index()\n",
    "customers = customers.drop('index',axis=1)\n",
    "customers = customers.groupby('household_key').sum()\n",
    "customers = customers.reset_index()\n",
    "customers"
   ]
  },
  {
   "cell_type": "code",
   "execution_count": 13,
   "metadata": {},
   "outputs": [],
   "source": [
    "# constant variables to define field names include:\n",
    "user_id = 'customerId'\n",
    "item_id = 'productId'\n",
    "users_to_recommend = list(customers['household_key'])\n",
    "n_rec = 10 # number of items to recommend\n",
    "n_display = 30 # to display the first few rows in an output dataset"
   ]
  },
  {
   "cell_type": "code",
   "execution_count": 14,
   "metadata": {},
   "outputs": [],
   "source": [
    "def model(train_data, name, user_id, item_id, target, users_to_recommend, n_rec, n_display):\n",
    "    if name == 'popularity':\n",
    "        model = tc.popularity_recommender.create(train_data, \n",
    "                                                    user_id=user_id, \n",
    "                                                    item_id=item_id, \n",
    "                                                    target=target)\n",
    "    elif name == 'cosine':\n",
    "        model = tc.item_similarity_recommender.create(train_data, \n",
    "                                                    user_id=user_id, \n",
    "                                                    item_id=item_id, \n",
    "                                                    target=target, \n",
    "                                                    similarity_type='cosine')\n",
    "    elif name == 'pearson':\n",
    "        model = tc.item_similarity_recommender.create(train_data, \n",
    "                                                    user_id=user_id, \n",
    "                                                    item_id=item_id, \n",
    "                                                    target=target, \n",
    "                                                    similarity_type='pearson')\n",
    "        \n",
    "    recom = model.recommend(users=users_to_recommend, k=n_rec)\n",
    "    recom.print_rows(n_display)\n",
    "    return model"
   ]
  },
  {
   "cell_type": "markdown",
   "metadata": {},
   "source": [
    "### Popularity Model as Baseline\n",
    "- The popularity model takes the most popular items for recommendation. These items are products with the highest number of sells across customers.\n",
    "- Training data is used for model selection"
   ]
  },
  {
   "cell_type": "markdown",
   "metadata": {},
   "source": [
    "#### Using purchase count"
   ]
  },
  {
   "cell_type": "code",
   "execution_count": 15,
   "metadata": {},
   "outputs": [
    {
     "data": {
      "text/html": [
       "<pre>Preparing data set.</pre>"
      ],
      "text/plain": [
       "Preparing data set."
      ]
     },
     "metadata": {},
     "output_type": "display_data"
    },
    {
     "data": {
      "text/html": [
       "<pre>    Data has 227337 observations with 2500 users and 303 items.</pre>"
      ],
      "text/plain": [
       "    Data has 227337 observations with 2500 users and 303 items."
      ]
     },
     "metadata": {},
     "output_type": "display_data"
    },
    {
     "data": {
      "text/html": [
       "<pre>    Data prepared in: 0.20849s</pre>"
      ],
      "text/plain": [
       "    Data prepared in: 0.20849s"
      ]
     },
     "metadata": {},
     "output_type": "display_data"
    },
    {
     "data": {
      "text/html": [
       "<pre>227337 observations to process; with 303 unique items.</pre>"
      ],
      "text/plain": [
       "227337 observations to process; with 303 unique items."
      ]
     },
     "metadata": {},
     "output_type": "display_data"
    },
    {
     "data": {
      "text/html": [
       "<pre>recommendations finished on 1000/2500 queries. users per second: 218007</pre>"
      ],
      "text/plain": [
       "recommendations finished on 1000/2500 queries. users per second: 218007"
      ]
     },
     "metadata": {},
     "output_type": "display_data"
    },
    {
     "data": {
      "text/html": [
       "<pre>recommendations finished on 2000/2500 queries. users per second: 201552</pre>"
      ],
      "text/plain": [
       "recommendations finished on 2000/2500 queries. users per second: 201552"
      ]
     },
     "metadata": {},
     "output_type": "display_data"
    },
    {
     "name": "stdout",
     "output_type": "stream",
     "text": [
      "+------------+---------------------------+--------------------+------+\n",
      "| customerId |         productId         |       score        | rank |\n",
      "+------------+---------------------------+--------------------+------+\n",
      "|     1      |    FROZEN PACKAGE MEAT    |        5.0         |  1   |\n",
      "|     1      |    FLUID MILK PRODUCTS    |  4.99120082815735  |  2   |\n",
      "|     1      |        FROZEN PIZZA       | 4.928485576923077  |  3   |\n",
      "|     1      |    CRACKERS/MISC BKD FD   |  4.91965811965812  |  4   |\n",
      "|     1      |   ICE CREAM/MILK/SHERBTS  | 4.912968299711816  |  5   |\n",
      "|     1      |     CONDIMENTS/SAUCES     | 4.912817551963048  |  6   |\n",
      "|     1      |           YOGURT          | 4.895104895104895  |  7   |\n",
      "|     1      |            CORN           | 4.893098782138025  |  8   |\n",
      "|     1      |    MEAT - SHELF STABLE    | 4.885887913571911  |  9   |\n",
      "|     1      |       TROPICAL FRUIT      | 4.8817080207732255 |  10  |\n",
      "|     2      |    FROZEN PACKAGE MEAT    |        5.0         |  1   |\n",
      "|     2      |    FLUID MILK PRODUCTS    |  4.99120082815735  |  2   |\n",
      "|     2      |            EGGS           | 4.945566778900112  |  3   |\n",
      "|     2      |    CRACKERS/MISC BKD FD   |  4.91965811965812  |  4   |\n",
      "|     2      |           YOGURT          | 4.895104895104895  |  5   |\n",
      "|     2      |            CORN           | 4.893098782138025  |  6   |\n",
      "|     2      |    MEAT - SHELF STABLE    | 4.885887913571911  |  7   |\n",
      "|     2      |       TROPICAL FRUIT      | 4.8817080207732255 |  8   |\n",
      "|     2      |        BAKING MIXES       | 4.8625261688764825 |  9   |\n",
      "|     2      |   FRZN VEGETABLE/VEG DSH  | 4.852137351086195  |  10  |\n",
      "|     3      |    FROZEN PACKAGE MEAT    |        5.0         |  1   |\n",
      "|     3      |            SOUP           | 4.978248425872925  |  2   |\n",
      "|     3      | VEGETABLES - SHELF STABLE |  4.96189917936694  |  3   |\n",
      "|     3      |            BEEF           | 4.950385887541345  |  4   |\n",
      "|     3      |            EGGS           | 4.945566778900112  |  5   |\n",
      "|     3      |        COLD CEREAL        | 4.927400468384075  |  6   |\n",
      "|     3      |    MEAT - SHELF STABLE    | 4.885887913571911  |  7   |\n",
      "|     3      |       CANNED JUICES       | 4.870114251352977  |  8   |\n",
      "|     3      |      MILK BY-PRODUCTS     | 4.855833842394624  |  9   |\n",
      "|     3      |   FRZN VEGETABLE/VEG DSH  | 4.852137351086195  |  10  |\n",
      "+------------+---------------------------+--------------------+------+\n",
      "[25000 rows x 4 columns]\n",
      "\n"
     ]
    }
   ],
   "source": [
    "name = 'popularity'\n",
    "target = 'rating_label'\n",
    "popularity = model(train_data, name, user_id, item_id, target, users_to_recommend, n_rec, n_display)"
   ]
  },
  {
   "cell_type": "markdown",
   "metadata": {},
   "source": [
    "#### Using purchase dummy"
   ]
  },
  {
   "cell_type": "code",
   "execution_count": 16,
   "metadata": {},
   "outputs": [],
   "source": [
    "# name = 'popularity'\n",
    "# target = 'purchase_dummy'\n",
    "# pop_dummy = model(train_data_dummy, name, user_id, item_id, target, users_to_recommend, n_rec, n_display)"
   ]
  },
  {
   "cell_type": "markdown",
   "metadata": {},
   "source": [
    "#### Using scaled purchase count"
   ]
  },
  {
   "cell_type": "code",
   "execution_count": 17,
   "metadata": {},
   "outputs": [
    {
     "data": {
      "text/html": [
       "<pre>Preparing data set.</pre>"
      ],
      "text/plain": [
       "Preparing data set."
      ]
     },
     "metadata": {},
     "output_type": "display_data"
    },
    {
     "data": {
      "text/html": [
       "<pre>    Data has 227334 observations with 2500 users and 300 items.</pre>"
      ],
      "text/plain": [
       "    Data has 227334 observations with 2500 users and 300 items."
      ]
     },
     "metadata": {},
     "output_type": "display_data"
    },
    {
     "data": {
      "text/html": [
       "<pre>    Data prepared in: 0.232876s</pre>"
      ],
      "text/plain": [
       "    Data prepared in: 0.232876s"
      ]
     },
     "metadata": {},
     "output_type": "display_data"
    },
    {
     "data": {
      "text/html": [
       "<pre>227334 observations to process; with 300 unique items.</pre>"
      ],
      "text/plain": [
       "227334 observations to process; with 300 unique items."
      ]
     },
     "metadata": {},
     "output_type": "display_data"
    },
    {
     "data": {
      "text/html": [
       "<pre>recommendations finished on 1000/2500 queries. users per second: 86542.6</pre>"
      ],
      "text/plain": [
       "recommendations finished on 1000/2500 queries. users per second: 86542.6"
      ]
     },
     "metadata": {},
     "output_type": "display_data"
    },
    {
     "data": {
      "text/html": [
       "<pre>recommendations finished on 2000/2500 queries. users per second: 92477</pre>"
      ],
      "text/plain": [
       "recommendations finished on 2000/2500 queries. users per second: 92477"
      ]
     },
     "metadata": {},
     "output_type": "display_data"
    },
    {
     "name": "stdout",
     "output_type": "stream",
     "text": [
      "+------------+--------------------------------+--------------------+------+\n",
      "| customerId |           productId            |       score        | rank |\n",
      "+------------+--------------------------------+--------------------+------+\n",
      "|     1      |             CHEESE             | 0.9965425531914893 |  1   |\n",
      "|     1      |          FROZEN PIZZA          | 0.9808282208588958 |  2   |\n",
      "|     1      |     SALD DRSNG/SNDWCH SPRD     | 0.9800693240901213 |  3   |\n",
      "|     1      |             YOGURT             | 0.9748811948404617 |  4   |\n",
      "|     1      |      MEAT - SHELF STABLE       | 0.9689793195463643 |  5   |\n",
      "|     1      |              CORN              | 0.9688365650969529 |  6   |\n",
      "|     1      |            CHICKEN             | 0.9622302158273381 |  7   |\n",
      "|     1      |         DINNER MXS:DRY         | 0.9621418826739427 |  8   |\n",
      "|     1      |   BEANS - CANNED GLASS & MW    | 0.9543808834178131 |  9   |\n",
      "|     1      | WATER - CARBONATED/FLVRD DRINK | 0.9498680738786279 |  10  |\n",
      "|     2      |             CHEESE             | 0.9965425531914893 |  1   |\n",
      "|     2      |          COLD CEREAL           | 0.9825547013601419 |  2   |\n",
      "|     2      |     SALD DRSNG/SNDWCH SPRD     | 0.9800693240901213 |  3   |\n",
      "|     2      |      CRACKERS/MISC BKD FD      | 0.9791193181818182 |  4   |\n",
      "|     2      |             YOGURT             | 0.9748811948404617 |  5   |\n",
      "|     2      |      MEAT - SHELF STABLE       | 0.9689793195463643 |  6   |\n",
      "|     2      |        MILK BY-PRODUCTS        | 0.9649691358024691 |  7   |\n",
      "|     2      |     FRZN VEGETABLE/VEG DSH     | 0.9636524822695035 |  8   |\n",
      "|     2      |            CHICKEN             | 0.9622302158273381 |  9   |\n",
      "|     2      |       BAKED SWEET GOODS        | 0.9619109102646869 |  10  |\n",
      "|     3      |          SOFT DRINKS           | 0.9967488021902808 |  1   |\n",
      "|     3      |              EGGS              | 0.9877913429522752 |  2   |\n",
      "|     3      |              BEEF              | 0.9869835880022637 |  3   |\n",
      "|     3      |        CANDY - PACKAGED        | 0.9848308051341891 |  4   |\n",
      "|     3      |          FROZEN PIZZA          | 0.9808282208588958 |  5   |\n",
      "|     3      |           LUNCHMEAT            | 0.9774578243164631 |  6   |\n",
      "|     3      |     ICE CREAM/MILK/SHERBTS     | 0.9763904982618772 |  7   |\n",
      "|     3      |          BAKING MIXES          | 0.9638408304498269 |  8   |\n",
      "|     3      |           MARGARINES           | 0.9554838709677419 |  9   |\n",
      "|     3      |   BEANS - CANNED GLASS & MW    | 0.9543808834178131 |  10  |\n",
      "+------------+--------------------------------+--------------------+------+\n",
      "[25000 rows x 4 columns]\n",
      "\n"
     ]
    }
   ],
   "source": [
    "name = 'popularity'\n",
    "target = 'scaled_purchase_freq'\n",
    "pop_norm = model(train_data_norm, name, user_id, item_id, target, users_to_recommend, n_rec, n_display)"
   ]
  },
  {
   "cell_type": "markdown",
   "metadata": {},
   "source": [
    "### Cosine similarity"
   ]
  },
  {
   "cell_type": "markdown",
   "metadata": {},
   "source": [
    "#### Using purchase count"
   ]
  },
  {
   "cell_type": "code",
   "execution_count": 18,
   "metadata": {},
   "outputs": [
    {
     "data": {
      "text/html": [
       "<pre>Preparing data set.</pre>"
      ],
      "text/plain": [
       "Preparing data set."
      ]
     },
     "metadata": {},
     "output_type": "display_data"
    },
    {
     "data": {
      "text/html": [
       "<pre>    Data has 227337 observations with 2500 users and 303 items.</pre>"
      ],
      "text/plain": [
       "    Data has 227337 observations with 2500 users and 303 items."
      ]
     },
     "metadata": {},
     "output_type": "display_data"
    },
    {
     "data": {
      "text/html": [
       "<pre>    Data prepared in: 0.231415s</pre>"
      ],
      "text/plain": [
       "    Data prepared in: 0.231415s"
      ]
     },
     "metadata": {},
     "output_type": "display_data"
    },
    {
     "data": {
      "text/html": [
       "<pre>Training model from provided data.</pre>"
      ],
      "text/plain": [
       "Training model from provided data."
      ]
     },
     "metadata": {},
     "output_type": "display_data"
    },
    {
     "data": {
      "text/html": [
       "<pre>Gathering per-item and per-user statistics.</pre>"
      ],
      "text/plain": [
       "Gathering per-item and per-user statistics."
      ]
     },
     "metadata": {},
     "output_type": "display_data"
    },
    {
     "data": {
      "text/html": [
       "<pre>+--------------------------------+------------+</pre>"
      ],
      "text/plain": [
       "+--------------------------------+------------+"
      ]
     },
     "metadata": {},
     "output_type": "display_data"
    },
    {
     "data": {
      "text/html": [
       "<pre>| Elapsed Time (Item Statistics) | % Complete |</pre>"
      ],
      "text/plain": [
       "| Elapsed Time (Item Statistics) | % Complete |"
      ]
     },
     "metadata": {},
     "output_type": "display_data"
    },
    {
     "data": {
      "text/html": [
       "<pre>+--------------------------------+------------+</pre>"
      ],
      "text/plain": [
       "+--------------------------------+------------+"
      ]
     },
     "metadata": {},
     "output_type": "display_data"
    },
    {
     "data": {
      "text/html": [
       "<pre>| 3.905ms                        | 40         |</pre>"
      ],
      "text/plain": [
       "| 3.905ms                        | 40         |"
      ]
     },
     "metadata": {},
     "output_type": "display_data"
    },
    {
     "data": {
      "text/html": [
       "<pre>| 7.523ms                        | 100        |</pre>"
      ],
      "text/plain": [
       "| 7.523ms                        | 100        |"
      ]
     },
     "metadata": {},
     "output_type": "display_data"
    },
    {
     "data": {
      "text/html": [
       "<pre>+--------------------------------+------------+</pre>"
      ],
      "text/plain": [
       "+--------------------------------+------------+"
      ]
     },
     "metadata": {},
     "output_type": "display_data"
    },
    {
     "data": {
      "text/html": [
       "<pre>Setting up lookup tables.</pre>"
      ],
      "text/plain": [
       "Setting up lookup tables."
      ]
     },
     "metadata": {},
     "output_type": "display_data"
    },
    {
     "data": {
      "text/html": [
       "<pre>Processing data in one pass using dense lookup tables.</pre>"
      ],
      "text/plain": [
       "Processing data in one pass using dense lookup tables."
      ]
     },
     "metadata": {},
     "output_type": "display_data"
    },
    {
     "data": {
      "text/html": [
       "<pre>+-------------------------------------+------------------+-----------------+</pre>"
      ],
      "text/plain": [
       "+-------------------------------------+------------------+-----------------+"
      ]
     },
     "metadata": {},
     "output_type": "display_data"
    },
    {
     "data": {
      "text/html": [
       "<pre>| Elapsed Time (Constructing Lookups) | Total % Complete | Items Processed |</pre>"
      ],
      "text/plain": [
       "| Elapsed Time (Constructing Lookups) | Total % Complete | Items Processed |"
      ]
     },
     "metadata": {},
     "output_type": "display_data"
    },
    {
     "data": {
      "text/html": [
       "<pre>+-------------------------------------+------------------+-----------------+</pre>"
      ],
      "text/plain": [
       "+-------------------------------------+------------------+-----------------+"
      ]
     },
     "metadata": {},
     "output_type": "display_data"
    },
    {
     "data": {
      "text/html": [
       "<pre>| 11.364ms                            | 0                | 0               |</pre>"
      ],
      "text/plain": [
       "| 11.364ms                            | 0                | 0               |"
      ]
     },
     "metadata": {},
     "output_type": "display_data"
    },
    {
     "data": {
      "text/html": [
       "<pre>| 93.136ms                            | 100              | 303             |</pre>"
      ],
      "text/plain": [
       "| 93.136ms                            | 100              | 303             |"
      ]
     },
     "metadata": {},
     "output_type": "display_data"
    },
    {
     "data": {
      "text/html": [
       "<pre>+-------------------------------------+------------------+-----------------+</pre>"
      ],
      "text/plain": [
       "+-------------------------------------+------------------+-----------------+"
      ]
     },
     "metadata": {},
     "output_type": "display_data"
    },
    {
     "data": {
      "text/html": [
       "<pre>Finalizing lookup tables.</pre>"
      ],
      "text/plain": [
       "Finalizing lookup tables."
      ]
     },
     "metadata": {},
     "output_type": "display_data"
    },
    {
     "data": {
      "text/html": [
       "<pre>Generating candidate set for working with new users.</pre>"
      ],
      "text/plain": [
       "Generating candidate set for working with new users."
      ]
     },
     "metadata": {},
     "output_type": "display_data"
    },
    {
     "data": {
      "text/html": [
       "<pre>Finished training in 1.12249s</pre>"
      ],
      "text/plain": [
       "Finished training in 1.12249s"
      ]
     },
     "metadata": {},
     "output_type": "display_data"
    },
    {
     "data": {
      "text/html": [
       "<pre>recommendations finished on 1000/2500 queries. users per second: 44132.6</pre>"
      ],
      "text/plain": [
       "recommendations finished on 1000/2500 queries. users per second: 44132.6"
      ]
     },
     "metadata": {},
     "output_type": "display_data"
    },
    {
     "data": {
      "text/html": [
       "<pre>recommendations finished on 2000/2500 queries. users per second: 38122.8</pre>"
      ],
      "text/plain": [
       "recommendations finished on 2000/2500 queries. users per second: 38122.8"
      ]
     },
     "metadata": {},
     "output_type": "display_data"
    },
    {
     "name": "stdout",
     "output_type": "stream",
     "text": [
      "+------------+--------------------------------+--------------------+------+\n",
      "| customerId |           productId            |       score        | rank |\n",
      "+------------+--------------------------------+--------------------+------+\n",
      "|     1      |         TROPICAL FRUIT         | 2.8428714584845762 |  1   |\n",
      "|     1      |       CONDIMENTS/SAUCES        | 2.841829036290829  |  2   |\n",
      "|     1      |      FLUID MILK PRODUCTS       | 2.8319414481520653 |  3   |\n",
      "|     1      |      CRACKERS/MISC BKD FD      | 2.7615692873413744 |  4   |\n",
      "|     1      |            CHICKEN             | 2.7357007912718334 |  5   |\n",
      "|     1      |          FROZEN PIZZA          | 2.7334124978918295 |  6   |\n",
      "|     1      |     ICE CREAM/MILK/SHERBTS     | 2.704537934408738  |  7   |\n",
      "|     1      |     DRY BN/VEG/POTATO/RICE     | 2.6994249717547345 |  8   |\n",
      "|     1      | WATER - CARBONATED/FLVRD DRINK | 2.536541764552777  |  9   |\n",
      "|     1      |             YOGURT             | 2.535817356636891  |  10  |\n",
      "|     2      |         TROPICAL FRUIT         | 2.9132833414607577 |  1   |\n",
      "|     2      |      FLUID MILK PRODUCTS       | 2.9105720669031143 |  2   |\n",
      "|     2      |              EGGS              | 2.7954546086214207 |  3   |\n",
      "|     2      |      CRACKERS/MISC BKD FD      | 2.7874039251495293 |  4   |\n",
      "|     2      |       DRY NOODLES/PASTA        | 2.7377321791869624 |  5   |\n",
      "|     2      |        SUGARS/SWEETNERS        | 2.712831320586028  |  6   |\n",
      "|     2      |          BATH TISSUES          | 2.7040049019787045 |  7   |\n",
      "|     2      |           SALAD MIX            | 2.690597756041421  |  8   |\n",
      "|     2      |             YOGURT             |  2.62449092887066  |  9   |\n",
      "|     2      |     FRZN VEGETABLE/VEG DSH     | 2.3964361625689046 |  10  |\n",
      "|     3      |              BEEF              | 3.1544837732858295 |  1   |\n",
      "|     3      |              EGGS              | 3.1475582077533386 |  2   |\n",
      "|     3      |              SOUP              | 3.146378529977195  |  3   |\n",
      "|     3      |         CANNED JUICES          | 3.116469590724269  |  4   |\n",
      "|     3      |   VEGETABLES - SHELF STABLE    | 3.1121221524250657 |  5   |\n",
      "|     3      |     FD WRAPS/BAGS/TRSH BG      | 3.042502237271659  |  6   |\n",
      "|     3      |           SALAD MIX            | 2.9649342917188815 |  7   |\n",
      "|     3      |          PASTA SAUCE           | 2.9177219543275954 |  8   |\n",
      "|     3      |          BAKING NEEDS          | 2.902415515501288  |  9   |\n",
      "|     3      |             ONIONS             | 2.899777304522599  |  10  |\n",
      "+------------+--------------------------------+--------------------+------+\n",
      "[25000 rows x 4 columns]\n",
      "\n"
     ]
    }
   ],
   "source": [
    "name = 'cosine'\n",
    "target = 'rating_label'\n",
    "cos = model(train_data, name, user_id, item_id, target, users_to_recommend, n_rec, n_display)"
   ]
  },
  {
   "cell_type": "markdown",
   "metadata": {},
   "source": [
    "#### Using purchase dummy"
   ]
  },
  {
   "cell_type": "code",
   "execution_count": 19,
   "metadata": {},
   "outputs": [],
   "source": [
    "# name = 'cosine'\n",
    "# target = 'purchase_dummy'\n",
    "# cos_dummy = model(train_data_dummy, name, user_id, item_id, target, users_to_recommend, n_rec, n_display)"
   ]
  },
  {
   "cell_type": "markdown",
   "metadata": {},
   "source": [
    "#### Using scaled purchase count"
   ]
  },
  {
   "cell_type": "code",
   "execution_count": 20,
   "metadata": {},
   "outputs": [
    {
     "data": {
      "text/html": [
       "<pre>Preparing data set.</pre>"
      ],
      "text/plain": [
       "Preparing data set."
      ]
     },
     "metadata": {},
     "output_type": "display_data"
    },
    {
     "data": {
      "text/html": [
       "<pre>    Data has 227334 observations with 2500 users and 300 items.</pre>"
      ],
      "text/plain": [
       "    Data has 227334 observations with 2500 users and 300 items."
      ]
     },
     "metadata": {},
     "output_type": "display_data"
    },
    {
     "data": {
      "text/html": [
       "<pre>    Data prepared in: 0.201071s</pre>"
      ],
      "text/plain": [
       "    Data prepared in: 0.201071s"
      ]
     },
     "metadata": {},
     "output_type": "display_data"
    },
    {
     "data": {
      "text/html": [
       "<pre>Training model from provided data.</pre>"
      ],
      "text/plain": [
       "Training model from provided data."
      ]
     },
     "metadata": {},
     "output_type": "display_data"
    },
    {
     "data": {
      "text/html": [
       "<pre>Gathering per-item and per-user statistics.</pre>"
      ],
      "text/plain": [
       "Gathering per-item and per-user statistics."
      ]
     },
     "metadata": {},
     "output_type": "display_data"
    },
    {
     "data": {
      "text/html": [
       "<pre>+--------------------------------+------------+</pre>"
      ],
      "text/plain": [
       "+--------------------------------+------------+"
      ]
     },
     "metadata": {},
     "output_type": "display_data"
    },
    {
     "data": {
      "text/html": [
       "<pre>| Elapsed Time (Item Statistics) | % Complete |</pre>"
      ],
      "text/plain": [
       "| Elapsed Time (Item Statistics) | % Complete |"
      ]
     },
     "metadata": {},
     "output_type": "display_data"
    },
    {
     "data": {
      "text/html": [
       "<pre>+--------------------------------+------------+</pre>"
      ],
      "text/plain": [
       "+--------------------------------+------------+"
      ]
     },
     "metadata": {},
     "output_type": "display_data"
    },
    {
     "data": {
      "text/html": [
       "<pre>| 3.705ms                        | 40         |</pre>"
      ],
      "text/plain": [
       "| 3.705ms                        | 40         |"
      ]
     },
     "metadata": {},
     "output_type": "display_data"
    },
    {
     "data": {
      "text/html": [
       "<pre>| 13.194ms                       | 100        |</pre>"
      ],
      "text/plain": [
       "| 13.194ms                       | 100        |"
      ]
     },
     "metadata": {},
     "output_type": "display_data"
    },
    {
     "data": {
      "text/html": [
       "<pre>+--------------------------------+------------+</pre>"
      ],
      "text/plain": [
       "+--------------------------------+------------+"
      ]
     },
     "metadata": {},
     "output_type": "display_data"
    },
    {
     "data": {
      "text/html": [
       "<pre>Setting up lookup tables.</pre>"
      ],
      "text/plain": [
       "Setting up lookup tables."
      ]
     },
     "metadata": {},
     "output_type": "display_data"
    },
    {
     "data": {
      "text/html": [
       "<pre>Processing data in one pass using dense lookup tables.</pre>"
      ],
      "text/plain": [
       "Processing data in one pass using dense lookup tables."
      ]
     },
     "metadata": {},
     "output_type": "display_data"
    },
    {
     "data": {
      "text/html": [
       "<pre>+-------------------------------------+------------------+-----------------+</pre>"
      ],
      "text/plain": [
       "+-------------------------------------+------------------+-----------------+"
      ]
     },
     "metadata": {},
     "output_type": "display_data"
    },
    {
     "data": {
      "text/html": [
       "<pre>| Elapsed Time (Constructing Lookups) | Total % Complete | Items Processed |</pre>"
      ],
      "text/plain": [
       "| Elapsed Time (Constructing Lookups) | Total % Complete | Items Processed |"
      ]
     },
     "metadata": {},
     "output_type": "display_data"
    },
    {
     "data": {
      "text/html": [
       "<pre>+-------------------------------------+------------------+-----------------+</pre>"
      ],
      "text/plain": [
       "+-------------------------------------+------------------+-----------------+"
      ]
     },
     "metadata": {},
     "output_type": "display_data"
    },
    {
     "data": {
      "text/html": [
       "<pre>| 14.169ms                            | 0                | 0               |</pre>"
      ],
      "text/plain": [
       "| 14.169ms                            | 0                | 0               |"
      ]
     },
     "metadata": {},
     "output_type": "display_data"
    },
    {
     "data": {
      "text/html": [
       "<pre>| 146.238ms                           | 100              | 300             |</pre>"
      ],
      "text/plain": [
       "| 146.238ms                           | 100              | 300             |"
      ]
     },
     "metadata": {},
     "output_type": "display_data"
    },
    {
     "data": {
      "text/html": [
       "<pre>+-------------------------------------+------------------+-----------------+</pre>"
      ],
      "text/plain": [
       "+-------------------------------------+------------------+-----------------+"
      ]
     },
     "metadata": {},
     "output_type": "display_data"
    },
    {
     "data": {
      "text/html": [
       "<pre>Finalizing lookup tables.</pre>"
      ],
      "text/plain": [
       "Finalizing lookup tables."
      ]
     },
     "metadata": {},
     "output_type": "display_data"
    },
    {
     "data": {
      "text/html": [
       "<pre>Generating candidate set for working with new users.</pre>"
      ],
      "text/plain": [
       "Generating candidate set for working with new users."
      ]
     },
     "metadata": {},
     "output_type": "display_data"
    },
    {
     "data": {
      "text/html": [
       "<pre>Finished training in 0.1677s</pre>"
      ],
      "text/plain": [
       "Finished training in 0.1677s"
      ]
     },
     "metadata": {},
     "output_type": "display_data"
    },
    {
     "data": {
      "text/html": [
       "<pre>recommendations finished on 1000/2500 queries. users per second: 17567.3</pre>"
      ],
      "text/plain": [
       "recommendations finished on 1000/2500 queries. users per second: 17567.3"
      ]
     },
     "metadata": {},
     "output_type": "display_data"
    },
    {
     "data": {
      "text/html": [
       "<pre>recommendations finished on 2000/2500 queries. users per second: 20477.7</pre>"
      ],
      "text/plain": [
       "recommendations finished on 2000/2500 queries. users per second: 20477.7"
      ]
     },
     "metadata": {},
     "output_type": "display_data"
    },
    {
     "name": "stdout",
     "output_type": "stream",
     "text": [
      "+------------+--------------------------------+---------------------+------+\n",
      "| customerId |           productId            |        score        | rank |\n",
      "+------------+--------------------------------+---------------------+------+\n",
      "|     1      |             CHEESE             |  0.5523866529416557 |  1   |\n",
      "|     1      |     SALD DRSNG/SNDWCH SPRD     |  0.5508193277349376 |  2   |\n",
      "|     1      |          FROZEN PIZZA          |  0.5402008584051421 |  3   |\n",
      "|     1      |             YOGURT             |  0.536537619552227  |  4   |\n",
      "|     1      |            CHICKEN             |  0.5235590392893011 |  5   |\n",
      "|     1      |         DINNER MXS:DRY         |  0.5075852473576864 |  6   |\n",
      "|     1      | WATER - CARBONATED/FLVRD DRINK | 0.49479356558635984 |  7   |\n",
      "|     1      |      MEAT - SHELF STABLE       | 0.47689048388991695 |  8   |\n",
      "|     1      |   BEANS - CANNED GLASS & MW    |  0.4752017632879392 |  9   |\n",
      "|     1      |            TOMATOES            | 0.46980964716034707 |  10  |\n",
      "|     2      |      CRACKERS/MISC BKD FD      |  0.5666172504425049 |  1   |\n",
      "|     2      |        MILK BY-PRODUCTS        |  0.559086705508985  |  2   |\n",
      "|     2      |          COLD CEREAL           |  0.5524936224284925 |  3   |\n",
      "|     2      |             CHEESE             |  0.5492942144996241 |  4   |\n",
      "|     2      |     SALD DRSNG/SNDWCH SPRD     |  0.5466509607800266 |  5   |\n",
      "|     2      |             YOGURT             |  0.533456557152564  |  6   |\n",
      "|     2      |            CHICKEN             |  0.5169378764796675 |  7   |\n",
      "|     2      |       PNT BTR/JELLY/JAMS       |  0.5154439210891724 |  8   |\n",
      "|     2      | WATER - CARBONATED/FLVRD DRINK |  0.5114415936302721 |  9   |\n",
      "|     2      |     FRZN VEGETABLE/VEG DSH     | 0.49628836857645137 |  10  |\n",
      "|     3      |              EGGS              |  0.6235510713524288 |  1   |\n",
      "|     3      |          SOFT DRINKS           |  0.6184354484081268 |  2   |\n",
      "|     3      |        CANDY - PACKAGED        |  0.6051419688595666 |  3   |\n",
      "|     3      |              BEEF              |  0.6045496430661943 |  4   |\n",
      "|     3      |     ICE CREAM/MILK/SHERBTS     |  0.603974289364285  |  5   |\n",
      "|     3      |          FROZEN PIZZA          |  0.5982302784919739 |  6   |\n",
      "|     3      |           LUNCHMEAT            |  0.5962760600778791 |  7   |\n",
      "|     3      |          BAKING MIXES          |  0.5816007879045274 |  8   |\n",
      "|     3      |           MARGARINES           |  0.5727310319741566 |  9   |\n",
      "|     3      |             BACON              |  0.5569208966361152 |  10  |\n",
      "+------------+--------------------------------+---------------------+------+\n",
      "[25000 rows x 4 columns]\n",
      "\n"
     ]
    }
   ],
   "source": [
    "name = 'cosine' \n",
    "target = 'scaled_purchase_freq' \n",
    "cos_norm = model(train_data_norm, name, user_id, item_id, target, users_to_recommend, n_rec, n_display)"
   ]
  },
  {
   "cell_type": "markdown",
   "metadata": {},
   "source": [
    "### Pearson"
   ]
  },
  {
   "cell_type": "markdown",
   "metadata": {},
   "source": [
    "#### Using purchase count"
   ]
  },
  {
   "cell_type": "code",
   "execution_count": 21,
   "metadata": {},
   "outputs": [
    {
     "data": {
      "text/html": [
       "<pre>Preparing data set.</pre>"
      ],
      "text/plain": [
       "Preparing data set."
      ]
     },
     "metadata": {},
     "output_type": "display_data"
    },
    {
     "data": {
      "text/html": [
       "<pre>    Data has 227337 observations with 2500 users and 303 items.</pre>"
      ],
      "text/plain": [
       "    Data has 227337 observations with 2500 users and 303 items."
      ]
     },
     "metadata": {},
     "output_type": "display_data"
    },
    {
     "data": {
      "text/html": [
       "<pre>    Data prepared in: 0.294225s</pre>"
      ],
      "text/plain": [
       "    Data prepared in: 0.294225s"
      ]
     },
     "metadata": {},
     "output_type": "display_data"
    },
    {
     "data": {
      "text/html": [
       "<pre>Training model from provided data.</pre>"
      ],
      "text/plain": [
       "Training model from provided data."
      ]
     },
     "metadata": {},
     "output_type": "display_data"
    },
    {
     "data": {
      "text/html": [
       "<pre>Gathering per-item and per-user statistics.</pre>"
      ],
      "text/plain": [
       "Gathering per-item and per-user statistics."
      ]
     },
     "metadata": {},
     "output_type": "display_data"
    },
    {
     "data": {
      "text/html": [
       "<pre>+--------------------------------+------------+</pre>"
      ],
      "text/plain": [
       "+--------------------------------+------------+"
      ]
     },
     "metadata": {},
     "output_type": "display_data"
    },
    {
     "data": {
      "text/html": [
       "<pre>| Elapsed Time (Item Statistics) | % Complete |</pre>"
      ],
      "text/plain": [
       "| Elapsed Time (Item Statistics) | % Complete |"
      ]
     },
     "metadata": {},
     "output_type": "display_data"
    },
    {
     "data": {
      "text/html": [
       "<pre>+--------------------------------+------------+</pre>"
      ],
      "text/plain": [
       "+--------------------------------+------------+"
      ]
     },
     "metadata": {},
     "output_type": "display_data"
    },
    {
     "data": {
      "text/html": [
       "<pre>| 14.248ms                       | 40         |</pre>"
      ],
      "text/plain": [
       "| 14.248ms                       | 40         |"
      ]
     },
     "metadata": {},
     "output_type": "display_data"
    },
    {
     "data": {
      "text/html": [
       "<pre>| 29.419ms                       | 100        |</pre>"
      ],
      "text/plain": [
       "| 29.419ms                       | 100        |"
      ]
     },
     "metadata": {},
     "output_type": "display_data"
    },
    {
     "data": {
      "text/html": [
       "<pre>+--------------------------------+------------+</pre>"
      ],
      "text/plain": [
       "+--------------------------------+------------+"
      ]
     },
     "metadata": {},
     "output_type": "display_data"
    },
    {
     "data": {
      "text/html": [
       "<pre>Setting up lookup tables.</pre>"
      ],
      "text/plain": [
       "Setting up lookup tables."
      ]
     },
     "metadata": {},
     "output_type": "display_data"
    },
    {
     "data": {
      "text/html": [
       "<pre>Processing data in one pass using dense lookup tables.</pre>"
      ],
      "text/plain": [
       "Processing data in one pass using dense lookup tables."
      ]
     },
     "metadata": {},
     "output_type": "display_data"
    },
    {
     "data": {
      "text/html": [
       "<pre>+-------------------------------------+------------------+-----------------+</pre>"
      ],
      "text/plain": [
       "+-------------------------------------+------------------+-----------------+"
      ]
     },
     "metadata": {},
     "output_type": "display_data"
    },
    {
     "data": {
      "text/html": [
       "<pre>| Elapsed Time (Constructing Lookups) | Total % Complete | Items Processed |</pre>"
      ],
      "text/plain": [
       "| Elapsed Time (Constructing Lookups) | Total % Complete | Items Processed |"
      ]
     },
     "metadata": {},
     "output_type": "display_data"
    },
    {
     "data": {
      "text/html": [
       "<pre>+-------------------------------------+------------------+-----------------+</pre>"
      ],
      "text/plain": [
       "+-------------------------------------+------------------+-----------------+"
      ]
     },
     "metadata": {},
     "output_type": "display_data"
    },
    {
     "data": {
      "text/html": [
       "<pre>| 31.309ms                            | 0                | 0               |</pre>"
      ],
      "text/plain": [
       "| 31.309ms                            | 0                | 0               |"
      ]
     },
     "metadata": {},
     "output_type": "display_data"
    },
    {
     "data": {
      "text/html": [
       "<pre>| 478.368ms                           | 100              | 303             |</pre>"
      ],
      "text/plain": [
       "| 478.368ms                           | 100              | 303             |"
      ]
     },
     "metadata": {},
     "output_type": "display_data"
    },
    {
     "data": {
      "text/html": [
       "<pre>+-------------------------------------+------------------+-----------------+</pre>"
      ],
      "text/plain": [
       "+-------------------------------------+------------------+-----------------+"
      ]
     },
     "metadata": {},
     "output_type": "display_data"
    },
    {
     "data": {
      "text/html": [
       "<pre>Finalizing lookup tables.</pre>"
      ],
      "text/plain": [
       "Finalizing lookup tables."
      ]
     },
     "metadata": {},
     "output_type": "display_data"
    },
    {
     "data": {
      "text/html": [
       "<pre>Generating candidate set for working with new users.</pre>"
      ],
      "text/plain": [
       "Generating candidate set for working with new users."
      ]
     },
     "metadata": {},
     "output_type": "display_data"
    },
    {
     "data": {
      "text/html": [
       "<pre>Finished training in 0.509978s</pre>"
      ],
      "text/plain": [
       "Finished training in 0.509978s"
      ]
     },
     "metadata": {},
     "output_type": "display_data"
    },
    {
     "data": {
      "text/html": [
       "<pre>recommendations finished on 1000/2500 queries. users per second: 25243.6</pre>"
      ],
      "text/plain": [
       "recommendations finished on 1000/2500 queries. users per second: 25243.6"
      ]
     },
     "metadata": {},
     "output_type": "display_data"
    },
    {
     "data": {
      "text/html": [
       "<pre>recommendations finished on 2000/2500 queries. users per second: 25335.1</pre>"
      ],
      "text/plain": [
       "recommendations finished on 2000/2500 queries. users per second: 25335.1"
      ]
     },
     "metadata": {},
     "output_type": "display_data"
    },
    {
     "name": "stdout",
     "output_type": "stream",
     "text": [
      "+------------+---------------------------+--------------------+------+\n",
      "| customerId |         productId         |       score        | rank |\n",
      "+------------+---------------------------+--------------------+------+\n",
      "|     1      |    FROZEN PACKAGE MEAT    |        5.0         |  1   |\n",
      "|     1      |    FLUID MILK PRODUCTS    | 4.990846012023186  |  2   |\n",
      "|     1      |        FROZEN PIZZA       |  4.92831855668472  |  3   |\n",
      "|     1      |    CRACKERS/MISC BKD FD   | 4.922238245975771  |  4   |\n",
      "|     1      |     CONDIMENTS/SAUCES     | 4.9193577042789585 |  5   |\n",
      "|     1      |   ICE CREAM/MILK/SHERBTS  | 4.915592671015762  |  6   |\n",
      "|     1      |           YOGURT          | 4.898867255480554  |  7   |\n",
      "|     1      |            CORN           | 4.898155670003097  |  8   |\n",
      "|     1      |       TROPICAL FRUIT      | 4.890460306061152  |  9   |\n",
      "|     1      |    MEAT - SHELF STABLE    | 4.888505079018196  |  10  |\n",
      "|     2      |    FROZEN PACKAGE MEAT    |        5.0         |  1   |\n",
      "|     2      |    FLUID MILK PRODUCTS    | 4.993099710723021  |  2   |\n",
      "|     2      |            EGGS           | 4.9561356714143745 |  3   |\n",
      "|     2      |    CRACKERS/MISC BKD FD   | 4.924954687182044  |  4   |\n",
      "|     2      |           YOGURT          |  4.90263077016554  |  5   |\n",
      "|     2      |            CORN           | 4.898494517993486  |  6   |\n",
      "|     2      |       TROPICAL FRUIT      | 4.893778898457708  |  7   |\n",
      "|     2      |    MEAT - SHELF STABLE    | 4.892410353268085  |  8   |\n",
      "|     2      |     DRY NOODLES/PASTA     | 4.869206772010211  |  9   |\n",
      "|     2      |        BAKING MIXES       | 4.867955239181431  |  10  |\n",
      "|     3      |    FROZEN PACKAGE MEAT    |        5.0         |  1   |\n",
      "|     3      |            SOUP           | 4.980027562651358  |  2   |\n",
      "|     3      | VEGETABLES - SHELF STABLE | 4.970353856037305  |  3   |\n",
      "|     3      |            BEEF           | 4.957506089400642  |  4   |\n",
      "|     3      |            EGGS           | 4.956928029294617  |  5   |\n",
      "|     3      |        COLD CEREAL        | 4.930329892567358  |  6   |\n",
      "|     3      |    MEAT - SHELF STABLE    | 4.889980777415325  |  7   |\n",
      "|     3      |       CANNED JUICES       |  4.88350060501472  |  8   |\n",
      "|     3      |      MILK BY-PRODUCTS     | 4.868836072791382  |  9   |\n",
      "|     3      |   FRZN VEGETABLE/VEG DSH  | 4.857448009498844  |  10  |\n",
      "+------------+---------------------------+--------------------+------+\n",
      "[25000 rows x 4 columns]\n",
      "\n"
     ]
    }
   ],
   "source": [
    "name = 'pearson'\n",
    "target = 'rating_label'\n",
    "pear = model(train_data, name, user_id, item_id, target, users_to_recommend, n_rec, n_display)"
   ]
  },
  {
   "cell_type": "markdown",
   "metadata": {},
   "source": [
    "#### Using purchase dummy"
   ]
  },
  {
   "cell_type": "code",
   "execution_count": 22,
   "metadata": {},
   "outputs": [],
   "source": [
    "# name = 'pearson'\n",
    "# target = 'purchase_dummy'\n",
    "# pear_dummy = model(train_data_dummy, name, user_id, item_id, target, users_to_recommend, n_rec, n_display)"
   ]
  },
  {
   "cell_type": "markdown",
   "metadata": {},
   "source": [
    "#### Using scaled purchase count"
   ]
  },
  {
   "cell_type": "code",
   "execution_count": 23,
   "metadata": {},
   "outputs": [
    {
     "data": {
      "text/html": [
       "<pre>Preparing data set.</pre>"
      ],
      "text/plain": [
       "Preparing data set."
      ]
     },
     "metadata": {},
     "output_type": "display_data"
    },
    {
     "data": {
      "text/html": [
       "<pre>    Data has 227334 observations with 2500 users and 300 items.</pre>"
      ],
      "text/plain": [
       "    Data has 227334 observations with 2500 users and 300 items."
      ]
     },
     "metadata": {},
     "output_type": "display_data"
    },
    {
     "data": {
      "text/html": [
       "<pre>    Data prepared in: 0.212989s</pre>"
      ],
      "text/plain": [
       "    Data prepared in: 0.212989s"
      ]
     },
     "metadata": {},
     "output_type": "display_data"
    },
    {
     "data": {
      "text/html": [
       "<pre>Training model from provided data.</pre>"
      ],
      "text/plain": [
       "Training model from provided data."
      ]
     },
     "metadata": {},
     "output_type": "display_data"
    },
    {
     "data": {
      "text/html": [
       "<pre>Gathering per-item and per-user statistics.</pre>"
      ],
      "text/plain": [
       "Gathering per-item and per-user statistics."
      ]
     },
     "metadata": {},
     "output_type": "display_data"
    },
    {
     "data": {
      "text/html": [
       "<pre>+--------------------------------+------------+</pre>"
      ],
      "text/plain": [
       "+--------------------------------+------------+"
      ]
     },
     "metadata": {},
     "output_type": "display_data"
    },
    {
     "data": {
      "text/html": [
       "<pre>| Elapsed Time (Item Statistics) | % Complete |</pre>"
      ],
      "text/plain": [
       "| Elapsed Time (Item Statistics) | % Complete |"
      ]
     },
     "metadata": {},
     "output_type": "display_data"
    },
    {
     "data": {
      "text/html": [
       "<pre>+--------------------------------+------------+</pre>"
      ],
      "text/plain": [
       "+--------------------------------+------------+"
      ]
     },
     "metadata": {},
     "output_type": "display_data"
    },
    {
     "data": {
      "text/html": [
       "<pre>| 10.311ms                       | 40         |</pre>"
      ],
      "text/plain": [
       "| 10.311ms                       | 40         |"
      ]
     },
     "metadata": {},
     "output_type": "display_data"
    },
    {
     "data": {
      "text/html": [
       "<pre>| 20.168ms                       | 100        |</pre>"
      ],
      "text/plain": [
       "| 20.168ms                       | 100        |"
      ]
     },
     "metadata": {},
     "output_type": "display_data"
    },
    {
     "data": {
      "text/html": [
       "<pre>+--------------------------------+------------+</pre>"
      ],
      "text/plain": [
       "+--------------------------------+------------+"
      ]
     },
     "metadata": {},
     "output_type": "display_data"
    },
    {
     "data": {
      "text/html": [
       "<pre>Setting up lookup tables.</pre>"
      ],
      "text/plain": [
       "Setting up lookup tables."
      ]
     },
     "metadata": {},
     "output_type": "display_data"
    },
    {
     "data": {
      "text/html": [
       "<pre>Processing data in one pass using dense lookup tables.</pre>"
      ],
      "text/plain": [
       "Processing data in one pass using dense lookup tables."
      ]
     },
     "metadata": {},
     "output_type": "display_data"
    },
    {
     "data": {
      "text/html": [
       "<pre>+-------------------------------------+------------------+-----------------+</pre>"
      ],
      "text/plain": [
       "+-------------------------------------+------------------+-----------------+"
      ]
     },
     "metadata": {},
     "output_type": "display_data"
    },
    {
     "data": {
      "text/html": [
       "<pre>| Elapsed Time (Constructing Lookups) | Total % Complete | Items Processed |</pre>"
      ],
      "text/plain": [
       "| Elapsed Time (Constructing Lookups) | Total % Complete | Items Processed |"
      ]
     },
     "metadata": {},
     "output_type": "display_data"
    },
    {
     "data": {
      "text/html": [
       "<pre>+-------------------------------------+------------------+-----------------+</pre>"
      ],
      "text/plain": [
       "+-------------------------------------+------------------+-----------------+"
      ]
     },
     "metadata": {},
     "output_type": "display_data"
    },
    {
     "data": {
      "text/html": [
       "<pre>| 22.065ms                            | 0                | 0               |</pre>"
      ],
      "text/plain": [
       "| 22.065ms                            | 0                | 0               |"
      ]
     },
     "metadata": {},
     "output_type": "display_data"
    },
    {
     "data": {
      "text/html": [
       "<pre>| 514.134ms                           | 100              | 300             |</pre>"
      ],
      "text/plain": [
       "| 514.134ms                           | 100              | 300             |"
      ]
     },
     "metadata": {},
     "output_type": "display_data"
    },
    {
     "data": {
      "text/html": [
       "<pre>+-------------------------------------+------------------+-----------------+</pre>"
      ],
      "text/plain": [
       "+-------------------------------------+------------------+-----------------+"
      ]
     },
     "metadata": {},
     "output_type": "display_data"
    },
    {
     "data": {
      "text/html": [
       "<pre>Finalizing lookup tables.</pre>"
      ],
      "text/plain": [
       "Finalizing lookup tables."
      ]
     },
     "metadata": {},
     "output_type": "display_data"
    },
    {
     "data": {
      "text/html": [
       "<pre>Generating candidate set for working with new users.</pre>"
      ],
      "text/plain": [
       "Generating candidate set for working with new users."
      ]
     },
     "metadata": {},
     "output_type": "display_data"
    },
    {
     "data": {
      "text/html": [
       "<pre>Finished training in 0.551096s</pre>"
      ],
      "text/plain": [
       "Finished training in 0.551096s"
      ]
     },
     "metadata": {},
     "output_type": "display_data"
    },
    {
     "data": {
      "text/html": [
       "<pre>recommendations finished on 1000/2500 queries. users per second: 26930.2</pre>"
      ],
      "text/plain": [
       "recommendations finished on 1000/2500 queries. users per second: 26930.2"
      ]
     },
     "metadata": {},
     "output_type": "display_data"
    },
    {
     "data": {
      "text/html": [
       "<pre>recommendations finished on 2000/2500 queries. users per second: 27507.7</pre>"
      ],
      "text/plain": [
       "recommendations finished on 2000/2500 queries. users per second: 27507.7"
      ]
     },
     "metadata": {},
     "output_type": "display_data"
    },
    {
     "name": "stdout",
     "output_type": "stream",
     "text": [
      "+------------+--------------------------------+--------------------+------+\n",
      "| customerId |           productId            |       score        | rank |\n",
      "+------------+--------------------------------+--------------------+------+\n",
      "|     1      |             CHEESE             | 0.996637246307957  |  1   |\n",
      "|     1      |     SALD DRSNG/SNDWCH SPRD     | 0.9816025596544989 |  2   |\n",
      "|     1      |          FROZEN PIZZA          | 0.9810123353921374 |  3   |\n",
      "|     1      |             YOGURT             | 0.9758493711475617 |  4   |\n",
      "|     1      |      MEAT - SHELF STABLE       | 0.9701598732234702 |  5   |\n",
      "|     1      |              CORN              | 0.9694146566990869 |  6   |\n",
      "|     1      |         DINNER MXS:DRY         | 0.9643330607983018 |  7   |\n",
      "|     1      |            CHICKEN             | 0.9634875493179212 |  8   |\n",
      "|     1      |   BEANS - CANNED GLASS & MW    | 0.9555942003833974 |  9   |\n",
      "|     1      | WATER - CARBONATED/FLVRD DRINK | 0.9511514889168037 |  10  |\n",
      "|     2      |             CHEESE             | 0.9973329656802262 |  1   |\n",
      "|     2      |          COLD CEREAL           | 0.9833015757929555 |  2   |\n",
      "|     2      |     SALD DRSNG/SNDWCH SPRD     | 0.9820260133433106 |  3   |\n",
      "|     2      |      CRACKERS/MISC BKD FD      | 0.9808847910289369 |  4   |\n",
      "|     2      |             YOGURT             | 0.9761001396284406 |  5   |\n",
      "|     2      |      MEAT - SHELF STABLE       | 0.9695610624479152 |  6   |\n",
      "|     2      |        MILK BY-PRODUCTS        |  0.96757566730956  |  7   |\n",
      "|     2      |     FRZN VEGETABLE/VEG DSH     | 0.9665328129408484 |  8   |\n",
      "|     2      |            CHICKEN             | 0.9638795014449651 |  9   |\n",
      "|     2      |       BAKED SWEET GOODS        | 0.9627189871650356 |  10  |\n",
      "|     3      |          SOFT DRINKS           | 0.9968997536022697 |  1   |\n",
      "|     3      |              EGGS              |  0.9897661633807   |  2   |\n",
      "|     3      |              BEEF              | 0.9893741097670192 |  3   |\n",
      "|     3      |        CANDY - PACKAGED        | 0.9851841156397388 |  4   |\n",
      "|     3      |          FROZEN PIZZA          | 0.9816090264731556 |  5   |\n",
      "|     3      |           LUNCHMEAT            | 0.9782078540658039 |  6   |\n",
      "|     3      |     ICE CREAM/MILK/SHERBTS     | 0.9780003515030565 |  7   |\n",
      "|     3      |          BAKING MIXES          | 0.9671908684484515 |  8   |\n",
      "|     3      |   BEANS - CANNED GLASS & MW    | 0.9569907032538992 |  9   |\n",
      "|     3      |           MARGARINES           | 0.9569510147947564 |  10  |\n",
      "+------------+--------------------------------+--------------------+------+\n",
      "[25000 rows x 4 columns]\n",
      "\n"
     ]
    }
   ],
   "source": [
    "name = 'pearson'\n",
    "target = 'scaled_purchase_freq'\n",
    "pear_norm = model(train_data_norm, name, user_id, item_id, target, users_to_recommend, n_rec, n_display)"
   ]
  },
  {
   "cell_type": "markdown",
   "metadata": {},
   "source": [
    "### Model Evaluation"
   ]
  },
  {
   "cell_type": "code",
   "execution_count": 24,
   "metadata": {},
   "outputs": [],
   "source": [
    "models_w_counts = [popularity, cos, pear]\n",
    "# models_w_dummy = [pop_dummy, cos_dummy, pear_dummy]\n",
    "models_w_norm = [pop_norm, cos_norm, pear_norm]\n",
    "names_w_counts = ['Popularity Model on rating_label', 'Cosine Similarity on rating_label', 'Pearson Similarity on rating_label']\n",
    "# names_w_dummy = ['Popularity Model on Purchase Dummy', 'Cosine Similarity on Purchase Dummy', 'Pearson Similarity on Purchase Dummy']\n",
    "names_w_norm = ['Popularity Model on Scaled rating_label', 'Cosine Similarity on Scaled rating_label', 'Pearson Similarity on Scaled rating_label']"
   ]
  },
  {
   "cell_type": "code",
   "execution_count": 25,
   "metadata": {
    "scrolled": true
   },
   "outputs": [
    {
     "name": "stdout",
     "output_type": "stream",
     "text": [
      "PROGRESS: Evaluate model Popularity Model on rating_label\n"
     ]
    },
    {
     "data": {
      "text/html": [
       "<pre>recommendations finished on 1000/2497 queries. users per second: 69405.9</pre>"
      ],
      "text/plain": [
       "recommendations finished on 1000/2497 queries. users per second: 69405.9"
      ]
     },
     "metadata": {},
     "output_type": "display_data"
    },
    {
     "data": {
      "text/html": [
       "<pre>recommendations finished on 2000/2497 queries. users per second: 68846.8</pre>"
      ],
      "text/plain": [
       "recommendations finished on 2000/2497 queries. users per second: 68846.8"
      ]
     },
     "metadata": {},
     "output_type": "display_data"
    },
    {
     "name": "stdout",
     "output_type": "stream",
     "text": [
      "\n",
      "Precision and recall summary statistics by cutoff\n",
      "+--------+-----------------------+------------------------+\n",
      "| cutoff |     mean_precision    |      mean_recall       |\n",
      "+--------+-----------------------+------------------------+\n",
      "|   1    | 0.0004004805766920302 | 4.0048057669203065e-05 |\n",
      "|   2    |   0.4185022026431718  |  0.041249083554066146  |\n",
      "|   3    |   0.527966893605661   |  0.07721324450058477   |\n",
      "|   4    |   0.5653784541449746  |  0.10768869726951155   |\n",
      "|   5    |   0.5722066479775735  |   0.1338021652283932   |\n",
      "|   6    |   0.5716860232278733  |   0.1591690045187902   |\n",
      "|   7    |   0.5658218433548828  |  0.18204935405003594   |\n",
      "|   8    |   0.5600220264317178  |  0.20406836883604398   |\n",
      "|   9    |   0.5569794864949054  |   0.2271839480639546   |\n",
      "|   10   |   0.5509010812975565  |  0.24824825004751613   |\n",
      "+--------+-----------------------+------------------------+\n",
      "[10 rows x 3 columns]\n",
      "\n",
      "\n",
      "Overall RMSE: 0.8858243572950354\n",
      "\n",
      "Per User RMSE (best)\n",
      "+------------+----------------------+-------+\n",
      "| customerId |         rmse         | count |\n",
      "+------------+----------------------+-------+\n",
      "|    2089    | 0.009671389307472064 |   2   |\n",
      "+------------+----------------------+-------+\n",
      "[1 rows x 3 columns]\n",
      "\n",
      "\n",
      "Per User RMSE (worst)\n",
      "+------------+--------------------+-------+\n",
      "| customerId |        rmse        | count |\n",
      "+------------+--------------------+-------+\n",
      "|    1467    | 3.0064458296363465 |   19  |\n",
      "+------------+--------------------+-------+\n",
      "[1 rows x 3 columns]\n",
      "\n",
      "\n",
      "Per Item RMSE (best)\n",
      "+---------------------+---------------------+-------+\n",
      "|      productId      |         rmse        | count |\n",
      "+---------------------+---------------------+-------+\n",
      "| FLUID MILK PRODUCTS | 0.15597882953329228 |  489  |\n",
      "+---------------------+---------------------+-------+\n",
      "[1 rows x 3 columns]\n",
      "\n",
      "\n",
      "Per Item RMSE (worst)\n",
      "+-----------+--------------------+-------+\n",
      "| productId |        rmse        | count |\n",
      "+-----------+--------------------+-------+\n",
      "|    TOYS   | 2.6666666666666665 |   1   |\n",
      "+-----------+--------------------+-------+\n",
      "[1 rows x 3 columns]\n",
      "\n",
      "PROGRESS: Evaluate model Cosine Similarity on rating_label\n"
     ]
    },
    {
     "data": {
      "text/html": [
       "<pre>recommendations finished on 1000/2497 queries. users per second: 38860.6</pre>"
      ],
      "text/plain": [
       "recommendations finished on 1000/2497 queries. users per second: 38860.6"
      ]
     },
     "metadata": {},
     "output_type": "display_data"
    },
    {
     "data": {
      "text/html": [
       "<pre>recommendations finished on 2000/2497 queries. users per second: 31443.1</pre>"
      ],
      "text/plain": [
       "recommendations finished on 2000/2497 queries. users per second: 31443.1"
      ]
     },
     "metadata": {},
     "output_type": "display_data"
    },
    {
     "name": "stdout",
     "output_type": "stream",
     "text": [
      "\n",
      "Precision and recall summary statistics by cutoff\n",
      "+--------+--------------------+---------------------+\n",
      "| cutoff |   mean_precision   |     mean_recall     |\n",
      "+--------+--------------------+---------------------+\n",
      "|   1    | 0.8185822987585104 | 0.04027900496891527 |\n",
      "|   2    | 0.7827392871445735 | 0.07518207140215849 |\n",
      "|   3    | 0.7586437057802692 | 0.10769211522605464 |\n",
      "|   4    | 0.7329795754905888 | 0.13729781748232883 |\n",
      "|   5    | 0.7102122547056471 | 0.16369244965919583 |\n",
      "|   6    | 0.6895608063008944 | 0.18888669251458634 |\n",
      "|   7    | 0.6709766004920185 | 0.21251350358169582 |\n",
      "|   8    | 0.654435322386864  | 0.23558954907743324 |\n",
      "|   9    | 0.6386775241400785 | 0.25737354267968526 |\n",
      "|   10   | 0.6256708049659586 | 0.27851687863798796 |\n",
      "+--------+--------------------+---------------------+\n",
      "[10 rows x 3 columns]\n",
      "\n",
      "\n",
      "Overall RMSE: 3.617606163231985\n",
      "\n",
      "Per User RMSE (best)\n",
      "+------------+--------------------+-------+\n",
      "| customerId |        rmse        | count |\n",
      "+------------+--------------------+-------+\n",
      "|    704     | 1.5287477999062913 |   3   |\n",
      "+------------+--------------------+-------+\n",
      "[1 rows x 3 columns]\n",
      "\n",
      "\n",
      "Per User RMSE (worst)\n",
      "+------------+------+-------+\n",
      "| customerId | rmse | count |\n",
      "+------------+------+-------+\n",
      "|    299     | 5.0  |   1   |\n",
      "+------------+------+-------+\n",
      "[1 rows x 3 columns]\n",
      "\n",
      "\n",
      "Per Item RMSE (best)\n",
      "+-------------------+------+-------+\n",
      "|     productId     | rmse | count |\n",
      "+-------------------+------+-------+\n",
      "| MISCELLANEOUS HBC | 1.0  |   2   |\n",
      "+-------------------+------+-------+\n",
      "[1 rows x 3 columns]\n",
      "\n",
      "\n",
      "Per Item RMSE (worst)\n",
      "+-------------+------+-------+\n",
      "|  productId  | rmse | count |\n",
      "+-------------+------+-------+\n",
      "| EASTER LILY | 5.0  |   1   |\n",
      "+-------------+------+-------+\n",
      "[1 rows x 3 columns]\n",
      "\n",
      "PROGRESS: Evaluate model Pearson Similarity on rating_label\n"
     ]
    },
    {
     "data": {
      "text/html": [
       "<pre>recommendations finished on 1000/2497 queries. users per second: 9110.7</pre>"
      ],
      "text/plain": [
       "recommendations finished on 1000/2497 queries. users per second: 9110.7"
      ]
     },
     "metadata": {},
     "output_type": "display_data"
    },
    {
     "data": {
      "text/html": [
       "<pre>recommendations finished on 2000/2497 queries. users per second: 10598.9</pre>"
      ],
      "text/plain": [
       "recommendations finished on 2000/2497 queries. users per second: 10598.9"
      ]
     },
     "metadata": {},
     "output_type": "display_data"
    },
    {
     "name": "stdout",
     "output_type": "stream",
     "text": [
      "\n",
      "Precision and recall summary statistics by cutoff\n",
      "+--------+------------------------+----------------------+\n",
      "| cutoff |     mean_precision     |     mean_recall      |\n",
      "+--------+------------------------+----------------------+\n",
      "|   1    | 0.00040048057669203027 | 4.00480576692031e-05 |\n",
      "|   2    |   0.4169002803364037   | 0.04116994673569538  |\n",
      "|   3    |   0.5285008677079165   | 0.07714509164358767  |\n",
      "|   4    |   0.5638766519823791   | 0.10759033532270383  |\n",
      "|   5    |   0.5729275130156184   |  0.1342445144933855  |\n",
      "|   6    |   0.5698838606327588   |  0.1585184664267835  |\n",
      "|   7    |   0.5649064591795863   | 0.18199687928327513  |\n",
      "|   8    |   0.5591209451341609   | 0.20356427496167104  |\n",
      "|   9    |   0.5571574778623241   | 0.22647221808541004  |\n",
      "|   10   |   0.5515418502202647   | 0.24839130199960813  |\n",
      "+--------+------------------------+----------------------+\n",
      "[10 rows x 3 columns]\n",
      "\n",
      "\n",
      "Overall RMSE: 0.8774369208055748\n",
      "\n",
      "Per User RMSE (best)\n",
      "+------------+----------------------+-------+\n",
      "| customerId |         rmse         | count |\n",
      "+------------+----------------------+-------+\n",
      "|    2089    | 0.007138553398894767 |   2   |\n",
      "+------------+----------------------+-------+\n",
      "[1 rows x 3 columns]\n",
      "\n",
      "\n",
      "Per User RMSE (worst)\n",
      "+------------+--------------------+-------+\n",
      "| customerId |        rmse        | count |\n",
      "+------------+--------------------+-------+\n",
      "|    1467    | 2.9390151974244176 |   19  |\n",
      "+------------+--------------------+-------+\n",
      "[1 rows x 3 columns]\n",
      "\n",
      "\n",
      "Per Item RMSE (best)\n",
      "+---------------------+---------------------+-------+\n",
      "|      productId      |         rmse        | count |\n",
      "+---------------------+---------------------+-------+\n",
      "| FLUID MILK PRODUCTS | 0.15506577978076438 |  489  |\n",
      "+---------------------+---------------------+-------+\n",
      "[1 rows x 3 columns]\n",
      "\n",
      "\n",
      "Per Item RMSE (worst)\n",
      "+-------------+------+-------+\n",
      "|  productId  | rmse | count |\n",
      "+-------------+------+-------+\n",
      "| EASTER LILY | 5.0  |   1   |\n",
      "+-------------+------+-------+\n",
      "[1 rows x 3 columns]\n",
      "\n",
      "PROGRESS: Evaluate model Popularity Model on Scaled rating_label\n"
     ]
    },
    {
     "data": {
      "text/html": [
       "<pre>recommendations finished on 1000/2496 queries. users per second: 83312.5</pre>"
      ],
      "text/plain": [
       "recommendations finished on 1000/2496 queries. users per second: 83312.5"
      ]
     },
     "metadata": {},
     "output_type": "display_data"
    },
    {
     "data": {
      "text/html": [
       "<pre>recommendations finished on 2000/2496 queries. users per second: 78935.9</pre>"
      ],
      "text/plain": [
       "recommendations finished on 2000/2496 queries. users per second: 78935.9"
      ]
     },
     "metadata": {},
     "output_type": "display_data"
    },
    {
     "name": "stdout",
     "output_type": "stream",
     "text": [
      "\n",
      "Precision and recall summary statistics by cutoff\n",
      "+--------+--------------------+---------------------+\n",
      "| cutoff |   mean_precision   |     mean_recall     |\n",
      "+--------+--------------------+---------------------+\n",
      "|   1    | 0.8385416666666671 | 0.04192960837987082 |\n",
      "|   2    | 0.7942708333333334 | 0.07763313906272733 |\n",
      "|   3    | 0.7522702991452993 | 0.10781860154790006 |\n",
      "|   4    | 0.719050480769231  |  0.1349202348189318 |\n",
      "|   5    | 0.6901442307692305 |  0.1599670641553645 |\n",
      "|   6    | 0.6676014957264961 | 0.18428788256371573 |\n",
      "|   7    | 0.6468635531135529 | 0.20691424635129854 |\n",
      "|   8    | 0.6305588942307694 |  0.2292962859859617 |\n",
      "|   9    | 0.6150730056980055 |  0.2502451519024278 |\n",
      "|   10   | 0.6032451923076929 |  0.2710056921118312 |\n",
      "+--------+--------------------+---------------------+\n",
      "[10 rows x 3 columns]\n",
      "\n",
      "\n",
      "Overall RMSE: 0.2253293330215758\n",
      "\n",
      "Per User RMSE (best)\n",
      "+------------+----------------------+-------+\n",
      "| customerId |         rmse         | count |\n",
      "+------------+----------------------+-------+\n",
      "|    522     | 0.003251197809719164 |   1   |\n",
      "+------------+----------------------+-------+\n",
      "[1 rows x 3 columns]\n",
      "\n",
      "\n",
      "Per User RMSE (worst)\n",
      "+------------+--------------------+-------+\n",
      "| customerId |        rmse        | count |\n",
      "+------------+--------------------+-------+\n",
      "|    1289    | 0.7874648217170508 |   11  |\n",
      "+------------+--------------------+-------+\n",
      "[1 rows x 3 columns]\n",
      "\n",
      "\n",
      "Per Item RMSE (best)\n",
      "+-----------+---------------------+-------+\n",
      "| productId |         rmse        | count |\n",
      "+-----------+---------------------+-------+\n",
      "|   CHEESE  | 0.03439499243717436 |  470  |\n",
      "+-----------+---------------------+-------+\n",
      "[1 rows x 3 columns]\n",
      "\n",
      "\n",
      "Per Item RMSE (worst)\n",
      "+------------+--------------------+-------+\n",
      "| productId  |        rmse        | count |\n",
      "+------------+--------------------+-------+\n",
      "| BULK FOODS | 0.7195677714974301 |   2   |\n",
      "+------------+--------------------+-------+\n",
      "[1 rows x 3 columns]\n",
      "\n",
      "PROGRESS: Evaluate model Cosine Similarity on Scaled rating_label\n"
     ]
    },
    {
     "data": {
      "text/html": [
       "<pre>recommendations finished on 1000/2496 queries. users per second: 35058.2</pre>"
      ],
      "text/plain": [
       "recommendations finished on 1000/2496 queries. users per second: 35058.2"
      ]
     },
     "metadata": {},
     "output_type": "display_data"
    },
    {
     "data": {
      "text/html": [
       "<pre>recommendations finished on 2000/2496 queries. users per second: 28162.3</pre>"
      ],
      "text/plain": [
       "recommendations finished on 2000/2496 queries. users per second: 28162.3"
      ]
     },
     "metadata": {},
     "output_type": "display_data"
    },
    {
     "name": "stdout",
     "output_type": "stream",
     "text": [
      "\n",
      "Precision and recall summary statistics by cutoff\n",
      "+--------+--------------------+---------------------+\n",
      "| cutoff |   mean_precision   |     mean_recall     |\n",
      "+--------+--------------------+---------------------+\n",
      "|   1    | 0.7796474358974359 | 0.03692896434429936 |\n",
      "|   2    | 0.7526041666666667 | 0.07016895928739753 |\n",
      "|   3    | 0.7361111111111108 | 0.10167691920627539 |\n",
      "|   4    | 0.7187500000000007 | 0.13156457837173915 |\n",
      "|   5    | 0.7084935897435897 | 0.16135005873106964 |\n",
      "|   6    | 0.6926415598290584 | 0.18805566110092675 |\n",
      "|   7    | 0.6800595238095245 | 0.21453085431056879 |\n",
      "|   8    | 0.665564903846154  | 0.23865414134361254 |\n",
      "|   9    | 0.6528222934472929 | 0.26224122376490666 |\n",
      "|   10   | 0.6403445512820513 |  0.2853330549016568 |\n",
      "+--------+--------------------+---------------------+\n",
      "[10 rows x 3 columns]\n",
      "\n",
      "\n",
      "Overall RMSE: 0.7126898986096364\n",
      "\n",
      "Per User RMSE (best)\n",
      "+------------+--------------------+-------+\n",
      "| customerId |        rmse        | count |\n",
      "+------------+--------------------+-------+\n",
      "|    1289    | 0.2675212994468401 |   11  |\n",
      "+------------+--------------------+-------+\n",
      "[1 rows x 3 columns]\n",
      "\n",
      "\n",
      "Per User RMSE (worst)\n",
      "+------------+------+-------+\n",
      "| customerId | rmse | count |\n",
      "+------------+------+-------+\n",
      "|    1504    | 1.0  |   1   |\n",
      "+------------+------+-------+\n",
      "[1 rows x 3 columns]\n",
      "\n",
      "\n",
      "Per Item RMSE (best)\n",
      "+-----------+------+-------+\n",
      "| productId | rmse | count |\n",
      "+-----------+------+-------+\n",
      "|    TOYS   | 0.25 |   1   |\n",
      "+-----------+------+-------+\n",
      "[1 rows x 3 columns]\n",
      "\n",
      "\n",
      "Per Item RMSE (worst)\n",
      "+-----------+--------------------+-------+\n",
      "| productId |        rmse        | count |\n",
      "+-----------+--------------------+-------+\n",
      "|    CORN   | 0.9681871567360765 |  195  |\n",
      "+-----------+--------------------+-------+\n",
      "[1 rows x 3 columns]\n",
      "\n",
      "PROGRESS: Evaluate model Pearson Similarity on Scaled rating_label\n"
     ]
    },
    {
     "data": {
      "text/html": [
       "<pre>recommendations finished on 1000/2496 queries. users per second: 32699</pre>"
      ],
      "text/plain": [
       "recommendations finished on 1000/2496 queries. users per second: 32699"
      ]
     },
     "metadata": {},
     "output_type": "display_data"
    },
    {
     "data": {
      "text/html": [
       "<pre>recommendations finished on 2000/2496 queries. users per second: 26821.9</pre>"
      ],
      "text/plain": [
       "recommendations finished on 2000/2496 queries. users per second: 26821.9"
      ]
     },
     "metadata": {},
     "output_type": "display_data"
    },
    {
     "name": "stdout",
     "output_type": "stream",
     "text": [
      "\n",
      "Precision and recall summary statistics by cutoff\n",
      "+--------+--------------------+---------------------+\n",
      "| cutoff |   mean_precision   |     mean_recall     |\n",
      "+--------+--------------------+---------------------+\n",
      "|   1    | 0.8365384615384613 | 0.04152113395168606 |\n",
      "|   2    | 0.7930689102564101 | 0.07740018914270937 |\n",
      "|   3    | 0.7508012820512819 |  0.1073109118613088 |\n",
      "|   4    | 0.7195512820512822 |  0.1352722620696937 |\n",
      "|   5    | 0.6906250000000002 | 0.16031012861379282 |\n",
      "|   6    | 0.6672008547008541 | 0.18396167165738062 |\n",
      "|   7    | 0.6484088827838824 | 0.20767864790474064 |\n",
      "|   8    | 0.6308593749999997 | 0.22953558216703138 |\n",
      "|   9    | 0.6164529914529916 | 0.25096936404335524 |\n",
      "|   10   | 0.6040464743589745 |  0.2715917660733454 |\n",
      "+--------+--------------------+---------------------+\n",
      "[10 rows x 3 columns]\n",
      "\n",
      "\n",
      "Overall RMSE: 0.22315770605837484\n",
      "\n",
      "Per User RMSE (best)\n",
      "+------------+-----------------------+-------+\n",
      "| customerId |          rmse         | count |\n",
      "+------------+-----------------------+-------+\n",
      "|    522     | 0.0025293458250594814 |   1   |\n",
      "+------------+-----------------------+-------+\n",
      "[1 rows x 3 columns]\n",
      "\n",
      "\n",
      "Per User RMSE (worst)\n",
      "+------------+--------------------+-------+\n",
      "| customerId |        rmse        | count |\n",
      "+------------+--------------------+-------+\n",
      "|    1289    | 0.7679115645603035 |   11  |\n",
      "+------------+--------------------+-------+\n",
      "[1 rows x 3 columns]\n",
      "\n",
      "\n",
      "Per Item RMSE (best)\n",
      "+-----------+---------------------+-------+\n",
      "| productId |         rmse        | count |\n",
      "+-----------+---------------------+-------+\n",
      "|   CHEESE  | 0.03417309662792882 |  470  |\n",
      "+-----------+---------------------+-------+\n",
      "[1 rows x 3 columns]\n",
      "\n",
      "\n",
      "Per Item RMSE (worst)\n",
      "+------------+--------------------+-------+\n",
      "| productId  |        rmse        | count |\n",
      "+------------+--------------------+-------+\n",
      "| BULK FOODS | 0.7195677714974301 |   2   |\n",
      "+------------+--------------------+-------+\n",
      "[1 rows x 3 columns]\n",
      "\n"
     ]
    }
   ],
   "source": [
    "eval_counts = tc.recommender.util.compare_models(test_data, models_w_counts, model_names=names_w_counts)\n",
    "# eval_dummy = tc.recommender.util.compare_models(test_data_dummy, models_w_dummy, model_names=names_w_dummy)\n",
    "eval_norm = tc.recommender.util.compare_models(test_data_norm, models_w_norm, model_names=names_w_norm)"
   ]
  },
  {
   "cell_type": "code",
   "execution_count": 26,
   "metadata": {},
   "outputs": [
    {
     "data": {
      "text/html": [
       "<pre>Warning: Column 'scaled_purchase_freq' ignored.</pre>"
      ],
      "text/plain": [
       "Warning: Column 'scaled_purchase_freq' ignored."
      ]
     },
     "metadata": {},
     "output_type": "display_data"
    },
    {
     "data": {
      "text/html": [
       "<pre> To use one of these as a rating column, specify the column name to be used as target scaled_purchase_freq\" and use a method that allows the use of a target.</pre>"
      ],
      "text/plain": [
       " To use one of these as a rating column, specify the column name to be used as target scaled_purchase_freq\" and use a method that allows the use of a target."
      ]
     },
     "metadata": {},
     "output_type": "display_data"
    },
    {
     "data": {
      "text/html": [
       "<pre>Preparing data set.</pre>"
      ],
      "text/plain": [
       "Preparing data set."
      ]
     },
     "metadata": {},
     "output_type": "display_data"
    },
    {
     "data": {
      "text/html": [
       "<pre>    Data has 284168 observations with 2500 users and 300 items.</pre>"
      ],
      "text/plain": [
       "    Data has 284168 observations with 2500 users and 300 items."
      ]
     },
     "metadata": {},
     "output_type": "display_data"
    },
    {
     "data": {
      "text/html": [
       "<pre>    Data prepared in: 0.270857s</pre>"
      ],
      "text/plain": [
       "    Data prepared in: 0.270857s"
      ]
     },
     "metadata": {},
     "output_type": "display_data"
    },
    {
     "data": {
      "text/html": [
       "<pre>Training model from provided data.</pre>"
      ],
      "text/plain": [
       "Training model from provided data."
      ]
     },
     "metadata": {},
     "output_type": "display_data"
    },
    {
     "data": {
      "text/html": [
       "<pre>Gathering per-item and per-user statistics.</pre>"
      ],
      "text/plain": [
       "Gathering per-item and per-user statistics."
      ]
     },
     "metadata": {},
     "output_type": "display_data"
    },
    {
     "data": {
      "text/html": [
       "<pre>+--------------------------------+------------+</pre>"
      ],
      "text/plain": [
       "+--------------------------------+------------+"
      ]
     },
     "metadata": {},
     "output_type": "display_data"
    },
    {
     "data": {
      "text/html": [
       "<pre>| Elapsed Time (Item Statistics) | % Complete |</pre>"
      ],
      "text/plain": [
       "| Elapsed Time (Item Statistics) | % Complete |"
      ]
     },
     "metadata": {},
     "output_type": "display_data"
    },
    {
     "data": {
      "text/html": [
       "<pre>+--------------------------------+------------+</pre>"
      ],
      "text/plain": [
       "+--------------------------------+------------+"
      ]
     },
     "metadata": {},
     "output_type": "display_data"
    },
    {
     "data": {
      "text/html": [
       "<pre>| 7.776ms                        | 40         |</pre>"
      ],
      "text/plain": [
       "| 7.776ms                        | 40         |"
      ]
     },
     "metadata": {},
     "output_type": "display_data"
    },
    {
     "data": {
      "text/html": [
       "<pre>| 25.067ms                       | 100        |</pre>"
      ],
      "text/plain": [
       "| 25.067ms                       | 100        |"
      ]
     },
     "metadata": {},
     "output_type": "display_data"
    },
    {
     "data": {
      "text/html": [
       "<pre>+--------------------------------+------------+</pre>"
      ],
      "text/plain": [
       "+--------------------------------+------------+"
      ]
     },
     "metadata": {},
     "output_type": "display_data"
    },
    {
     "data": {
      "text/html": [
       "<pre>Setting up lookup tables.</pre>"
      ],
      "text/plain": [
       "Setting up lookup tables."
      ]
     },
     "metadata": {},
     "output_type": "display_data"
    },
    {
     "data": {
      "text/html": [
       "<pre>Processing data in one pass using dense lookup tables.</pre>"
      ],
      "text/plain": [
       "Processing data in one pass using dense lookup tables."
      ]
     },
     "metadata": {},
     "output_type": "display_data"
    },
    {
     "data": {
      "text/html": [
       "<pre>+-------------------------------------+------------------+-----------------+</pre>"
      ],
      "text/plain": [
       "+-------------------------------------+------------------+-----------------+"
      ]
     },
     "metadata": {},
     "output_type": "display_data"
    },
    {
     "data": {
      "text/html": [
       "<pre>| Elapsed Time (Constructing Lookups) | Total % Complete | Items Processed |</pre>"
      ],
      "text/plain": [
       "| Elapsed Time (Constructing Lookups) | Total % Complete | Items Processed |"
      ]
     },
     "metadata": {},
     "output_type": "display_data"
    },
    {
     "data": {
      "text/html": [
       "<pre>+-------------------------------------+------------------+-----------------+</pre>"
      ],
      "text/plain": [
       "+-------------------------------------+------------------+-----------------+"
      ]
     },
     "metadata": {},
     "output_type": "display_data"
    },
    {
     "data": {
      "text/html": [
       "<pre>| 25.601ms                            | 0                | 0               |</pre>"
      ],
      "text/plain": [
       "| 25.601ms                            | 0                | 0               |"
      ]
     },
     "metadata": {},
     "output_type": "display_data"
    },
    {
     "data": {
      "text/html": [
       "<pre>| 675.557ms                           | 100              | 300             |</pre>"
      ],
      "text/plain": [
       "| 675.557ms                           | 100              | 300             |"
      ]
     },
     "metadata": {},
     "output_type": "display_data"
    },
    {
     "data": {
      "text/html": [
       "<pre>+-------------------------------------+------------------+-----------------+</pre>"
      ],
      "text/plain": [
       "+-------------------------------------+------------------+-----------------+"
      ]
     },
     "metadata": {},
     "output_type": "display_data"
    },
    {
     "data": {
      "text/html": [
       "<pre>Finalizing lookup tables.</pre>"
      ],
      "text/plain": [
       "Finalizing lookup tables."
      ]
     },
     "metadata": {},
     "output_type": "display_data"
    },
    {
     "data": {
      "text/html": [
       "<pre>Generating candidate set for working with new users.</pre>"
      ],
      "text/plain": [
       "Generating candidate set for working with new users."
      ]
     },
     "metadata": {},
     "output_type": "display_data"
    },
    {
     "data": {
      "text/html": [
       "<pre>Finished training in 0.721977s</pre>"
      ],
      "text/plain": [
       "Finished training in 0.721977s"
      ]
     },
     "metadata": {},
     "output_type": "display_data"
    },
    {
     "data": {
      "text/html": [
       "<pre>recommendations finished on 1000/2500 queries. users per second: 171438</pre>"
      ],
      "text/plain": [
       "recommendations finished on 1000/2500 queries. users per second: 171438"
      ]
     },
     "metadata": {},
     "output_type": "display_data"
    },
    {
     "data": {
      "text/html": [
       "<pre>recommendations finished on 2000/2500 queries. users per second: 122895</pre>"
      ],
      "text/plain": [
       "recommendations finished on 2000/2500 queries. users per second: 122895"
      ]
     },
     "metadata": {},
     "output_type": "display_data"
    },
    {
     "name": "stdout",
     "output_type": "stream",
     "text": [
      "+------------+--------------------------------+--------------------+------+\n",
      "| customerId |           productId            |       score        | rank |\n",
      "+------------+--------------------------------+--------------------+------+\n",
      "|     1      |          FROZEN PIZZA          | 0.847044233154196  |  1   |\n",
      "|     1      |            CHICKEN             | 0.7800744109136006 |  2   |\n",
      "|     1      | WATER - CARBONATED/FLVRD DRINK | 0.7792476229847044 |  3   |\n",
      "|     1      |             YOGURT             | 0.7333608929309632 |  4   |\n",
      "|     1      |         DINNER SAUSAGE         | 0.7201322860686235 |  5   |\n",
      "|     1      |  BREAKFAST SAUSAGE/SANDWICHES  | 0.6978090119884249 |  6   |\n",
      "|     1      |          MEAT - MISC           | 0.6647374948325755 |  7   |\n",
      "|     1      | GREETING CARDS/WRAP/PARTY SPLY | 0.6622571310458867 |  8   |\n",
      "|     1      |           BEERS/ALES           | 0.6622571310458867 |  9   |\n",
      "|     1      |          PAPER TOWELS          | 0.6606035551880942 |  10  |\n",
      "|     2      |      MEAT - SHELF STABLE       | 0.7709797436957421 |  1   |\n",
      "|     2      |         DINNER SAUSAGE         | 0.7201322860686235 |  2   |\n",
      "|     2      |   BEANS - CANNED GLASS & MW    | 0.7077304671351798 |  3   |\n",
      "|     2      |        VEGETABLES SALAD        | 0.6725919801570897 |  4   |\n",
      "|     2      |          FROZEN MEAT           | 0.645721372467962  |  5   |\n",
      "|     2      |     PICKLE/RELISH/PKLD VEG     | 0.6329061595700702 |  6   |\n",
      "|     2      |         FRZN POTATOES          | 0.6254650682100041 |  7   |\n",
      "|     2      |          PEPPERS-ALL           | 0.6171971889210418 |  8   |\n",
      "|     2      |             CAKES              | 0.587019429516329  |  9   |\n",
      "|     2      |          COLD AND FLU          | 0.5824720959073998 |  10  |\n",
      "|     3      |              EGGS              | 0.9210417527904092 |  1   |\n",
      "|     3      |    VEGETABLES - ALL OTHERS     | 0.7784208350558082 |  2   |\n",
      "|     3      |           SALAD MIX            | 0.7614716825134353 |  3   |\n",
      "|     3      |             APPLES             | 0.7412153782554775 |  4   |\n",
      "|     3      |     FRZN NOVELTIES/WTR ICE     | 0.7201322860686235 |  5   |\n",
      "|     3      |   BEANS - CANNED GLASS & MW    | 0.7077304671351798 |  6   |\n",
      "|     3      |             BACON              | 0.6994625878462174 |  7   |\n",
      "|     3      | GREETING CARDS/WRAP/PARTY SPLY | 0.6622571310458867 |  8   |\n",
      "|     3      |           BEERS/ALES           | 0.6622571310458867 |  9   |\n",
      "|     3      |            CARROTS             | 0.649028524183547  |  10  |\n",
      "+------------+--------------------------------+--------------------+------+\n",
      "[25000 rows x 4 columns]\n",
      "\n"
     ]
    }
   ],
   "source": [
    "# target='purchase_dummy' replace to target= None\n",
    "\n",
    "final_model = tc.item_similarity_recommender.create(tc.SFrame(data_norm), \n",
    "                                            user_id=user_id, \n",
    "                                            item_id=item_id, \n",
    "                                            similarity_type=\"pearson\")\n",
    "recom = final_model.recommend(users=users_to_recommend, k=n_rec)\n",
    "recom.print_rows(n_display)"
   ]
  },
  {
   "cell_type": "code",
   "execution_count": 27,
   "metadata": {},
   "outputs": [
    {
     "name": "stdout",
     "output_type": "stream",
     "text": [
      "(25000, 4)\n"
     ]
    },
    {
     "data": {
      "text/html": [
       "<div>\n",
       "<style scoped>\n",
       "    .dataframe tbody tr th:only-of-type {\n",
       "        vertical-align: middle;\n",
       "    }\n",
       "\n",
       "    .dataframe tbody tr th {\n",
       "        vertical-align: top;\n",
       "    }\n",
       "\n",
       "    .dataframe thead th {\n",
       "        text-align: right;\n",
       "    }\n",
       "</style>\n",
       "<table border=\"1\" class=\"dataframe\">\n",
       "  <thead>\n",
       "    <tr style=\"text-align: right;\">\n",
       "      <th></th>\n",
       "      <th>customerId</th>\n",
       "      <th>productId</th>\n",
       "      <th>score</th>\n",
       "      <th>rank</th>\n",
       "    </tr>\n",
       "  </thead>\n",
       "  <tbody>\n",
       "    <tr>\n",
       "      <th>0</th>\n",
       "      <td>1</td>\n",
       "      <td>FROZEN PIZZA</td>\n",
       "      <td>0.847044</td>\n",
       "      <td>1</td>\n",
       "    </tr>\n",
       "    <tr>\n",
       "      <th>1</th>\n",
       "      <td>1</td>\n",
       "      <td>CHICKEN</td>\n",
       "      <td>0.780074</td>\n",
       "      <td>2</td>\n",
       "    </tr>\n",
       "    <tr>\n",
       "      <th>2</th>\n",
       "      <td>1</td>\n",
       "      <td>WATER - CARBONATED/FLVRD DRINK</td>\n",
       "      <td>0.779248</td>\n",
       "      <td>3</td>\n",
       "    </tr>\n",
       "    <tr>\n",
       "      <th>3</th>\n",
       "      <td>1</td>\n",
       "      <td>YOGURT</td>\n",
       "      <td>0.733361</td>\n",
       "      <td>4</td>\n",
       "    </tr>\n",
       "    <tr>\n",
       "      <th>4</th>\n",
       "      <td>1</td>\n",
       "      <td>DINNER SAUSAGE</td>\n",
       "      <td>0.720132</td>\n",
       "      <td>5</td>\n",
       "    </tr>\n",
       "    <tr>\n",
       "      <th>...</th>\n",
       "      <td>...</td>\n",
       "      <td>...</td>\n",
       "      <td>...</td>\n",
       "      <td>...</td>\n",
       "    </tr>\n",
       "    <tr>\n",
       "      <th>24995</th>\n",
       "      <td>2500</td>\n",
       "      <td>SALAD BAR</td>\n",
       "      <td>0.474576</td>\n",
       "      <td>6</td>\n",
       "    </tr>\n",
       "    <tr>\n",
       "      <th>24996</th>\n",
       "      <td>2500</td>\n",
       "      <td>AIR CARE</td>\n",
       "      <td>0.460934</td>\n",
       "      <td>7</td>\n",
       "    </tr>\n",
       "    <tr>\n",
       "      <th>24997</th>\n",
       "      <td>2500</td>\n",
       "      <td>PREPARED FOOD</td>\n",
       "      <td>0.406366</td>\n",
       "      <td>8</td>\n",
       "    </tr>\n",
       "    <tr>\n",
       "      <th>24998</th>\n",
       "      <td>2500</td>\n",
       "      <td>CIGARETTES</td>\n",
       "      <td>0.403886</td>\n",
       "      <td>9</td>\n",
       "    </tr>\n",
       "    <tr>\n",
       "      <th>24999</th>\n",
       "      <td>2500</td>\n",
       "      <td>TURKEY</td>\n",
       "      <td>0.400579</td>\n",
       "      <td>10</td>\n",
       "    </tr>\n",
       "  </tbody>\n",
       "</table>\n",
       "<p>25000 rows × 4 columns</p>\n",
       "</div>"
      ],
      "text/plain": [
       "       customerId                       productId     score  rank\n",
       "0               1                    FROZEN PIZZA  0.847044     1\n",
       "1               1                         CHICKEN  0.780074     2\n",
       "2               1  WATER - CARBONATED/FLVRD DRINK  0.779248     3\n",
       "3               1                          YOGURT  0.733361     4\n",
       "4               1                  DINNER SAUSAGE  0.720132     5\n",
       "...           ...                             ...       ...   ...\n",
       "24995        2500                       SALAD BAR  0.474576     6\n",
       "24996        2500                        AIR CARE  0.460934     7\n",
       "24997        2500                   PREPARED FOOD  0.406366     8\n",
       "24998        2500                      CIGARETTES  0.403886     9\n",
       "24999        2500                          TURKEY  0.400579    10\n",
       "\n",
       "[25000 rows x 4 columns]"
      ]
     },
     "execution_count": 27,
     "metadata": {},
     "output_type": "execute_result"
    }
   ],
   "source": [
    "df_rec = recom.to_dataframe()\n",
    "print(df_rec.shape)\n",
    "df_rec"
   ]
  },
  {
   "cell_type": "code",
   "execution_count": null,
   "metadata": {},
   "outputs": [],
   "source": []
  },
  {
   "cell_type": "code",
   "execution_count": 28,
   "metadata": {},
   "outputs": [],
   "source": [
    "def create_output(model, users_to_recommend, n_rec, print_csv=True):\n",
    "    recomendation = model.recommend(users=users_to_recommend, k=n_rec)\n",
    "    df_rec = recomendation.to_dataframe()\n",
    "    df_rec['recommendedProducts'] = df_rec.groupby([user_id])[item_id] \\\n",
    "        .transform(lambda x: ','.join(x.astype(str)))\n",
    "    df_output = df_rec[['customerId', 'recommendedProducts']].drop_duplicates() \\\n",
    "        .sort_values('customerId').set_index('customerId')\n",
    "    if print_csv:\n",
    "        df_output.to_csv('./data/option1_recommendation.csv')\n",
    "        print(\"An output file can be found in 'output' folder with name 'option1_recommendation.csv'\")\n",
    "    return df_output"
   ]
  },
  {
   "cell_type": "code",
   "execution_count": 29,
   "metadata": {},
   "outputs": [
    {
     "data": {
      "text/html": [
       "<pre>recommendations finished on 1000/2500 queries. users per second: 109830</pre>"
      ],
      "text/plain": [
       "recommendations finished on 1000/2500 queries. users per second: 109830"
      ]
     },
     "metadata": {},
     "output_type": "display_data"
    },
    {
     "data": {
      "text/html": [
       "<pre>recommendations finished on 2000/2500 queries. users per second: 111099</pre>"
      ],
      "text/plain": [
       "recommendations finished on 2000/2500 queries. users per second: 111099"
      ]
     },
     "metadata": {},
     "output_type": "display_data"
    },
    {
     "name": "stdout",
     "output_type": "stream",
     "text": [
      "An output file can be found in 'output' folder with name 'option1_recommendation.csv'\n",
      "(2500, 1)\n"
     ]
    },
    {
     "data": {
      "text/html": [
       "<div>\n",
       "<style scoped>\n",
       "    .dataframe tbody tr th:only-of-type {\n",
       "        vertical-align: middle;\n",
       "    }\n",
       "\n",
       "    .dataframe tbody tr th {\n",
       "        vertical-align: top;\n",
       "    }\n",
       "\n",
       "    .dataframe thead th {\n",
       "        text-align: right;\n",
       "    }\n",
       "</style>\n",
       "<table border=\"1\" class=\"dataframe\">\n",
       "  <thead>\n",
       "    <tr style=\"text-align: right;\">\n",
       "      <th></th>\n",
       "      <th>recommendedProducts</th>\n",
       "    </tr>\n",
       "    <tr>\n",
       "      <th>customerId</th>\n",
       "      <th></th>\n",
       "    </tr>\n",
       "  </thead>\n",
       "  <tbody>\n",
       "    <tr>\n",
       "      <th>1</th>\n",
       "      <td>FROZEN PIZZA,CHICKEN,WATER - CARBONATED/FLVRD ...</td>\n",
       "    </tr>\n",
       "    <tr>\n",
       "      <th>2</th>\n",
       "      <td>MEAT - SHELF STABLE,DINNER SAUSAGE,BEANS - CAN...</td>\n",
       "    </tr>\n",
       "    <tr>\n",
       "      <th>3</th>\n",
       "      <td>EGGS,VEGETABLES - ALL OTHERS,SALAD MIX,APPLES,...</td>\n",
       "    </tr>\n",
       "    <tr>\n",
       "      <th>4</th>\n",
       "      <td>SOUP,TROPICAL FRUIT,CANNED JUICES,POTATOES,ONI...</td>\n",
       "    </tr>\n",
       "    <tr>\n",
       "      <th>5</th>\n",
       "      <td>SOFT DRINKS,EGGS,TROPICAL FRUIT,ICE CREAM/MILK...</td>\n",
       "    </tr>\n",
       "  </tbody>\n",
       "</table>\n",
       "</div>"
      ],
      "text/plain": [
       "                                          recommendedProducts\n",
       "customerId                                                   \n",
       "1           FROZEN PIZZA,CHICKEN,WATER - CARBONATED/FLVRD ...\n",
       "2           MEAT - SHELF STABLE,DINNER SAUSAGE,BEANS - CAN...\n",
       "3           EGGS,VEGETABLES - ALL OTHERS,SALAD MIX,APPLES,...\n",
       "4           SOUP,TROPICAL FRUIT,CANNED JUICES,POTATOES,ONI...\n",
       "5           SOFT DRINKS,EGGS,TROPICAL FRUIT,ICE CREAM/MILK..."
      ]
     },
     "execution_count": 29,
     "metadata": {},
     "output_type": "execute_result"
    }
   ],
   "source": [
    "# pear_norm replace to final_model \n",
    "\n",
    "df_output = create_output(final_model, users_to_recommend, n_rec, print_csv=True)\n",
    "print(df_output.shape)\n",
    "df_output.head()"
   ]
  },
  {
   "cell_type": "code",
   "execution_count": 30,
   "metadata": {},
   "outputs": [],
   "source": [
    "def customer_recomendation(customer_id):\n",
    "    if customer_id not in df_output.index:\n",
    "        print('Customer not found.')\n",
    "        return customer_id\n",
    "    return df_output.loc[customer_id]"
   ]
  },
  {
   "cell_type": "code",
   "execution_count": 31,
   "metadata": {},
   "outputs": [
    {
     "data": {
      "text/plain": [
       "recommendedProducts    FROZEN PIZZA,CHICKEN,WATER - CARBONATED/FLVRD ...\n",
       "Name: 1, dtype: object"
      ]
     },
     "execution_count": 31,
     "metadata": {},
     "output_type": "execute_result"
    }
   ],
   "source": [
    "customer_recomendation(1)"
   ]
  }
 ],
 "metadata": {
  "kernelspec": {
   "display_name": "Python 3",
   "language": "python",
   "name": "python3"
  },
  "language_info": {
   "codemirror_mode": {
    "name": "ipython",
    "version": 3
   },
   "file_extension": ".py",
   "mimetype": "text/x-python",
   "name": "python",
   "nbconvert_exporter": "python",
   "pygments_lexer": "ipython3",
   "version": "3.7.6"
  }
 },
 "nbformat": 4,
 "nbformat_minor": 5
}
